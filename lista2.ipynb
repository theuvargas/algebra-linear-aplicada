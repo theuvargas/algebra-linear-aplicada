{
 "cells": [
  {
   "cell_type": "markdown",
   "id": "10b65434-d6ec-4655-8323-13ecc5419921",
   "metadata": {
    "jp-MarkdownHeadingCollapsed": true,
    "tags": []
   },
   "source": [
    "## 1."
   ]
  },
  {
   "cell_type": "markdown",
   "id": "3a52e055-c29c-40da-a49f-18572ca42cd9",
   "metadata": {},
   "source": [
    "### (a)"
   ]
  },
  {
   "cell_type": "markdown",
   "id": "9fc1aea4-d8da-4acb-80cd-2e7b4dc129df",
   "metadata": {},
   "source": [
    "Seja $A = \\begin{bmatrix}\n",
    "2 & 10 & 20 & -2 & 0 \\\\\n",
    "3 & 15 & 30 & -30 & 0 \\\\\n",
    "5 & 25 & 50 & -5 & 0 \\\\\n",
    "7 & 35 & 70 & -7 & 0\n",
    "\\end{bmatrix}$"
   ]
  },
  {
   "cell_type": "markdown",
   "id": "c22b755e-e20c-4ada-b0cf-6bfb1afb7f7a",
   "metadata": {},
   "source": [
    "A quarta coluna é linearmente independente das outras. Então o posto $p = 2$.\n",
    "\n",
    "$$\n",
    "A\n",
    "= \\begin{bmatrix}\n",
    "2 & -2 \\\\ 3 & -30 \\\\ 5 & -5 \\\\ 7 & -7\n",
    "\\end{bmatrix}\n",
    "\\times\n",
    "\\begin{bmatrix}\n",
    "1 & 5 & 10 & 0 & 0 \\\\ 0 & 0 & 0 & 1 & 0\n",
    "\\end{bmatrix}\n",
    "$$\n"
   ]
  },
  {
   "cell_type": "markdown",
   "id": "816f05c6-61d2-4dad-bf00-c65e9d838f81",
   "metadata": {},
   "source": [
    "### (b)"
   ]
  },
  {
   "cell_type": "markdown",
   "id": "25ff47b7-7f56-4713-ba94-f2298a57a984",
   "metadata": {},
   "source": [
    "Seja $A = \\begin{bmatrix}\n",
    "1 & 3 & 5 & 5000 & 31 \\\\ 4 & 5 & 9 & 9000 & 54 \\\\ 3 & 5 & 8 & 8000 & 53\n",
    "\\end{bmatrix}$"
   ]
  },
  {
   "cell_type": "markdown",
   "id": "387690c4-e5bd-433a-af86-23221a70f8d8",
   "metadata": {},
   "source": [
    "A quarta coluna é igual à terceira x 1000. A quinta é igual à primeira + segunda x 10.\n",
    "\n",
    "$$\n",
    "A = \\begin{bmatrix}1 & 3 & 5 \\\\ 4 & 5 & 9 \\\\ 3 & 5 & 8\\end{bmatrix}\n",
    "\\times\n",
    "\\begin{bmatrix}1 & 0 & 0 & 0 & 1 \\\\ 0 & 1 & 0 & 0 & 10 \\\\ 0 & 0 & 1 & 1000 & 0\\end{bmatrix}\n",
    "$$"
   ]
  },
  {
   "cell_type": "markdown",
   "id": "ae902e47-44d7-4d97-b7d8-cc847d0ddb53",
   "metadata": {
    "jp-MarkdownHeadingCollapsed": true,
    "tags": []
   },
   "source": [
    "## 2."
   ]
  },
  {
   "cell_type": "markdown",
   "id": "50a4574f-8800-4124-9220-094cd92dbec1",
   "metadata": {},
   "source": [
    "$$\n",
    "U = \\begin{bmatrix}\n",
    "2 & 10 & 20 & 200 & -10 \\\\ -3 & -15 & -30 & -300 & 15 \\\\ 5 & 25 & 50 & 500 & -25 \\\\ 7 & 35 & 70 & 700 & -35\n",
    "\\end{bmatrix}\n",
    "$$"
   ]
  },
  {
   "cell_type": "markdown",
   "id": "1ab6cd64-b193-4de8-9c09-e8ea47d78304",
   "metadata": {},
   "source": [
    "Todas as colunas podem ser expressas pela primeira.\n",
    "\n",
    "$$\n",
    "U = \\begin{bmatrix}2 \\\\ -3 \\\\ 5 \\\\ 7\\end{bmatrix}\n",
    "\\times\n",
    "\\begin{bmatrix}1 & 5 & 10 & 100 & -5\\end{bmatrix}\n",
    "$$\n",
    "\n",
    "Os valores do vetor [2 -3 5 7] são o quanto cada um dos 4 usuários gosta de comédia.\n",
    "\n",
    "Os valores da matriz 1x5 representam quanta comédia cada filme possui."
   ]
  },
  {
   "cell_type": "markdown",
   "id": "50721796-dad1-4bc5-a11f-ffa2a5769882",
   "metadata": {
    "jp-MarkdownHeadingCollapsed": true,
    "tags": []
   },
   "source": [
    "## 3."
   ]
  },
  {
   "cell_type": "markdown",
   "id": "a0f48762-874c-49d7-89e2-7d56ba865803",
   "metadata": {},
   "source": [
    "### (a)"
   ]
  },
  {
   "cell_type": "markdown",
   "id": "a149adb6-43a4-4ed1-a3c1-53d6c4160943",
   "metadata": {},
   "source": [
    "$$\n",
    "\\begin{bmatrix}0.9 & 0.1 \\\\ 0.8 & 0.2 \\\\ 0.3 & 0.7 \\\\ 0.6 & 0.4 \\\\ 0 & 1\\end{bmatrix}\n",
    "\\times\n",
    "\\begin{bmatrix}0.9 & 0.1 & 0.5 & 0 & 0.2 \\\\ 0.1 & 0.9 & 0.5 & 1 & 0.8\\end{bmatrix}\n",
    "=\n",
    "\\begin{bmatrix}0.82 & 0.18 & 0.5 & 0.1 & 0.26 \\\\ 0.74 & 0.26 & 0.5 & 0.2 & 0.32 \\\\ 0.34 & 0.66 & 0.5 & 0.7 & 0.62 \\\\ 0.58 & 0.42 & 0.5 & 0.4 & 0.44 \\\\ 0.1 & 0.9 & 0.5 & 1 & 0.8\\end{bmatrix}\n",
    "$$"
   ]
  },
  {
   "cell_type": "markdown",
   "id": "2beb9b5a-d23b-4365-993b-ec776ff3160d",
   "metadata": {},
   "source": [
    "### (b)"
   ]
  },
  {
   "cell_type": "markdown",
   "id": "813de71c-171a-4945-a8c6-b05e5db2a6a6",
   "metadata": {},
   "source": [
    "No olho, parece que o usuário A e B são os mais parecidos."
   ]
  },
  {
   "cell_type": "code",
   "execution_count": 1,
   "id": "02e508ce-e8fd-4ac2-a77b-e8a6023f3acc",
   "metadata": {},
   "outputs": [],
   "source": [
    "import LinearAlgebra"
   ]
  },
  {
   "cell_type": "code",
   "execution_count": 14,
   "id": "575a91b1-2b70-4533-afa5-2ee4779c6866",
   "metadata": {},
   "outputs": [
    {
     "name": "stdout",
     "output_type": "stream",
     "text": [
      "A e B: 0.15779733838059498\n",
      "A e C: 0.97\n",
      "A e D: 0.48259714048054614\n",
      "A e E: 1.4574292435655323\n",
      "B e C: 0.812403840463596\n",
      "B e D: 0.32496153618543844\n",
      "B e E: 1.2998461447417538\n",
      "C e D: 0.48744230427815755\n",
      "C e E: 0.4874423042781577\n",
      "D e E: 0.9748846085563152\n"
     ]
    }
   ],
   "source": [
    "A = [.82 .19 .5 .1 .26]\n",
    "B = [.74 .26 .5 .2 .32]\n",
    "C = [.34 .66 .5 .7 .62]\n",
    "D = [.58 .42 .5 .4 .44]\n",
    "E = [.1 .9 .5 1 .8]\n",
    "\n",
    "combinacoes = [(\"A e B\",A,B), (\"A e C\",A,C), (\"A e D\",A,D), (\"A e E\",A,E), (\"B e C\",B,C), (\"B e D\",B,D), (\"B e E\",B,E), (\"C e D\",C,D), (\"C e E\",C,E), (\"D e E\",D,E)]\n",
    "\n",
    "for (combinacao, v1, v2) in combinacoes\n",
    "    print(combinacao * \": \")\n",
    "    println(LinearAlgebra.norm(v1-v2))\n",
    "end"
   ]
  },
  {
   "cell_type": "markdown",
   "id": "0cc552c9-0997-4dbf-b56d-1e776543b6fc",
   "metadata": {},
   "source": [
    "A menor distância euclidiana ocorre entre os vetores A e B. Esses são, então, os usuários mais parecidos."
   ]
  },
  {
   "cell_type": "markdown",
   "id": "772858ad-3c2e-4439-bc36-c35bc5f9b89e",
   "metadata": {
    "jp-MarkdownHeadingCollapsed": true,
    "tags": []
   },
   "source": [
    "## 4."
   ]
  },
  {
   "cell_type": "markdown",
   "id": "1c43e4ea-1518-45a8-837c-dd875f53569c",
   "metadata": {
    "jp-MarkdownHeadingCollapsed": true,
    "tags": []
   },
   "source": [
    "### (a)"
   ]
  },
  {
   "cell_type": "markdown",
   "id": "78ea857b-b1dc-4da6-8289-5d3386387e9c",
   "metadata": {},
   "source": [
    "$\n",
    "A = \\begin{bmatrix}0 & 1 & 3 \\\\ 3 & 1 & 0\\end{bmatrix}\n",
    "$"
   ]
  },
  {
   "cell_type": "code",
   "execution_count": 52,
   "id": "b815490f-edb7-40fa-b307-59da5c023939",
   "metadata": {},
   "outputs": [
    {
     "data": {
      "text/plain": [
       "LinearAlgebra.SVD{Float64, Float64, Matrix{Float64}, Vector{Float64}}\n",
       "U factor:\n",
       "2×2 Matrix{Float64}:\n",
       " -0.707107  -0.707107\n",
       " -0.707107   0.707107\n",
       "singular values:\n",
       "2-element Vector{Float64}:\n",
       " 3.3166247903553994\n",
       " 3.0\n",
       "Vt factor:\n",
       "2×3 Matrix{Float64}:\n",
       " -0.639602  -0.426401     -0.639602\n",
       "  0.707107   1.52956e-16  -0.707107"
      ]
     },
     "execution_count": 52,
     "metadata": {},
     "output_type": "execute_result"
    }
   ],
   "source": [
    "U, S, V = LinearAlgebra.svd([0 1 3; 3 1 0])"
   ]
  },
  {
   "cell_type": "markdown",
   "id": "06db7790-9cec-4e8c-97c6-121b759b0547",
   "metadata": {},
   "source": [
    "Testando para ver se $USV^t$ resulta em $A$"
   ]
  },
  {
   "cell_type": "code",
   "execution_count": 45,
   "id": "d5ba2bc0-88bf-4175-a999-8c0d608fa9de",
   "metadata": {},
   "outputs": [
    {
     "data": {
      "text/plain": [
       "2×3 Matrix{Float64}:\n",
       " -1.131e-16  1.0   3.0\n",
       "  3.0        1.0  -5.84128e-16"
      ]
     },
     "execution_count": 45,
     "metadata": {},
     "output_type": "execute_result"
    }
   ],
   "source": [
    "U*LinearAlgebra.diagm(S)*V'"
   ]
  },
  {
   "cell_type": "markdown",
   "id": "fa7e4884-e8fa-4210-bd33-7dbface2c698",
   "metadata": {},
   "source": [
    "Criando a melhor matriz de posto 1"
   ]
  },
  {
   "cell_type": "code",
   "execution_count": 56,
   "id": "0ef0b173-4866-4115-a128-2661dd9a6300",
   "metadata": {},
   "outputs": [
    {
     "data": {
      "text/plain": [
       "2×3 Matrix{Float64}:\n",
       " 1.5  1.0  1.5\n",
       " 1.5  1.0  1.5"
      ]
     },
     "execution_count": 56,
     "metadata": {},
     "output_type": "execute_result"
    }
   ],
   "source": [
    "U[:,1] * S[1] * V[:,1]'"
   ]
  },
  {
   "cell_type": "code",
   "execution_count": 80,
   "id": "8fd4ebba-67c5-4c45-976d-39a42c4bcec9",
   "metadata": {},
   "outputs": [
    {
     "name": "stdout",
     "output_type": "stream",
     "text": [
      "a matriz b seria:\n",
      "[-2.3452078799117153, -2.345207879911714]\n",
      "e a matriz c^t seria:\n",
      "[-0.6396021490668311 -0.42640143271122094 -0.6396021490668314]\n"
     ]
    }
   ],
   "source": [
    "println(\"a matriz b seria:\")\n",
    "println(U[:,1] * S[1])\n",
    "println(\"e a matriz c^t seria:\")\n",
    "println(V[:,1]')"
   ]
  },
  {
   "cell_type": "markdown",
   "id": "cd88bcbc-c370-4e79-82ab-7d59ed5f8b3c",
   "metadata": {},
   "source": [
    "Erro da matriz:"
   ]
  },
  {
   "cell_type": "code",
   "execution_count": 51,
   "id": "47beeebf-323d-4061-855a-15cbb4f3e5ad",
   "metadata": {},
   "outputs": [
    {
     "data": {
      "text/plain": [
       "3.0"
      ]
     },
     "execution_count": 51,
     "metadata": {},
     "output_type": "execute_result"
    }
   ],
   "source": [
    "LinearAlgebra.norm([0 1 3; 3 1 0] - U[:,1] * S[1] * V[:,1]')"
   ]
  },
  {
   "cell_type": "markdown",
   "id": "88808f4d-7983-442e-861b-9ecff95343be",
   "metadata": {
    "jp-MarkdownHeadingCollapsed": true,
    "tags": []
   },
   "source": [
    "### (b)"
   ]
  },
  {
   "cell_type": "markdown",
   "id": "50f611f9-7c0d-49f8-9217-c89229525af8",
   "metadata": {},
   "source": [
    "$\n",
    "A = \\begin{bmatrix}0 & 1 & 3 & 2 \\\\ 2 & 3 & 1 & 0\\end{bmatrix}\n",
    "$"
   ]
  },
  {
   "cell_type": "markdown",
   "id": "271f9aba-e9fb-4f46-9afe-c2803b1ddda3",
   "metadata": {},
   "source": [
    "Vou criar uma função para o processo acima:"
   ]
  },
  {
   "cell_type": "code",
   "execution_count": 6,
   "id": "5ad33053-613c-4a4f-b5cf-1f98f4ffc5ed",
   "metadata": {},
   "outputs": [
    {
     "data": {
      "text/plain": [
       "melhor_matriz_rank_n (generic function with 1 method)"
      ]
     },
     "execution_count": 6,
     "metadata": {},
     "output_type": "execute_result"
    }
   ],
   "source": [
    "function melhor_matriz_rank_n(A, n)\n",
    "    U, S, V = LinearAlgebra.svd(A)\n",
    "    return U[:,1:n] * LinearAlgebra.diagm(S)[1:n, 1:n] * V[:,1:n]'\n",
    "end"
   ]
  },
  {
   "cell_type": "code",
   "execution_count": 84,
   "id": "c113ca22-c3f7-409c-80d4-cf714c23a097",
   "metadata": {},
   "outputs": [
    {
     "data": {
      "text/plain": [
       "2×4 Matrix{Float64}:\n",
       " 1.0  2.0  2.0  1.0\n",
       " 1.0  2.0  2.0  1.0"
      ]
     },
     "execution_count": 84,
     "metadata": {},
     "output_type": "execute_result"
    }
   ],
   "source": [
    "melhor_matriz_rank_n([0 1 3 2; 2 3 1 0], 1)"
   ]
  },
  {
   "cell_type": "markdown",
   "id": "44446145-8f05-4acd-96ee-e2015201609b",
   "metadata": {
    "jp-MarkdownHeadingCollapsed": true,
    "tags": []
   },
   "source": [
    "### (c)"
   ]
  },
  {
   "attachments": {
    "1f5b9285-c8f1-418b-b01d-62bf9ac46648.png": {
     "image/png": "[encoded data removed]"
    }
   },
   "cell_type": "markdown",
   "id": "ce7c6550-b303-4adb-a448-5ce565a7e4b4",
   "metadata": {
    "tags": []
   },
   "source": [
    "![image.png](attachment:1f5b9285-c8f1-418b-b01d-62bf9ac46648.png)"
   ]
  },
  {
   "cell_type": "markdown",
   "id": "421ebea9-82fd-454c-beb3-b46a3692859e",
   "metadata": {
    "jp-MarkdownHeadingCollapsed": true,
    "tags": []
   },
   "source": [
    "## 5."
   ]
  },
  {
   "cell_type": "markdown",
   "id": "03badf5d-79dd-48a9-87e3-44e2acfc4452",
   "metadata": {},
   "source": [
    "$$\n",
    "V = \\begin{bmatrix}\n",
    "1 & 1 & 11 & 101 & 11 & 2 & 13 & 2 \\\\\n",
    "1 & 2 & 12 & 102 & 21 & 3 & 10 & 2 \\\\\n",
    "1 & 3 & 13 & 103 & 31 & 4 & 7 & 2 \\\\\n",
    "1 & 4 & 14 & 104 & 41 & 5 & 4 & 3 \\\\\n",
    "\\end{bmatrix}\n",
    "$$"
   ]
  },
  {
   "cell_type": "code",
   "execution_count": 96,
   "id": "12021899-dd2a-4af0-b418-30bb0aef1245",
   "metadata": {
    "collapsed": true,
    "jupyter": {
     "outputs_hidden": true
    },
    "tags": []
   },
   "outputs": [
    {
     "name": "stderr",
     "output_type": "stream",
     "text": [
      "\u001b[32m\u001b[1m    Updating\u001b[22m\u001b[39m registry at `C:\\Users\\Mathe\\.julia\\registries\\General.toml`\n",
      "\u001b[32m\u001b[1m   Resolving\u001b[22m\u001b[39m package versions...\n",
      "\u001b[32m\u001b[1m   Installed\u001b[22m\u001b[39m RowEchelon ─ v0.2.1\n",
      "\u001b[32m\u001b[1m    Updating\u001b[22m\u001b[39m `C:\\Users\\Mathe\\.julia\\environments\\v1.8\\Project.toml`\n",
      " \u001b[90m [af85af4c] \u001b[39m\u001b[92m+ RowEchelon v0.2.1\u001b[39m\n",
      "\u001b[32m\u001b[1m    Updating\u001b[22m\u001b[39m `C:\\Users\\Mathe\\.julia\\environments\\v1.8\\Manifest.toml`\n",
      " \u001b[90m [af85af4c] \u001b[39m\u001b[92m+ RowEchelon v0.2.1\u001b[39m\n",
      "\u001b[32m\u001b[1mPrecompiling\u001b[22m\u001b[39m project...\n",
      "\u001b[32m  ✓ \u001b[39mRowEchelon\n",
      "  1 dependency successfully precompiled in 4 seconds. 131 already precompiled.\n"
     ]
    }
   ],
   "source": [
    "import Pkg\n",
    "Pkg.add(\"RowEchelon\")"
   ]
  },
  {
   "cell_type": "code",
   "execution_count": 97,
   "id": "863832b0-7937-41da-bc02-cfe3853fab0a",
   "metadata": {},
   "outputs": [],
   "source": [
    "import RowEchelon # eliminação gaussiana"
   ]
  },
  {
   "cell_type": "code",
   "execution_count": 99,
   "id": "f25857df-fe06-4313-8a45-9ceeabaf2a2f",
   "metadata": {},
   "outputs": [
    {
     "data": {
      "text/plain": [
       "4×8 Matrix{Int64}:\n",
       " 1  1  11  101  11  2  13  2\n",
       " 1  2  12  102  21  3  10  2\n",
       " 1  3  13  103  31  4   7  2\n",
       " 1  4  14  104  41  5   4  3"
      ]
     },
     "execution_count": 99,
     "metadata": {},
     "output_type": "execute_result"
    }
   ],
   "source": [
    "M = [1 1 11 101 11 2 13 2; 1 2 12 102 21 3 10 2; 1 3 13 103 31 4 7 2; 1 4 14 104 41 5 4 3]"
   ]
  },
  {
   "cell_type": "code",
   "execution_count": 100,
   "id": "66186374-e481-4968-82f2-90da2a3d5d6c",
   "metadata": {},
   "outputs": [
    {
     "data": {
      "text/plain": [
       "4×8 Matrix{Float64}:\n",
       " 1.0  0.0  10.0  100.0   1.0  1.0  16.0  0.0\n",
       " 0.0  1.0   1.0    1.0  10.0  1.0  -3.0  0.0\n",
       " 0.0  0.0   0.0    0.0   0.0  0.0   0.0  1.0\n",
       " 0.0  0.0   0.0    0.0   0.0  0.0   0.0  0.0"
      ]
     },
     "execution_count": 100,
     "metadata": {},
     "output_type": "execute_result"
    }
   ],
   "source": [
    "RowEchelon.rref(M)"
   ]
  },
  {
   "cell_type": "markdown",
   "id": "8c4fbaec-1ec9-4286-8a46-33498e196f32",
   "metadata": {},
   "source": [
    "Depois da eliminação gaussiana, temos 3 linhas não-nulas. Portanto a dimensão de V é 3. A base é:"
   ]
  },
  {
   "cell_type": "code",
   "execution_count": 102,
   "id": "33f959a2-72e5-4915-85b7-e2eb96634ce3",
   "metadata": {},
   "outputs": [
    {
     "data": {
      "text/plain": [
       "8×3 adjoint(::Matrix{Int64}) with eltype Int64:\n",
       "   1   0  0\n",
       "   0   1  0\n",
       "  10   1  0\n",
       " 100   1  0\n",
       "   1  10  0\n",
       "   1   1  0\n",
       "  16  -3  0\n",
       "   0   0  1"
      ]
     },
     "execution_count": 102,
     "metadata": {},
     "output_type": "execute_result"
    }
   ],
   "source": [
    "[1 0 10 100 1 1 16 0; 0 1 1 1 10 1 -3 0; 0 0 0 0 0 0 0 1]'"
   ]
  },
  {
   "cell_type": "markdown",
   "id": "3d21470f-5930-4069-b69b-30aaeaaa6bac",
   "metadata": {},
   "source": [
    "Uma outra base pode ser igual a essa mas normalizada:"
   ]
  },
  {
   "cell_type": "code",
   "execution_count": 109,
   "id": "0e6cc6da-106f-41f8-afd4-9e9d8f955e64",
   "metadata": {},
   "outputs": [
    {
     "data": {
      "text/plain": [
       "8×3 Matrix{Float64}:\n",
       " 0.00982519   0.0        0.0\n",
       " 0.0          0.0940721  0.0\n",
       " 0.0982519    0.0940721  0.0\n",
       " 0.982519     0.0940721  0.0\n",
       " 0.00982519   0.940721   0.0\n",
       " 0.00982519   0.0940721  0.0\n",
       " 0.157203    -0.282216   0.0\n",
       " 0.0          0.0        1.0"
      ]
     },
     "execution_count": 109,
     "metadata": {},
     "output_type": "execute_result"
    }
   ],
   "source": [
    "[LinearAlgebra.normalize([1 0 10 100 1 1 16 0]') LinearAlgebra.normalize([0 1 1 1 10 1 -3 0]') [0 0 0 0 0 0 0 1]']"
   ]
  },
  {
   "cell_type": "markdown",
   "id": "45a02ffe-3fe2-456b-883e-52aaf1475cdd",
   "metadata": {
    "jp-MarkdownHeadingCollapsed": true,
    "tags": []
   },
   "source": [
    "## 6."
   ]
  },
  {
   "cell_type": "markdown",
   "id": "bb8ac430-f54d-4818-a741-0de6b48e2195",
   "metadata": {},
   "source": [
    "$$\n",
    "posto(A^t) = posto(A)\n",
    "$$"
   ]
  },
  {
   "cell_type": "markdown",
   "id": "12e93796-8e47-442b-944f-1cdf51910f99",
   "metadata": {},
   "source": [
    "Todas as matrizes podem ser triangularizadas por operações de linha, no processo conhecido como eliminação gaussiana.\n",
    "\n",
    "Então, seja $A$ uma matriz triangular.\n",
    "\n",
    "$$ A = \n",
    "\\begin{bmatrix}\n",
    "x_{11} & x_{12} & x_{13} \\\\\n",
    "0 & x_{22} & x_{23} \\\\\n",
    "0 & 0 & x_{33} \\\\\n",
    "0 & 0 & 0 \\\\\n",
    "\\end{bmatrix}\n",
    "$$\n",
    "\n",
    "Através de mais operações de linhas, ela pode ser convertida numa matriz diagonal. No matriz de exemplo acima, basta usar $x_{33}$ para zerar a terceira coluna e assim por diante. Por fim, teremos uma matriz da forma:\n",
    "\n",
    "$$\n",
    "A = \n",
    "\\begin{bmatrix}\n",
    "x_{11} & 0 & 0 \\\\\n",
    "0 & x_{22} & 0 \\\\\n",
    "0 & 0 & x_{33} \\\\\n",
    "0 & 0 & 0 \\\\\n",
    "\\end{bmatrix}\n",
    "$$\n",
    "\n",
    "Como o número de linhas e colunas de $A$ e $A^t$ é igual, o posto delas também será."
   ]
  },
  {
   "cell_type": "markdown",
   "id": "97e86a3e-ca6c-4c20-aabf-af9b9f844c18",
   "metadata": {
    "jp-MarkdownHeadingCollapsed": true,
    "tags": []
   },
   "source": [
    "## 7."
   ]
  },
  {
   "cell_type": "markdown",
   "id": "a2cb2317-1e32-435d-88cc-544dff1daa75",
   "metadata": {},
   "source": [
    "$$\n",
    "a_2 = \\begin{bmatrix}\n",
    "3\\\\\n",
    "1\\\\\n",
    "\\end{bmatrix},\n",
    "a_4 = \\begin{bmatrix}\n",
    "2\\\\\n",
    "3\\\\\n",
    "\\end{bmatrix}\n",
    "$$"
   ]
  },
  {
   "cell_type": "markdown",
   "id": "c9a9bdae-9981-4dec-86c2-b5edf7a2d7e1",
   "metadata": {},
   "source": [
    "https://en.wikipedia.org/wiki/Change_of_basis"
   ]
  },
  {
   "cell_type": "markdown",
   "id": "1eb440d8-da8a-4fc3-a279-2d5f5cea1da0",
   "metadata": {},
   "source": [
    "$$\n",
    "x = C y\n",
    "$$"
   ]
  },
  {
   "cell_type": "markdown",
   "id": "6818711d-c2bc-4b40-98a1-0a10cc4d867d",
   "metadata": {},
   "source": [
    "Vou achar a matriz de conversão de base $C$."
   ]
  },
  {
   "cell_type": "markdown",
   "id": "5f985e9c-6a44-45ad-b423-75f5ad24ac09",
   "metadata": {},
   "source": [
    "$$\n",
    "\\begin{bmatrix}\n",
    "1 & 0\\\\\n",
    "0 & 1\\\\\n",
    "\\end{bmatrix} =\n",
    "\\begin{bmatrix}\n",
    "c_{11} & c_{12}\\\\\n",
    "c_{21} & c_{22}\\\\\n",
    "\\end{bmatrix}\n",
    "\\begin{bmatrix}\n",
    "3 & 2\\\\\n",
    "1 & 3\\\\\n",
    "\\end{bmatrix} \\\\\n",
    "$$"
   ]
  },
  {
   "cell_type": "code",
   "execution_count": 159,
   "id": "b9ebcb32-44c3-4ae3-9b65-346911ef7fc3",
   "metadata": {},
   "outputs": [
    {
     "data": {
      "text/plain": [
       "2×2 Matrix{Float64}:\n",
       "  0.428571  -0.285714\n",
       " -0.142857   0.428571"
      ]
     },
     "execution_count": 159,
     "metadata": {},
     "output_type": "execute_result"
    }
   ],
   "source": [
    "# resolve o sistema acima\n",
    "matriz_conversao = [1 0; 0 1] / [3 2; 1 3]"
   ]
  },
  {
   "cell_type": "code",
   "execution_count": 160,
   "id": "513a3697-eab6-4620-babc-3a7159f21fd6",
   "metadata": {},
   "outputs": [
    {
     "data": {
      "text/plain": [
       "2×2 Matrix{Float64}:\n",
       " 1.0  -1.11022e-16\n",
       " 0.0   1.0"
      ]
     },
     "execution_count": 160,
     "metadata": {},
     "output_type": "execute_result"
    }
   ],
   "source": [
    "# verifica a solução\n",
    "matriz_conversao * [3 2; 1 3]"
   ]
  },
  {
   "cell_type": "code",
   "execution_count": 161,
   "id": "780fad2b-1cba-490a-98cf-63f35b93d046",
   "metadata": {},
   "outputs": [
    {
     "data": {
      "text/plain": [
       "2×6 Matrix{Float64}:\n",
       "  0.428571  1.0  -0.285714  -1.11022e-16   0.857143  -1.71429\n",
       " -0.142857  0.0   0.428571   1.0          -1.28571    0.571429"
      ]
     },
     "execution_count": 161,
     "metadata": {},
     "output_type": "execute_result"
    }
   ],
   "source": [
    "# converte os vetores da base [1 0; 0 1] para a base [a2 a4]\n",
    "matriz_conversao * [1 0; 3 1; 0 1; 2 3; 0 -3; -4 0]'"
   ]
  },
  {
   "cell_type": "markdown",
   "id": "eda6c90e-950b-4630-906b-bbd5ca032bb7",
   "metadata": {},
   "source": [
    "$$\n",
    "A = \\begin{bmatrix}\n",
    "3 & 2\\\\\n",
    "1 & 3\\\\\n",
    "\\end{bmatrix}\n",
    "\\begin{bmatrix}\n",
    "0.43 & 1 & -0.29 & 0 & 0.86 & -1.71\\\\\n",
    "-0.14 & 0 & 0.43 & 1 & -1.29 & 0.57\\\\\n",
    "\\end{bmatrix}\n",
    "$$"
   ]
  },
  {
   "cell_type": "markdown",
   "id": "a96bf47a-bb94-4a02-b279-ab3c86db7efa",
   "metadata": {
    "jp-MarkdownHeadingCollapsed": true,
    "tags": []
   },
   "source": [
    "## 8."
   ]
  },
  {
   "cell_type": "markdown",
   "id": "3c02a855-41e6-4fe9-bf08-1ddac801679b",
   "metadata": {},
   "source": [
    "a) Significa que eles não possuem nenhum sintoma em comum."
   ]
  },
  {
   "cell_type": "markdown",
   "id": "ccebad93-300a-42f2-beba-8d036974d946",
   "metadata": {},
   "source": [
    "b) Que não há nenhum paciente com esses dois sintomas."
   ]
  },
  {
   "cell_type": "markdown",
   "id": "a34f6840-ce14-4f15-babf-97f49f34b1bd",
   "metadata": {},
   "source": [
    "c) Significa que eles têm os mesmo sintomas."
   ]
  },
  {
   "cell_type": "markdown",
   "id": "c0c2c545-b321-4b19-8cb1-b88196a62f1b",
   "metadata": {},
   "source": [
    "d) Significa que eles afetam os mesmos pacientes."
   ]
  },
  {
   "cell_type": "markdown",
   "id": "f2449ef8-a777-4541-b35e-c04bb592924b",
   "metadata": {
    "jp-MarkdownHeadingCollapsed": true,
    "tags": []
   },
   "source": [
    "## 9."
   ]
  },
  {
   "cell_type": "code",
   "execution_count": 3,
   "id": "1858a4fd-f1a9-4307-b58b-8ba95365e1ad",
   "metadata": {},
   "outputs": [
    {
     "data": {
      "text/plain": [
       "3"
      ]
     },
     "execution_count": 3,
     "metadata": {},
     "output_type": "execute_result"
    }
   ],
   "source": [
    "LinearAlgebra.rank([\n",
    "    0 0 1 0 0 0 0 0 0 0 0\n",
    "    0 0 1 0 0 1 1 1 1 1 1\n",
    "    1 1 1 1 1 0 0 0 0 0 0\n",
    "    0 0 1 0 0 1 1 1 1 1 1\n",
    "    0 0 1 0 0 0 0 0 0 0 0\n",
    "    1 1 1 1 1 1 1 1 1 1 1\n",
    "    0 0 0 0 0 0 0 0 0 0 0\n",
    "    1 1 1 1 1 1 1 1 1 1 1\n",
    "    0 0 0 0 0 0 0 0 0 0 0\n",
    "])"
   ]
  },
  {
   "cell_type": "markdown",
   "id": "730e505b-5c78-417f-bda5-3216c2e99eea",
   "metadata": {},
   "source": [
    "(a) A bandeira da Grécia tem posto 3. A minha interpretação para $B$ e $C$ é a que $B$ contém os \"padrões\" da bandeira, e $C$ contém a intensidade dos padrões para cada coluna. No caso dessa questão, como a bandeira é em preto e branco, não seria a intensidade, mas sim se o padrão está ou não presente em uma coluna específica da bandeira.\n",
    "\n",
    "Essa bandeira tem posto 3 pois ela tem 3 padrões diferente: 2 na parte da cruz, à esquerda da bandeira e 1 padrão à direita, e nenhum padrão pode ser representado como combinação dos outros dois."
   ]
  },
  {
   "cell_type": "markdown",
   "id": "c0d64634-3bb4-43db-b35e-784597efe493",
   "metadata": {},
   "source": [
    "(b) Alemanha e França. Ambas têm somente um padrão (basicamente o mesmo, mas transposto)."
   ]
  },
  {
   "cell_type": "markdown",
   "id": "3cd130c3-a1a4-4c09-9062-1e8b9deba31c",
   "metadata": {},
   "source": [
    "(c) Inglaterra e Dinamarca. As duas bandeiras têm dois padrões: a parte da cruz e a parte fora dela."
   ]
  },
  {
   "cell_type": "markdown",
   "id": "022efc1f-e2b3-4c44-b541-f6369e294101",
   "metadata": {},
   "source": [
    "(d) Suíça e Noruega. Ambas têm 3 padrões."
   ]
  },
  {
   "cell_type": "markdown",
   "id": "677fbd0e-f190-441d-ab55-0a40b28f9574",
   "metadata": {
    "jp-MarkdownHeadingCollapsed": true,
    "tags": []
   },
   "source": [
    "## 11."
   ]
  },
  {
   "cell_type": "markdown",
   "id": "ab12dce0-0e8a-4617-bb73-79af9aa7301d",
   "metadata": {},
   "source": [
    "Definindo M"
   ]
  },
  {
   "cell_type": "code",
   "execution_count": 2,
   "id": "e3884ddf-729f-43c4-990c-7bf4da758c1a",
   "metadata": {},
   "outputs": [
    {
     "data": {
      "text/plain": [
       "5×5 adjoint(::Matrix{Float64}) with eltype Float64:\n",
       " 0.82  0.74  0.34  0.58  0.1\n",
       " 0.18  0.26  0.69  0.42  0.9\n",
       " 0.5   0.5   0.5   0.5   0.5\n",
       " 0.1   0.2   0.7   0.4   1.0\n",
       " 0.26  0.32  0.62  0.44  0.8"
      ]
     },
     "execution_count": 2,
     "metadata": {},
     "output_type": "execute_result"
    }
   ],
   "source": [
    "M = [.82 .18 .5 .1 .26; .74 .26 .5 .2 .32; .34 .69 .5 .7 .62; .58 .42 .5 .4 .44; .1 .9 .5 1 .8]'"
   ]
  },
  {
   "cell_type": "markdown",
   "id": "d1501997-ad36-4675-9a37-aa8c590351ac",
   "metadata": {},
   "source": [
    "### (a)"
   ]
  },
  {
   "cell_type": "code",
   "execution_count": 62,
   "id": "9125c84e-846a-4d53-b90e-f6c2876c19d8",
   "metadata": {},
   "outputs": [
    {
     "data": {
      "text/plain": [
       "alternating_least_squares (generic function with 1 method)"
      ]
     },
     "execution_count": 62,
     "metadata": {},
     "output_type": "execute_result"
    }
   ],
   "source": [
    "function alternating_least_squares(A,k) #determine B(m,k) e C(k,n) tal que A(m,n) é aproximadamente B*C\n",
    "    m,n=size(A)\n",
    "    local C\n",
    "    B=randn(m,k) #matrix aleatória m por k \"sorteio da base inicial\"\n",
    "    #alternating least squares\n",
    "    for i=1:100\n",
    "        C=B\\A\n",
    "        B=A/C    \n",
    "    end\n",
    "\n",
    "    return B,C\n",
    "end"
   ]
  },
  {
   "cell_type": "code",
   "execution_count": 73,
   "id": "84dd02aa-a781-4af0-842c-fdf377865f9f",
   "metadata": {},
   "outputs": [
    {
     "data": {
      "text/plain": [
       "([-4.146005325791473 -0.5623368399361138; 3.848016392326439 3.4021050658042817; … ; 4.781076814786026 3.8440205995814214; 2.7972807835465816 2.864830057466414], [-0.24216158600102317 -0.22319527567939698 … -0.18526265503614475 -0.07146479310638809; 0.3270826239091606 0.3293934766964969 … 0.33401518227116966 0.3478802989951879])"
      ]
     },
     "execution_count": 73,
     "metadata": {},
     "output_type": "execute_result"
    }
   ],
   "source": [
    "B, C = alternating_least_squares(M, 2)"
   ]
  },
  {
   "cell_type": "code",
   "execution_count": 75,
   "id": "edb96dca-887b-4fa3-b6b6-ceeffb871345",
   "metadata": {},
   "outputs": [
    {
     "data": {
      "text/plain": [
       "5×5 Matrix{Float64}:\n",
       " 0.820073   0.740139  0.338859  0.580271  0.100668\n",
       " 0.180928   0.261772  0.675424  0.423461  0.908528\n",
       " 0.499827   0.499669  0.502724  0.499353  0.498407\n",
       " 0.0995192  0.199082  0.707554  0.398206  0.99558\n",
       " 0.259642   0.319316  0.625622  0.438665  0.796711"
      ]
     },
     "execution_count": 75,
     "metadata": {},
     "output_type": "execute_result"
    }
   ],
   "source": [
    "B * C"
   ]
  },
  {
   "cell_type": "markdown",
   "id": "8282a27b-3f81-4d51-94b7-d05a090e1fef",
   "metadata": {},
   "source": [
    "### (b)"
   ]
  },
  {
   "cell_type": "code",
   "execution_count": 74,
   "id": "03ae2ea6-cbdd-4880-801b-3a01fc4790a6",
   "metadata": {},
   "outputs": [
    {
     "data": {
      "text/plain": [
       "5×2 Matrix{Float64}:\n",
       " -4.14601   -0.562337\n",
       "  3.84802    3.40211\n",
       " -0.178413   1.39604\n",
       "  4.78108    3.84402\n",
       "  2.79728    2.86483"
      ]
     },
     "execution_count": 74,
     "metadata": {},
     "output_type": "execute_result"
    }
   ],
   "source": [
    "B"
   ]
  },
  {
   "cell_type": "markdown",
   "id": "1c67c218-353c-43fd-99c8-e571edffe65a",
   "metadata": {},
   "source": [
    "Usando a primeira coluna como eixo x e a segunda como eixo y:"
   ]
  },
  {
   "attachments": {
    "b416c601-a271-4690-8afb-b1ddcf8f17ed.png": {
     "image/png": "[encoded data removed]"
    }
   },
   "cell_type": "markdown",
   "id": "8d2ae6d8-7626-47a8-9cb4-0499ee7d4fa4",
   "metadata": {},
   "source": [
    "![image.png](attachment:b416c601-a271-4690-8afb-b1ddcf8f17ed.png)"
   ]
  },
  {
   "cell_type": "markdown",
   "id": "a9678e50-f9f4-4810-ac44-37cdd7a22589",
   "metadata": {},
   "source": [
    "### (c)"
   ]
  },
  {
   "cell_type": "markdown",
   "id": "0e5d7a5c-e976-404c-a097-37ef9ee21f4d",
   "metadata": {},
   "source": [
    "Do gráfico, é claro que o filme mais próximo é The Hobbit."
   ]
  },
  {
   "cell_type": "markdown",
   "id": "99985491-67f7-4a71-a0d4-8b8295903b4e",
   "metadata": {
    "jp-MarkdownHeadingCollapsed": true,
    "tags": []
   },
   "source": [
    "## 12."
   ]
  },
  {
   "cell_type": "code",
   "execution_count": 76,
   "id": "a25aca04-7a2d-41da-835d-fe46c6a379c6",
   "metadata": {},
   "outputs": [
    {
     "data": {
      "text/plain": [
       "5×5 Matrix{Float64}:\n",
       " 1.0  0.0  1.0  0.0  1.0\n",
       " 1.0  0.0  1.0  0.0  1.0\n",
       " 1.0  1.0  0.5  1.0  1.0\n",
       " 0.0  1.0  1.0  1.0  0.0\n",
       " 1.0  0.0  0.0  0.0  1.0"
      ]
     },
     "execution_count": 76,
     "metadata": {},
     "output_type": "execute_result"
    }
   ],
   "source": [
    "# definindo a matriz\n",
    "sorriso = [\n",
    "    1 0 1  0 1\n",
    "    1 0 1  0 1\n",
    "    1 1 .5 1 1\n",
    "    0 1 1  1 0\n",
    "    1 0 0  0 1\n",
    "]"
   ]
  },
  {
   "cell_type": "code",
   "execution_count": 5,
   "id": "b196e6ef-f859-467e-9991-091650d858c4",
   "metadata": {},
   "outputs": [
    {
     "data": {
      "text/plain": [
       "3"
      ]
     },
     "execution_count": 5,
     "metadata": {},
     "output_type": "execute_result"
    }
   ],
   "source": [
    "LinearAlgebra.rank(sorriso)"
   ]
  },
  {
   "cell_type": "markdown",
   "id": "6d249250-68d2-4b86-9939-29f1c1de2315",
   "metadata": {},
   "source": [
    "Calculando para cada posto da matriz aproximada, de 1 até 5:"
   ]
  },
  {
   "cell_type": "code",
   "execution_count": 12,
   "id": "1853b3dd-2dde-4fe3-a6bf-706c5888522e",
   "metadata": {},
   "outputs": [
    {
     "name": "stdout",
     "output_type": "stream",
     "text": [
      "2.0639038137892203\n",
      "0.9834897575640651\n",
      "2.455162831744118e-15\n",
      "2.4758954965261653e-15\n",
      "2.4759023687489114e-15\n"
     ]
    }
   ],
   "source": [
    "for n in 1:5\n",
    "    println(LinearAlgebra.norm(sorriso - melhor_matriz_rank_n(sorriso, n)))\n",
    "end"
   ]
  },
  {
   "cell_type": "markdown",
   "id": "88dff354-f6ca-425a-a946-49dc795f0259",
   "metadata": {},
   "source": [
    "O erro diminui conforme mais componentes são utilizadas. Com uma matriz de posto 1, o erro é 2, mas com posto 3, que é o posto da matriz original, o erro vai para 0."
   ]
  },
  {
   "cell_type": "markdown",
   "id": "9547cb4d-7ab9-4158-a15c-af48b6b811be",
   "metadata": {
    "jp-MarkdownHeadingCollapsed": true,
    "tags": []
   },
   "source": [
    "## 13."
   ]
  },
  {
   "cell_type": "code",
   "execution_count": 2,
   "id": "0d7bd36d-05c8-4fa6-a39e-a2e6aaec357a",
   "metadata": {},
   "outputs": [
    {
     "data": {
      "text/plain": [
       "semelhanca (generic function with 1 method)"
      ]
     },
     "execution_count": 2,
     "metadata": {},
     "output_type": "execute_result"
    }
   ],
   "source": [
    "# definindo distancia\n",
    "function semelhanca(A, B)\n",
    "    return 1 - LinearAlgebra.norm(B-A) / LinearAlgebra.norm(A+B)\n",
    "end"
   ]
  },
  {
   "cell_type": "code",
   "execution_count": 82,
   "id": "137cdf3d-f4fb-438e-9954-802be596a656",
   "metadata": {},
   "outputs": [
    {
     "data": {
      "image/png": "[encoded data removed]",
      "text/html": [
       "<img src=\"data:image/png;base64,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\">"
      ],
      "text/plain": [
       "200×200 Array{RGB{N0f8},2} with eltype ColorTypes.RGB{FixedPointNumbers.N0f8}:\n",
       " RGB{N0f8}(0.996,0.996,0.996)  …  RGB{N0f8}(0.996,0.996,0.996)\n",
       " RGB{N0f8}(0.996,0.996,0.996)     RGB{N0f8}(0.996,0.996,0.996)\n",
       " RGB{N0f8}(0.996,0.996,0.996)     RGB{N0f8}(0.996,0.996,0.996)\n",
       " RGB{N0f8}(0.996,0.996,0.996)     RGB{N0f8}(0.996,0.996,0.996)\n",
       " RGB{N0f8}(0.996,0.996,0.996)     RGB{N0f8}(0.996,0.996,0.996)\n",
       " RGB{N0f8}(0.996,0.996,0.996)  …  RGB{N0f8}(0.996,0.996,0.996)\n",
       " RGB{N0f8}(0.996,0.996,0.996)     RGB{N0f8}(0.996,0.996,0.996)\n",
       " RGB{N0f8}(0.996,0.996,0.996)     RGB{N0f8}(0.996,0.996,0.996)\n",
       " RGB{N0f8}(0.996,0.996,0.996)     RGB{N0f8}(0.996,0.996,0.996)\n",
       " RGB{N0f8}(0.996,0.996,0.996)     RGB{N0f8}(0.996,0.996,0.996)\n",
       " RGB{N0f8}(0.996,0.996,0.996)  …  RGB{N0f8}(0.996,0.996,0.996)\n",
       " RGB{N0f8}(0.996,0.996,0.996)     RGB{N0f8}(0.996,0.996,0.996)\n",
       " RGB{N0f8}(0.996,0.996,0.996)     RGB{N0f8}(0.996,0.996,0.996)\n",
       " ⋮                             ⋱  \n",
       " RGB{N0f8}(0.996,0.996,0.996)     RGB{N0f8}(0.996,0.996,0.996)\n",
       " RGB{N0f8}(0.996,0.996,0.996)     RGB{N0f8}(0.996,0.996,0.996)\n",
       " RGB{N0f8}(0.996,0.996,0.996)  …  RGB{N0f8}(0.996,0.996,0.996)\n",
       " RGB{N0f8}(0.996,0.996,0.996)     RGB{N0f8}(0.996,0.996,0.996)\n",
       " RGB{N0f8}(0.996,0.996,0.996)     RGB{N0f8}(0.996,0.996,0.996)\n",
       " RGB{N0f8}(0.996,0.996,0.996)     RGB{N0f8}(0.996,0.996,0.996)\n",
       " RGB{N0f8}(0.996,0.996,0.996)     RGB{N0f8}(0.996,0.996,0.996)\n",
       " RGB{N0f8}(0.996,0.996,0.996)  …  RGB{N0f8}(0.996,0.996,0.996)\n",
       " RGB{N0f8}(0.996,0.996,0.996)     RGB{N0f8}(0.996,0.996,0.996)\n",
       " RGB{N0f8}(0.996,0.996,0.996)     RGB{N0f8}(0.996,0.996,0.996)\n",
       " RGB{N0f8}(0.996,0.996,0.996)     RGB{N0f8}(0.996,0.996,0.996)\n",
       " RGB{N0f8}(0.996,0.996,0.996)     RGB{N0f8}(0.996,0.996,0.996)"
      ]
     },
     "execution_count": 82,
     "metadata": {},
     "output_type": "execute_result"
    }
   ],
   "source": [
    "import Images, Colors\n",
    "url = \"https://www.madeleinet.com.br/site/image/cache/data/tabacoarauco(1)-200x200.png\"\n",
    "url = \"https://img.freepik.com/vetores-gratis/placa-branca-realista-isolada_1284-41743.jpg?q=10&h=200\"\n",
    "img = Images.load(download(url))"
   ]
  },
  {
   "cell_type": "code",
   "execution_count": 83,
   "id": "b14484d4-a641-4afd-a1b9-b19fde25ffb8",
   "metadata": {},
   "outputs": [
    {
     "data": {
      "text/plain": [
       "88"
      ]
     },
     "execution_count": 83,
     "metadata": {},
     "output_type": "execute_result"
    }
   ],
   "source": [
    "m = Images.channelview(Colors.Gray.(img))\n",
    "LinearAlgebra.rank(m)"
   ]
  },
  {
   "cell_type": "code",
   "execution_count": 87,
   "id": "baca8d67-fe4e-4d16-92bb-af5d01843d3d",
   "metadata": {},
   "outputs": [
    {
     "data": {
      "text/plain": [
       "0.9905431f0"
      ]
     },
     "execution_count": 87,
     "metadata": {},
     "output_type": "execute_result"
    }
   ],
   "source": [
    "semelhanca(m, melhor_matriz_rank_n(m, 4))"
   ]
  },
  {
   "cell_type": "markdown",
   "id": "2df072cc-a0b3-474e-8814-d3d2f7542c29",
   "metadata": {},
   "source": [
    "99% de semelhança com a aproximação de posto 4."
   ]
  },
  {
   "cell_type": "code",
   "execution_count": 89,
   "id": "7ee8fb23-e8e9-43a2-bc87-44a75c5e64dc",
   "metadata": {},
   "outputs": [
    {
     "data": {
      "image/png": "[encoded data removed]",
      "text/html": [
       "<img src=\"data:image/png;base64,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\">"
      ],
      "text/plain": [
       "200×400 Array{Gray{Float32},2} with eltype ColorTypes.Gray{Float32}:\n",
       " Gray{Float32}(0.996078)  Gray{Float32}(0.996078)  …  Gray{Float32}(1.03062)\n",
       " Gray{Float32}(0.996078)  Gray{Float32}(0.996078)     Gray{Float32}(1.03062)\n",
       " Gray{Float32}(0.996078)  Gray{Float32}(0.996078)     Gray{Float32}(1.03062)\n",
       " Gray{Float32}(0.996078)  Gray{Float32}(0.996078)     Gray{Float32}(1.03062)\n",
       " Gray{Float32}(0.996078)  Gray{Float32}(0.996078)     Gray{Float32}(1.03062)\n",
       " Gray{Float32}(0.996078)  Gray{Float32}(0.996078)  …  Gray{Float32}(1.03062)\n",
       " Gray{Float32}(0.996078)  Gray{Float32}(0.996078)     Gray{Float32}(1.03062)\n",
       " Gray{Float32}(0.996078)  Gray{Float32}(0.996078)     Gray{Float32}(1.03062)\n",
       " Gray{Float32}(0.996078)  Gray{Float32}(0.996078)     Gray{Float32}(1.028)\n",
       " Gray{Float32}(0.996078)  Gray{Float32}(0.996078)     Gray{Float32}(1.02769)\n",
       " Gray{Float32}(0.996078)  Gray{Float32}(0.996078)  …  Gray{Float32}(1.02525)\n",
       " Gray{Float32}(0.996078)  Gray{Float32}(0.996078)     Gray{Float32}(1.02021)\n",
       " Gray{Float32}(0.996078)  Gray{Float32}(0.996078)     Gray{Float32}(1.01498)\n",
       " ⋮                                                 ⋱  \n",
       " Gray{Float32}(0.996078)  Gray{Float32}(0.996078)     Gray{Float32}(1.01205)\n",
       " Gray{Float32}(0.996078)  Gray{Float32}(0.996078)     Gray{Float32}(1.01351)\n",
       " Gray{Float32}(0.996078)  Gray{Float32}(0.996078)  …  Gray{Float32}(1.01623)\n",
       " Gray{Float32}(0.996078)  Gray{Float32}(0.996078)     Gray{Float32}(1.02066)\n",
       " Gray{Float32}(0.996078)  Gray{Float32}(0.996078)     Gray{Float32}(1.02512)\n",
       " Gray{Float32}(0.996078)  Gray{Float32}(0.996078)     Gray{Float32}(1.02564)\n",
       " Gray{Float32}(0.996078)  Gray{Float32}(0.996078)     Gray{Float32}(1.02689)\n",
       " Gray{Float32}(0.996078)  Gray{Float32}(0.996078)  …  Gray{Float32}(1.02866)\n",
       " Gray{Float32}(0.996078)  Gray{Float32}(0.996078)     Gray{Float32}(1.03053)\n",
       " Gray{Float32}(0.996078)  Gray{Float32}(0.996078)     Gray{Float32}(1.03114)\n",
       " Gray{Float32}(0.996078)  Gray{Float32}(0.996078)     Gray{Float32}(1.03114)\n",
       " Gray{Float32}(0.996078)  Gray{Float32}(0.996078)     Gray{Float32}(1.03114)"
      ]
     },
     "execution_count": 89,
     "metadata": {},
     "output_type": "execute_result"
    }
   ],
   "source": [
    "[Colors.Gray.(m) Colors.Gray.(melhor_matriz_rank_n(m, 4))]"
   ]
  },
  {
   "cell_type": "code",
   "execution_count": 41,
   "id": "2f4dabac-6e68-4278-847b-9a95fe5d201a",
   "metadata": {},
   "outputs": [
    {
     "data": {
      "image/png": "[encoded data removed]",
      "text/html": [
       "<img src=\"data:image/png;base64,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\">"
      ],
      "text/plain": [
       "200×200 Array{RGBA{N0f8},2} with eltype ColorTypes.RGBA{FixedPointNumbers.N0f8}:\n",
       " RGBA{N0f8}(1.0,1.0,1.0,0.0)        …  RGBA{N0f8}(0.333,0.333,0.333,0.0)\n",
       " RGBA{N0f8}(1.0,1.0,1.0,0.0)           RGBA{N0f8}(0.333,0.333,0.333,0.0)\n",
       " RGBA{N0f8}(1.0,1.0,1.0,0.0)           RGBA{N0f8}(0.333,0.333,0.333,0.0)\n",
       " RGBA{N0f8}(1.0,1.0,1.0,0.0)           RGBA{N0f8}(0.333,0.333,0.333,0.0)\n",
       " RGBA{N0f8}(1.0,1.0,1.0,0.0)           RGBA{N0f8}(0.333,0.333,0.333,0.0)\n",
       " RGBA{N0f8}(1.0,1.0,1.0,0.0)        …  RGBA{N0f8}(0.333,0.333,0.333,0.0)\n",
       " RGBA{N0f8}(1.0,1.0,1.0,0.0)           RGBA{N0f8}(0.333,0.333,0.333,0.0)\n",
       " RGBA{N0f8}(1.0,1.0,1.0,0.0)           RGBA{N0f8}(0.333,0.333,0.333,0.0)\n",
       " RGBA{N0f8}(1.0,1.0,1.0,0.0)           RGBA{N0f8}(0.333,0.333,0.333,0.0)\n",
       " RGBA{N0f8}(1.0,1.0,1.0,0.0)           RGBA{N0f8}(0.337,0.337,0.337,0.0)\n",
       " RGBA{N0f8}(1.0,1.0,1.0,0.0)        …  RGBA{N0f8}(0.341,0.341,0.341,0.0)\n",
       " RGBA{N0f8}(1.0,1.0,1.0,0.0)           RGBA{N0f8}(0.208,0.208,0.212,0.0)\n",
       " RGBA{N0f8}(1.0,1.0,1.0,0.0)           RGBA{N0f8}(0.188,0.188,0.192,0.0)\n",
       " ⋮                                  ⋱  \n",
       " RGBA{N0f8}(0.502,0.502,0.502,0.0)     RGBA{N0f8}(0.176,0.176,0.18,0.0)\n",
       " RGBA{N0f8}(0.502,0.502,0.502,0.0)     RGBA{N0f8}(0.271,0.271,0.275,0.0)\n",
       " RGBA{N0f8}(0.502,0.502,0.502,0.0)  …  RGBA{N0f8}(0.259,0.259,0.263,0.0)\n",
       " RGBA{N0f8}(0.502,0.502,0.502,0.0)     RGBA{N0f8}(0.137,0.137,0.141,0.0)\n",
       " RGBA{N0f8}(0.502,0.502,0.502,0.0)     RGBA{N0f8}(0.18,0.18,0.18,0.0)\n",
       " RGBA{N0f8}(0.502,0.502,0.502,0.0)     RGBA{N0f8}(0.184,0.184,0.188,0.0)\n",
       " RGBA{N0f8}(0.502,0.502,0.502,0.0)     RGBA{N0f8}(0.165,0.165,0.165,0.0)\n",
       " RGBA{N0f8}(0.502,0.502,0.502,0.0)  …  RGBA{N0f8}(0.173,0.173,0.176,0.0)\n",
       " RGBA{N0f8}(0.502,0.502,0.502,0.0)     RGBA{N0f8}(0.18,0.18,0.184,0.0)\n",
       " RGBA{N0f8}(0.502,0.502,0.502,0.0)     RGBA{N0f8}(0.165,0.165,0.165,0.0)\n",
       " RGBA{N0f8}(0.502,0.502,0.502,0.0)     RGBA{N0f8}(0.18,0.18,0.18,0.0)\n",
       " RGBA{N0f8}(0.502,0.502,0.502,0.0)     RGBA{N0f8}(0.173,0.173,0.176,0.0)"
      ]
     },
     "execution_count": 41,
     "metadata": {},
     "output_type": "execute_result"
    }
   ],
   "source": [
    "url = \"https://cn.i.cdn.ti-platform.com/content/3/showpage/hora-de-aventuras/pt/adventuretime-200x200.png\"\n",
    "img = Images.load(download(url))"
   ]
  },
  {
   "cell_type": "code",
   "execution_count": 42,
   "id": "de611769-aa6a-4a4b-b19e-c13827213bd1",
   "metadata": {},
   "outputs": [
    {
     "data": {
      "text/plain": [
       "194"
      ]
     },
     "execution_count": 42,
     "metadata": {},
     "output_type": "execute_result"
    }
   ],
   "source": [
    "m = Images.channelview(Colors.Gray.(img))\n",
    "LinearAlgebra.rank(m)"
   ]
  },
  {
   "cell_type": "code",
   "execution_count": 54,
   "id": "7c8c168a-a97f-4847-9a10-c21199659553",
   "metadata": {},
   "outputs": [
    {
     "data": {
      "image/png": "[encoded data removed]",
      "text/html": [
       "<img src=\"data:image/png;base64,iVBORw0KGgoAAAANSUhEUgAAAZAAAADICAAAAADjfug+AAAABGdBTUEAALGPC/xhBQAAAAFzUkdCAK7OHOkAAAAgY0hSTQAAeiYAAICEAAD6AAAAgOgAAHUwAADqYAAAOpgAABdwnLpRPAAAIABJREFUeAG8wQfAZmdZJ/z/Ve5zzvM8b5mWmUlvpCeEJJCEAAFCETCAuAJhBQEREVHURRCQXRAb8oGrrosU8bOgq4CwgCigsGLZ0AIaumnT2zszb33KOfd9Xdc3M2mT8AKZEL7fTwOriB/csmnP9HRZWLf+1uWTp9rdp3a3bKi2n7v267NLm2Siey68sAusRuTj82sWFsY6zcfxvkHgCIoJqJw0P1Ti7DVKgIPrsVM0MS6nTXbPbt49rqulGW858+YRNftYO0nDE9ulat3uhuebNb3t09MFkOGiVDIatNk2++Kgd0KLw94LJ2oTewiAIIQL7Olbj9szNZXn123csnDq9HDPGZObNlY7zln39emljWki+8+9MFMRcmdEqOeplbqkAHIjf7s4s7g80n5aSwf67JbCrfaJCW0+MJQUmRNKhjLrxJgqWimnlF0zJ+ycaLMyWzJ5rM1S79MoVXTH54Vm/ba+HqjWz9wyM90RVYvzqRejmYm3x/tSs3bT0FmKK+6P4IYDq+Gmt2tuz9mnjm4aVVVNgdsRvt+CnCQxOAoJCADhkIgA6BBmBCg8PADQIYC79ieoKCLEAfYeDzRXRTzV2tu9b+6Mc5dvnZw+lQB4aA6JCGdiOOCCcBAHAGYQCAgEgDgEQIDJmZzgys4wFybBIRbMFsThTDgsnA1SIEyK+0Njfw6sptq1eMvx73jyptEX/uxPTjjRHUdQ4PstjE0YQSTFlAGiVsQLiMVVPZuByYk9guEEIBTjOVkWCGVWR1jv4JoOutD3GnnhptN//wmb8ufe84GZU8Ys2ua+jozURw6WSVPn0EANixDn7KGUJiWciOGQNjr0LVfRrR+5jkms7qgZ+wwP4RpIQ/Qn7OracicuC8dFj9pKFfcD46abA6uJ/uKNp/7N+cDs4x738J+pNoXjMDEXfH8xg4NQEpAssxKQQMylc2YCAkTkTiSaKIKYhY1uu7U38YqKOqRapt5EKHLqKon8+Qf/0WUegyc+5srXbj9rIWoddz2adKypGHHlocjs4aCqdEIWBg8REgirAZBwT23by6jG1jugpSfLSjGZ4saMbLDYctYY06Q3NUlRTZjVCxT3x1QHxmp0YWvvY2cjANBLll61bspxCMUI338mNBwkZ4IIWlGwu3FKVIqRwIVIOTs8W4Q7gbhuxi2rBBFH9oYzi6tHBcMXT3vXZZMmDNWLl16/5qQVDJTI6xZEhFIjRmVWumQSxTzgVWRjJQ8iJyNzDRiHM8GQRq2gkkm/akNFMqQwqgN9FtFWs7mT9sZqFJ3imBEfPDhwrIamY/49ZyNwSNAr37/1fHUA0hnh+07gg5zMFYcIB4GciTnMYUbwkouaCAFB4dknurzEUq9A0eUUk37JvUmuGCEy0tddXmpn8ZJe8okbN88MvTZtF5UKMbFbEnABPIgKYMLhFpxUzNnBkdhQDN4gO4uGiHQlWbS91NZpmdnHVTANNxCGk4rLbL3SZUYojlnXP31rg1XR1i8/+UcRuMOTf2Vj5SBzA+H7zBlgAKlzhpHCKSCMADGchMWDwgMRTEEgqXnDgJhSZyLR1tJKIeZMVRf9L9/8g9chKFfOhLVX/cveqWHFLSyKuBNzB2FxF+fClUyEmYLIzSk8nCSLZCoBMBdlpwS4WS+iCScKYyITcWSRljSMvM0VuzIUx6w6ePKDsCqKrfwGBG4XdBZ7CXglWfCAI4AIdwtT5AQIA2A4gyLMHEQAiMlZxRyBwGHEJW1cYxPqtUXZovFOuUse3PngC7MvHwwHLuga6qqzArkwKUrdgQ1ELiCDOEiCKCgMzsKwcCIPUJiDhMHuTB5kVGphZxJYZZ6Ko14i7pqYcC0G6kyJw6E4ZtM3f4yxKpnc9qzLcbfzN7QOdOtloYcHFhEFIkCMOxgSTNFVEkUFMAYoorgVV7EcIuHBFHCzJMKl27a3C87WeEcJXRWWXCZVeOOTW19wJXogjhQEXLh5aUaGery1WSiEEKrmYJSgyoyqEuRkOYiJyaooWqyaJC5qVrVdLcatdlKkiixemgB1Mwe8V/pLHWVlGcUMl6FqJsWx4uG4R1hVYrwAgbucumlhFkSZCA8siphfHFLbHxgz4QgGJMBBxASTBBN4ABQQcTPWiACIOUARHuQlACHiGsQI9MxrVnf0xuue0isagClAOGX9fu2nbO4iEUA4nMjYgkCAZC0WYLCWzkDMApTkOISCOUnnRIARjKDZKwOLgwOUDy6v8KQRaaWQUmLFMQo/vmuwKpm/4ZFPxlHWrN1bwEx4YBHbgW1rzjrFvvLNU3priXBYArqKoCYQgIoWE1Awi4ShShEUxA4mESol0tSG0rgUUrIgMEa9QmyVuTeLX33s4+EIQlGMK6yf2d9pKl2vmzKigJWBp4lzVDRpg/oGFBBxEBMV1cqDIweg5u4JnEvqkEqKVg0UVYZIVyl897Z1Z5w02XbT7PGVgDgIimNUzTcDrE588T/haNzPnavjDkwAEUA4hIIYhxAQKkGM74pKWwABxVenf/Y5F/Wx68/fMDO1UHCHatQPQpARe4AVCBEUowiA4RJMYZk8WBFz1FNL7E6cfFxXXlH0hkhdE+34BwZI4YwKuRJwbzI9rsdN4x011LKYcMdSyIhSFldX02D1LjjCPZyN2ENcKXVVBAeMWXONSZOreljZQr+w2tc2/Oyzz52lnX/6O7edd6P3ZZlDcYyI9gZWxXnP+qchcJTkEAnRwGEWCDOLFgZYmBUAGSTDjiMIxODAt1dmjytA2tXefM1vX4xDTnjlyc/r9yvHYUEQRAgKc0DA4SQcRJJy7kp0oaMi7CSqMJJ2/4RSR0ImBjHrD5sYr10Y0HDwtROuqYqGBBEYMG4ypEuzlpRaxkSmRkaKUb90KYuPijEPK6blSG4K7yq1CimPyRuKqq20zTqpEBxZOA03bJ4E19sWtj7pdVcBiBNfcepPbd2A1gqT4thQjJvAqsL2P/kM3EPtEk4rzG2bu25rMagIBzGAgFGEmztulrRvJ0kp6AKHCLMChHuKxR+80kH4Hzf/6HuAwCF03Yff++DacIiBuAY53DWrwpkIIPUMMjQ1IlqK8IgAHEE28WBPKG2tOciHaVTJfL3U1Iv5qgshEQyTonAmJe0qXkCMu7Ytu0biUjOhJPYoiUoR7jpH7dQczDFobCk0BFVbl5Kc2oqdxRCkwVTa8x8pDv+fW57/9iZcDFFd9+EPbR60NmWhOFaTDqsjjJ+MwJ0I2HnbeN8oe8ZUf93s7MzUxuNmpnq1CjNRhHuxnNtuMlpYWF5ZHK/Mz3UTTtWg3o2qIziIwYQ70bp//CdD3z7zxPcgcETQSz84HAYOERzSqRRU0FwBJlyQO64F8K4YtTMpFa4rdvcgGwqwVE8yZCLuqXOVIdNQx02bnwIHw0mgWbns3b5Y58Vgq9ZsnJ2ZndowM71xAKorygKeoOTW8krOSwtzWBgdXNpexgm93mAXrCXpmEaTqk3BWlwQPP25zw2bJP/6+D9UD+mUAX7Zx9pl5xU2xTFKfcGqyBY2PxZ380/++fV+8eyGtWtnjzt+8+a1PXxn3cq+fXt2Hjiwd/v8zpUs0/1eQqCASHA7Gp2htO+W2T9G4E6XPWj+1OS4XVsDCjgqeBCgTozSjkmJB7nxUU7jLpOHStTTAJxRczgTvM/ukSZ1nhq3zeODLVzcJSd8/K8+010xWLdptr/xpA0nbKiBIKAVNXIFgmACEyBc0FHb7Tm4c+/eubntC/tXxrye+qmq61HyBqUS8mBZPP2U0cqXN/ypmjiUIkIuPnH/WU2Bk+LYlLrB6nT5m1efiaNs+E8vP3GqTzhaYBWEw6p1687FYcv7D2z5j1t279m12PLsqM+pJWYcEtpYXc399+Nxt/7ZHzt7UAAUENWIktCqIBgwCLMEV/2O2ZYnMLATB5SDI4lGpMJkkECACoTKbEE9f9sjzkSIM4hzQtn8jJeeOD0FFxyWzRJZ9j66CuzsIEhWyVaxFK2QsM65Y8XK3K5tt23bsXfv3nFveqhV9KRyT+wl1WV2eeH/OR4GKhpBZDNn7KybNhEUx4RsWbA6Go0ehaPwJZfgDoHvKHA3AqanT38ogIUtW3Z84+tb9yyht3ZNAiTJym0nbf+3B/8MAnc7Me/hAKABQlCyqIGimZQYYJPoJqWE9ourBROpGijnEQc1NvQpdFy4mVgVXW/Yy9VivfLkQJAlI0ooevFFDCNQUJasadIAIkCpYK4FHEXUNCXrWIOAIkCFoKmp0x9RrPObtu776je2H9xf1TN5ULL16v37Zuauv/QlsMqYjYNd7IKP7WCjCopjImVFsTqaTD8JgbsE7o/AEQSsechDAGzb+c3/uOVrt410FgFe06vHr9HAUaZCJHAIwYmCxE2KIrkJ0BVkMKvCwxyk2ckKOeo8rByTricHc8+IFlK1gHpuZgklr0w9goItOXFbO8M5ggpJIWEVNEBmZ/Fw4aKEouRSFCKAEQebFIVJEAXqOh56WSbauXPLV2665ZttNRWpm5K1Y/yXKaeiJZQkCKxcsXgmxTEhGGF1MX/Bg/FACRxBOOWUhwP7v3LrF7709Rv7G+d27rrqOtxD7VobgCAEI7OymwJg85JSMWgjXQ60UXnJyQu8eBDDyIpM1FNBeFBH1Enraam348KzUZJEEMIZCPh4ii0U7uK5RkQR6SgElGCkKApyIsCJ3VXDvNKiXkRNKCjldOpJV7W697avfP2zt369Pn7P/NbHPhMMM0U4G5ORN0I0DsUxsarPWBXnuWcrHmCBQwgbHvOYH+9u+NS/f+k/vLwI98TUtjjEGOxWAc4APNeCRKgFHiAS1jAWJhBrUnR1RaiiHjOaiK5xCkbX63q2ftg+dMbVAaZoMntXh0wBTMUTwdXBlTNYURgcASeGh8ADzBBQoIYTIVLAZVwJVUaSa5yw6SqM//3vv/mFXSvVDyeTSAUwdrBp7SPz3gSKYzPTJ6yK9uMyBL4PAodQ9fCHY8f1H/2XN3z1l9chcBencAIgEa5sAue2Iq6BoPBgWNcImzEiDMUiKwfp1ACUWut53RFIOqpKaTAcdJrjMhC5BABLRRsUEhMjRTgzZzZhmJpocWUhIMBclFHCQgjhGiACOXkqTThDCjG6SmD9h19p2/7tf3/+Tbe9aoMTO5iLaRZwOLUgxbGQyTxWR7F42hPx/RMA4aRnPnPl/R992U88hnGXEk3tAIhMEIJxDwJnoJCQO5jhTqLEwgQQCQw0YgJ50YgVcmLzamQ66QZz1Ow487EgE+eciOEwUjMJIQcTkFO4cwhcoI7CIDgjBAhiAE6kEWQAG0dmFw+QmEAAE5joGWf88MJHPviq5z6qCvJSKaP2UdVUHF1RHAuyEWFV5PsfdQK+rwIATb3gBVsWAndrUc8WHCYeDPSyamEACkA4mIgD4YbiykQEAqFMglBCwM5G2pF3aZK1FIoDjzsOHqAsiPDKiSAFcGF3LlCERGaGIIiCKBwcRHAiNiZwAAgSNxFEgoFcAupEQQwgyBizz3vWji4AUBUUJtSVZmaoM644FuGM1REtX4LvvwDoNCBwl4nuuhWHmXAJCUpAAAgCQOTgcCAXFo5c4jCKEAKBipATAVyRgUTcqR6lUyt0jVHKXJicQDCFC5zhkWBBlFC8Qq7IFBSgnGAgBMKZ4BIcBJiAYAwiZCUnNgmQFKXgonIGAZQTTKSTWOx2yJBqKI4BlayBVTHkoQj8/yBwD0O/cA0OE4CkVYmSEgCHAOQoXT+1mSWMiJmIhD2i9RC4FOaWwO2kRhcuZFq63kXJGxNDKsk5gt0lQE7sgAISBARrmALqFByRIpgMJMEwpgCRMxAuLjCCK5sEKKfISZ0i1DS6KlwRAQiIB2dvNDAp7rvwdSfVWBV1W0+4FMeGsKrAMVmsxoIjglwYIAKCQAgQmIBwCCGIQAyASNL05grCTl6VQgL3VIKtLqiHB064GAAhgADDOQigAMMYpjgiyJjgRAgECAhL4GDAmBFMACMCJgQQ2BxsQoBxwEHODpCBYBoIArBEo4XUKSnuOxoN1yesilbmnngK7iPCndrlhYXhyiQbpOrPzq6fbQDCIYH7aqHZ6TiCYNY4wECxCpaAcEgtpLV6m7tExJIkfDhZ0zCAoDQWoRyVTLhrWg3i5SvOg1MYEFrUGVmZYApzKQ4gi4MdiNwDIC7jHg4srnSLi+BcF56eXjuY1krgYuIcxMgpuoYIntqUDAKXXBdJMCmAlEqA3di/N02kUdx3Il/aX2FVpKMLcF8Qjrjtlh1bb9l2cGFxxXEXXrt+w+Zzzzjtgs0gIHBfrCykhgKAQdAAZomLpmTC8IAKd1VXOhKeqrnkEnlUWffNXbUXT+rjSovV1IYkWFePG14+S5BVXIaDACyhKmoQJ0qmGCJVY9Vg7qoeouz4+o4d22+ba8dLK0glAArQoL9xzboLzjz14g2ErnLjBNXl6WxNqYOCkRUJZIq2r22NalzzwuKangz7DSvuu6wPHwlW9xV6CALfBeGQm79+/Ze/cTNQr1s3e/K62ZlGmcK68XBpcXFh2+c/APSuuvLRl2wgIPBdrUxkiMMkECAIIzSoACgKc2sB0UlrzUGSiXLnoto/+RyFR5Ba23OxrkotSTvovPlMcym8ZxIxMNJITsQgkBPn5DQo6r1ChJCv3XTjZ762RaI3fdyatWunZwdCRGW5jJb3D+dv+9yHQfWjHnHlZbOJkZW8bymZOoXAmUyKFli/q6pA9Ma9trNlli63ivuuv2PYc6wqFjc/BN8ZAdj76f/ziS2YOvthzzn7pM3TdaXCTAQgwt1zaccHdm/dedvnP/nr6TlPe8x6QuC7GA6r8xmHOEAoXuEQcmZAncmoripu2wGBhoNeuDQJ9c5hXQJMpHAYmIxKci7RlJX1F6FU6KowcVBwVjgZSVgqINGi0Lj5s9f/w81KF179nPNPPHEmpj0lyazILBbdxK2b23nrrts+9/fUPPdJV23SAlIEiVOwCdjhFIAgFYWzJcyP1pwitTkp7rty8mQnBVZD82edhu+AAGz9mz/5t3LyFa8+7+T1tXruzNsxIgKHEYGY6t7mh6jnpR1f/8if/ulxz/zRqwgIfCfD8QwQABjhrIAzIUIKM6goubW1E1dS0I/OOE+8yiflnRxMFBNSjkIsRkXJOGx0yvlRgcVJgAguTGSsRYlMqCu14uYPve8bw+Mf8erTTz9OKrO2YETDACOL5lAQc2o2nNfzdnzb1z78rncd//TnXRXkRHDA2Ym7KkJCs3CoWQqm0tmw58UlFPfd+NT0j3UDCtwL0WT+oYpviwB/z9uvp8e++RFnTfOkHa047iUCMAAjgDide8l//sX3feRtb3v4i55XEQLf3rDVZcIR5IAJewiJMyOgACIpA8WZCkSIBT45U/++NyAUGoAzqZt2wiZZ0viW5+RUhIzJBOSh5q4RasTuVCH++N1fsst/6bEX9i2WlilLOEKMSDw0OjCiuEBbP8jRnHvZ825470fe9faHvPSFCQhGUVNCFSUZWzKEC5EzdLi8eTEnHYfivuNWbFOMlHBvku0SBFZHwI7ff9vy5b/3hDN1PJxzfBdhNlmgCy77L5/9+B/9xBt+/mUNBb6t+UwTxyFBToA4OAATBCFABi7FiYQD4u4IJ4rRdGyKVvvomAYlJ5Laib0SGco5qShMPMTJiAqEi1JRODFuevu720t/7Qnn88pKtiVtHCaQ4imbUORUFUdANUe0ycQPHpDzfusV//p373nJr7/s5ysykqIeAKWuKtpVLjAKMqY58XaiTlAci6DCvitx4B4obOYsrI6Am9/6drzgxVfwygHHfRXzaK596ss//M5ffNNvvJgQ+DbmW+05DosQFGW4K8SZIhiRBEnJA0RCJTiI3JhcXGOXpyQ2qpo2V0W404g0mbrQ2E1BZEQSRShbY9C2Ynz9t/+8POcFV9XtnlbSxBrpklpGMEwBhLgLO+DFQ3qmtpI4luZ7z/ihn/vYO37pzb/yMkFOkwZAp1VOqIyNBRFENjxwci+4zqQ4NnlmiheccQ9Bo1MvwqoIO37tHfiFnzmjm3Mcm8kenPjKF3/wN3/yd97+KAqs7qBh5DjERAANF2YjMECUSYvBAwzLZVxmVozDAnRIm9Zg3JVWZ3y5mp7UpfTMJbcnnSeIFDkFUxhrtHWaNN7WvuXNf0g//gvn2NK+4KnsUZdJUywlUJEwOAmFFwixG4vBKRqDi3Tb+PRX/PiH3vRzb/u9x6VRPwK5RldlDXFxU3AJ2Z3KEueJhOLYkKHfaekIR2FfvHQWqyDg9W/Ei199xnAn4X5YWuy/4Fl/+fNXP/8Pegh8K8J+tjZwCKGtkZMARQFnoBNClWCgcKSmr20JM2JhMifImmGt1jn3KPeKqFeZ6y1XzKAT6eoAFVVkqa005vX4N38rfvT1p3e7O3AlJVMdqHJid0lswhDOWZJ0xrnUMALYOw1tKyJZWahf8EP/63WPf/7/HDgT6pyqkpAr5MROoZgsZ7PlnhsUx6xQkRNwNDo4PBurIHz8ufuf+5rzJjuJcL/QeNh/0TPe8pt/8YFrKbCKOQkLHEIlFU1AW+vyNBiIKii6DoKgJJYnk35SFmRBiIqPhzQVdfJSBWSlPzXPTTnYnRmo0NVB4YGiIETd1vw3P7Xzutc8eHmuK6ljd64jE3MM+0xhpXaCGVWRI0XhulBqlU00jHvL0kTUw5WZn/iR33nz+//sGchMKShQKqNUSNDlge7tVSMZKZHimFGMZ/t54rgLB1+BwL0Q/CV/eOb7r857gnC/8WTHmt949kue+pK3U+BbzatI4BDm7BqgetxTAD7pgRBwj0BYcZbk2QMBuBGTeMJimqVRVmurNAE8h9WXC9ARggjJxZSgVrev+r0L3vkU20EpN05UVGliyZPDGRHsQRQsEcCEmYKoI4YYg7xUBu44TfLudb/6zJ//4Ze+tTdpnJEg0TWmkVMF6IFeO6DWwYr7IeVv0EYh3CnvX3ce7o3wlR/c9ku/Uu01wveEl5YuvP4tr/rnT21C4N6WNfUMR6S8PA1EjZ6FRjIFyCmCxUWlgDkxEauAzIJ6MXTfZjMNuCLUntXz/tkHMbyCyUQVoKCcRv0brrvll355es/KoFqeMuEs1CnUouWeOFvboBAQTs4QdmIUZicn5NoRPaMYprrTleFFf/+7r/y/738QuKtyiqhI3KhwhRECg65yJ8X9EFz3Z5gDt6N2cvxpuBfCe5/NH3/i4hwTvme7+6989DUnfP5SCtyTL9XLizgiiPtBzhTE5Eg4JKuyWKFos9bhThEEMIwZbZvaJsuGOrWGhG6qSDs++RR0gq6yGkUY6gn9P3uRf/TJB7bLjC3O0iiq2t1y3ZXpAh6pNuPCYuLMRlRAFEAKzREcda40Z0DVJKRLe9MvPuzaiz551bhXkkMCbgnoKk8Hh/XOroGH4n4huXVFTHEE+fKjp3BPhN987bmfOHmPMR4APNn5sB3XXPYPj6PAPSzMy8V9HBEQFBKgq8hzBcBJlcwQJeoKrYPcKZGZyKRrJE0orL97r6prtp6ULg3Pm4ZXHTAZRFBRk8BbXnXpXz1oZySz3PiKVMTmrEZ11pZVuqhKULIqF+Es2ol5YvKA5Iq5sFvTlZ4UMYHn3Y++6emPe9+1xkEOCk8oWnUlbdl05hScEIr7J3quU8shAYBseAbuifCK337sR5odTHhg0M6Nn3vq4z/xBNzT7oO9nYLbETrlAq0ze40SiSPGWYgTUcnGzkrwEgRDYmd3zUKoBoOxJ02Tak07PIWiKcqTQceprYsGXv3mp797/c0DAnW9GPUg1CqsKNgnKYjrsBByYxJy9sKGxJ0wUBTj2pO7gYtHNUpF3HYf//c/ct3/eqpTiAkpOgny/leXZ3cmlhykuN9o3aQrhEMCZyBwFMLP/d6TP8C7GQ8Y3rfub5/yxM9cETjavpWp/YHDAkAy1tLWGE8hSOEQCmJyc8BN0boUByEXUiVOZSKNVNWazqoyShETPlFgVKgBqdcQDN/65me9c2bbQEc114XVpQsqrAWd9komJM5OXc+lJClQ71gpSpr0yCW8KTyqpassxEoq6urYfvwHnvOsDz3RpGibuFMna3BrXpRw7YwV91/b781VOKTb8BAcjfDa37vmA7SP8QDig+s+evmVuzcHjnKwkz6OIEJbK8BakgNdDXBkrtm7HFopEwERAZAk9gBgnnJEVaxfLzlJLI1PejAQ6pYmjTubjP77G572zsH2fjvuWdunzO0Auc5UJ6vdAFDmYPEukhkTAcSAGCgrERk5omuUiCPlyqzqRPPuk/7sic/49wcNB6gnjZaqqxA2nqlS0xmF4nuhdeCQ4akX4iiEt/3mpR+QvYwHFB/c+KlTHnkzBe620JHhTgR4qRCockomAAl7jpRyBIV3vUpBiHDmcBPrfKYNAOaa3MZcLZ96ESaNcco1XIvGn/63y989u126UCtVTmRNpoqTm5C0bUqu7gZWo9AoxOaJwgATCnLSDKgXTFJ4pLFyUS8V3Xrmhy9+8n8MEFE7K1CU5vKUDi0AUnwPIggE+MqJDY726ZdteN/MTsYDjPed+MmH/pffpsAdCLtDJHCYs1VAqTAcgAhsAQIjWMVyAbEkigAxIyLgQawFEWSq7OTQXC+tm4EAApApAp/62eP/ZMO2ZFG3omESSBMSByPAKTsEbiEBIeNwchKKIFNTd1IL5+K9IhQuFrVToSKSB1tP/eBjf/b3w6DG7NVEaLtz0zlTkOJ7E5CC0Zk4Cu17Jv7kjJ2MBxzvvuw3XvvCi3C3rQkUOIxxSFSIARA67klGQgCIUiUtGQQKRDCRsjsxkeTsZCCQF841j4bnUklFgRQu497WF5R3n7sdBG2J28a7pmvVOgmioKCUBVaI1IIiHERFJBBqoAgtxgYOLlZpyy7GhblrOiKrd131y7/xY5dDQ3Oh4iZCAAAgAElEQVQKVIT9hFZSKUqK71FJm/fb+QjcifDTc695yl7C98PCK9797K9R4E7be0yE2wkyEwMmhKqtUwDBTMWEYB5wEODmYc7C4VaoKoxwQkLA1y7omQA0yMlT7nWv3vGGJxz0/rgKcFFDNam4TVwSt2I5tEJxYS7BzupAVJZBagh2N8lM5DUbRrV4BFlqte4kxDgvv/KPX3RDBQJBnNFum5LQQB2u+B7QIS4x7p2CuxDe99dXvHapEL4FkeN7tDL79id88Bm409LepukbDgsQQO6KLIBMalCAqZTQ1BUSAiKCKIAAAwFy5yQBRqmlRPiofzoYh7AxAh/4y0e+vCzXRk5CuTFykgivmJw5OrbkzmoRxI7DghBM5CBmd2bTKEohY9TBpkbJmRCh48G+M9/6/Pc+F07sHEVHO6f6yXPVFFfcb5TGYYgtPNh4Fu7WvRKvH+xk3EvQ+oT2AONYJOkcR+O5ay5/5TMocLsDK/X8YuAwg0KYDdEAXTUwJmMKZom2Qy3Fm8jGKgS4EwCqrB2lJhtXHugW5m3dmSiVh4SgVMM34NVrd9ZRmIJLIpLxoLTNsNkwzFNLGZVNonI3J3VCJhAHpfBOEaWWCM7s9RI1abooV0skYeg4qDRS6t3P+NVfu05zHcauWFnxfQwQuSvuHybyxZXJ3GT95ekfLzsddyL87tbn/cAc4954zWc/uPych88TDpselIVM+M5iQ15ZuzJmHCXTLz/9E0/EHeYX1p5IOEIRRF0SEAB2RrhQyVxLgClHNWm1SkB4QBkQcs/UcGs6HK7sbdc+DP906ZkQcIDa2vG2b/7YNYuuhcTgLAirukmT1tPf/XN79eU+M84hTdP2VpbJOZjDuE2RYsRqnOsR6v5Syj3S+bUb55dOquf6rVhuSn9cekvTC3j1cz71xNoouRD2jPonO3OUBMX9wWyGyZZu/eWXXXDNOz50Du62+JbqpZEJ97bhE88c458+vn4F8N7ar/3riU/wA4xVzAzKQssAYv0/vvngU3/RM45CBx532lueSIEjti0dt4Zxu6DwKgxiLgoIOgGz5S5VadnMuARFblEL3LpinODJw2TyxXbjIx5y4aPe/dHzxKUoOVdWHXgrv7S3P3XCIITDOFI3haXT/ua5S/j4h9cuKGFt+revbn7EqVsUoZoZDbWZem2ppV0ezKDhldwLH+hf/9Hyw1/Tm3Ck5NppiSpP7X76SW99nIBBFLR1/xnrUgvXgOKYMXMbB+cXZ6966IPPWT9Z+hJOwt3+Yt8LL58j3FvK72gvtFuvv24F0Zv69Xcup4veds5Oxr3YzMzn/+GMp63Zy8D01p/ctuZXT3rRXhytXf9jb9y/AbfbmuNLuF2BEoEEEDEgCyp3MGXtdW1UxF3SJasQ4+Sl16vUMwbdKOZX1l952cPOm23jhurk4K4q7LmSeN/eF16xi11cCrEpUhFnw9qFP1w+z2774o8skAy6X//AHF3ypku3DLzLqSqUxSgnnzA21Z//17X/ed3uVsebdr3mlqnrT3/pDjKi3GtFrNdyVC/49cU1YqFhuq3zz0BTIBfFMVIddb4yx+df/rBLZlcWFvrdHM5C4Hbkf4RnsRHujcdLM+ZN3wBe81v/7fKzbvritX916U7GPfjm5Vd8dJe86y0X72JMfXH3BVj6wovYcRTqnvLGv3g5BQDCfkprHUconLlV6SrkFJSCTBiB/sFJUw/b4Do8oZTQuqrZS0mM4fJyXHDJQ67auO/AgXq80J5BVnUVWI3xbjwrvCrQwlHUEMJtQsnV4oyKWDvtpH/w1tMes+OGF77ziluappRJNaqhZEENNsy9+W+3rv3jt1y2FzPp+tvOlxu/PKmKdlU1TkA1rNuq/cE3/sXPhHhOaktab3RzlEYVxyZNJosLB497wmOuPL7df4DBvR27ps/GXf7vF6582DzhW+SND/n0SVvOumIFGNz6tsse1G17/86Hf/OkvYyj+Mb9P/S5i5+x9I8/8Mlz9vH4rNn5dX4SB+5h6fwLPvBy3G5OIyNwOwZqeHJOxogIQVFCW6a4xXQaT4JZPCiKu3dJRnP7FzY9+rFXHt/t3ysSg907ps8BUBnB1a+/4YorDmpLyQCioFAvlRN8cMmn7eYLHjMex7o9b73wgsmWP99xzVdP3065qnJlpK5d3a7f9SNfPO+6uX956ifP3u3lwo0HNtCm5mCpqpxSwKkqdSyef/F7X0ZFOSeZA60wk0nXKu477/Ww0O5dPvMZ11xUzW0BMYDejl1nnIQ7ED6Fx6/bg29l45f+w1d6rz1uHzD93uUrh2R4/meu2jqzTLiLr7Hzfuq1P36mPO0jL//bOi9f/LJf2fXg5y0H7iFvePzvL87iiF1NTAJHBIzZiUFBAgQDLhFEAoOP+r0Oli0RrHatp8fbd5YLnvOoC5v9txGULHrbd59ySkiEmAD8STxh7W5LYWAjdkYEG7v45Cc/dePMK9bPJRp8cumqZet6P/GFq27ZsKBdUmOKmAwm0+nin37Fy1bS0z7y8x8eTJYveMkb91z23GVrOqTCQOoSe3D/6ncsrNXCCbFjkDVHqAcp7iuSZpvpltHFT3r02aN9hQlHyIHu1PW4y/V4hAe+Fc2f8oGPXfrQOYD8xp6UIgl/8MUnfarNuEs9dfUJb7rZhv3RIz75safttaVXnHrzdZsPMO4prvjdf78ahy1tH2jluF0onCOC4YxgwBmAhbtQSpxB3GjXch3VgT0LN+mVV195YT6wlygUFpzmJqevQ1EPBiM+E4/sQo2CTciksDOc1MrCg/7y/5xz9bwxyo2zVLjf4g++/EN/N/RqkussgemFwZorT3rdXDs/k6/6h48/bW4y/IVTtj71xP2p0wgio5Kywgtd9T9ufHQIBRa3DerKnIIEivuIomtu3VcuufZxJx24DcS4g+3ERbjLrf962mkjrIYPbP7ZycEg6NI31wd5VMC/XPZrr9sduNNxr//cAmj9ylQe9D5yLfvYf4yHBxj30p6Nf7qaAsCWPX1Y4AiiAINAIHKmMOGg7AQgcs4uhNzmWsgo3bDQe8TVVz9osmc5mmDuvCZr9+uFgDrDxWTbP59+SkauCkXqhJ0jjXsRmZLtOPnFvIdT7i3dMuW95bwG9LFHvumX9o1ro6agLMxseO03tjfzx0+OW5md+uC1Xi/1Xlh8R9/ErPZgcKkMLJOz+NOPJkPozl2DzILgmEBxX4SGj/zgwQc/7Smb9t5MhLtUB2/FOQjc4SvLj9rUYlW8sgIQUB3YP+2QlQNAesp/fdgP7HEcFrrpE7//hQYnrBsSYvN/LKSW816AcW/tpo2fxRG7l2dzhzsREMEBAjuRhgkSMUAkTEwklTFFtAv7xw+55ilnLe0Ye1VbDq9T2w2Wv1bOR5gWDbB/eeXqE5dJCpvkFMZA1yvdVEumab5qFTnVu3ds4HE12Ykyde0bL33S3EpVgiKm133ozz41bef1Vtqm3Xzrwf5yP2+rSmMUlDolLzWbS2Q7bv3nAQ7BltEatIU4XElxH1A1bGVp9+k//kPH775JGEdpduzGibjLbpzQW8R3RKO2F17Lx67tfuEvz3jSXz57cQiQrpN3/NTfXRjUa+aBGAyXNrRYXbfmwptwxIGWpyhwp8JMKCyRK0QQwYSCiNypiVFpm6padN87f9a1Tzt17htOKWIMrsLHaKZv2ysbAYGYGvEWPlF1osWqDM5EQZq7NUM2xIQmg640bVegwZQ/9VT96b/Y/Iy3PXdmYZx8Ztbf9ar3XDrq8/RitdwfLC1XKde5VIUxGVjIeOBt5RSE4eZzbzEmN1k0mslQGSug+K5CS2zzvdULf/SMvTeJ4B7q+blNZ+AOhB0YUOA7IgcBdMmHx1+94UmL1/zKp153ApEv/PW7u7OufxIB+6eAqJaHm/BtWO+czy6sAQh7ig7IcSe1nELJuUImBYEtSMKIMBnUWasR9rV7By949plzX2NOERIU0TGYguf3rT8rECA2gR3wnhQ2jQKZJHIypmaFSQiNx0RSS9IiyHtXfmh4440/cODq37nhF08W+L6/+3/zcf/2lD7oYO0CycMTxxhDM8gHHWlJoyoAclKjB//xcBogzI2rpu9R1jig+G6iN94/ml943E9cvngzCe6l2nngyjNxl92YlsB3FLUaod1Y/vf6a6duePFvv/C6M88uo6/sfdrr/+sbP/2iJ71356MNIDi+neCTh9vX4JBbq7wDdwgXiDg7sTElHBIkYh0pEyWU4JXxaOfoyc+/crzF9P/jDD4A9aqqtAG/a+29z/nK7Tc3vZFGQk2hhN5EBKlioQiCoIgFxdFxUMdRx4II/o4iKA7qOGIXVJSqAtKdiKKAlJBebm4vXztn773Wn9wUAkMgzPNY8cpgUQOwRko3DS3dg5SFggtsVthmhnJUK+I4t8LQmGY2RGIoR7Zeyy4EqrfO/NWkU9Nll3354vNnLBjNV607/aNf+uR9557007VHRiIrHCIn8EYJWRI5shMxYlijuCnVVftFAzydyDphMYEZFq/Gjo6MbJzxkdPNSmH8b+t1ksUOdRRZ8YpCS1OVgGzSJArVuVec9/OnV120Eb88FVg2s/cDU0aWFDOQT8uCXZF29GKLblNoEmzDEAYLIxhCjI4QjcA6Cj4iR6EWKs8NHHDusaXVHs7lQYwxEhjEISasq2RCokoEJxaqoYmIhVVgfUgia6A0kMJ5sEdBMhNay8NJjWlyF2h03uUbb32y+9yR8N1zcnvPjHUf+XLtgKaaUKOYaiEL5AIFw7mFaihm0UCJkI1DrwAIA4Yn5zDekqrFK7NEvf310987d03dMP4XyvsxEy8IKBJeWWie8BcCkGOzyY9f8L35z9Bpf/vFqRj4nwV7zOmZ3tIAUG9qCtgVLaGCLQYLBCjGkIIhaoSZEKxBNBbGRxGThGisb+55vu38MxZmfZ5tXkscxxi5oCq5TcVnwzRTCYJoWBgZOeuZlKKJ5LyJZDSGJLhgIGmoG8tsujZ4NlJNvLquJy+4Ye/HWhYtf+jcdOXfFuzROzC9fZRTn5db0CBJopKJiUZLbDIXI5MYNUVkLMK21xVyK56jElu8EnW1qq6b9Mk3VZ5hg5eRDG3AflBsJ3CKVxZLs+5VbJMf+cv3l64/sLTo58PvvNmPH6EpsQGAR2Y017ArmqKOzQb7CtIQbEMIhhUsDCVADVTIkBiKAaiF+rrZ572tvKbPpiqFYu7JWNGcCAkFLYyu0/1JlcUqIOy1IEahZKMUGkbJRMCxBhDHoAaQbMLM+wqjiEkANdqW3vYh/tWMruTG9W95pNE5VC6FoUL0paEZTVXLITNpZmxmTTDRZaIutybamNAQwBjsafKagUgRYfEKqKknhPy4j8xa4w1eVunZ1YX5eAHjVSntEQIpxvj06Fv0mOJIetKDd5UP4wCPzSgOLCmPYpcsPDZb01P2HjtItCAlITEGuQPAEXAUlJJu6+vnv3XWyEpfIElinjBHVXBmmQRqWp9YWZoN8glAwaqUABJGcA2X5GqzRBrNlLET4yOUij43jHlhGNTS0FAqDDUd9Hsza3xfyzHLfm+WmmooccHkiv6DTd6cE2w09WJSL5EgT7OQGAIrKcVggadHk9HmRix5KxEWu6TGVxp5z/HXjyxnxssrbOyeNAUvsMgJryJb0FRpCRhDmT0Moc65PaSaJDm2MqPJEUHxalYPtRlSbKWqCSAMJhJwAu8IFhxqhTTLG1RZeHmyqZaUFOKZGgxSQFLyhoRAvf1dsyFJNNHYYMnbOkHZBiPBqnfeFkLeVKOE2Bcje0liyOY5P6EyRFzMqNBIF3BaTyqtB/gkVIsmE6gtDLgjEww5Lub11qZGwSlimgsKOWu0gQBiAL0bZyehlOc2WFaLXUoag/Vswpzly2YZ7Irtr0+dhBcU0FC8ito+U7s7AraiGAECRSqrxzZ2zdyFI9i1CIvNVjfYYTsiIFiCMhiqBBsMAYJCWhmq2bYJvU8uUkeiBCgBxAJljgSjUNdXXdSlAImJxgLlkAmRsJCIMoTFRhPIRLFpRAxMrPmcues6YSNBSTlKVDFUh4MzFAMnHvb5feY0GKoeaUSSJZ44mGA4UuBoGGpZxaz1NolcCGyI1WJXjB+p5ZOXtl13x8cGsStxA+YZvKADNSHFK8omHHjTAryUBmxFpLrinzo2YpcoRwoQNjEyEHZGgQkAIVgiQCVSisGh0qSZHb++fyEZEQIISgBICQIjYijKBp1jxAgLVFjRhXokCMSpwmjkaMWKhURrMhaQKtcnHX7DHBgrOas3DAUpR6uxYEKQAodCY/XbO4esRgEXMqQNUjjvvCVVSRrMqgkA3WSDD5JoJAEsXh4ZrTayBYtiferzFRa8PDO6HlOxk4moRFK8ItVTflApBry8JEp5VftZDewaNdCEzXqcKnZGSsQQRmQGDCAwlOf1pmkzOovu+UzJKESJSKGqAIQYwjCVdZgJqCqBSVgnoBpIWEhJiYSAyBArMELMalgRoz32B9W2PCFfUI1gjhTBYAqkrijDrnX55FO5kSp7AyUVF4yAxEQiMZE1ZmgGjG5MJWiuNjCJWuxC8CEetGctbylXGyx4ea4ygBlQbKPUhQEhvIrBg/d+bklIlH0kvEShZ1nYa/lb9+3GrvEo2rHZ2iIlETsoGYCRMYPAIhaixYTqtZY5M5uRN4/UIUYjIIaIRKBkFKKqoanWjynEgLIwCNTFA2qCMeSdycUQjE8gkVDIcheJhF3AwKJZg63s4/gRYiJCSI24PBgvSNLV/5BZT56z34BEJgPxZOvlhkOkkGi9GFyj4E03OiNDV9sUVMqFwIDFy6FkBJk7bGolMuqtLsMuFNdvLO2DnXRh/aiLeGVZ5xlXLGx5YvnU/XzEiyX9yy48+KePXeoVu0S60U0DMLQ+bW9SbBMoLwLCSAEQgWNuyYbBkHfNn27qWbMj6yWyI1XxAmNJolAkSxHJ+vXlhRA2ESERVmqnDaOFjFRB3mgwBpGi1Zg2VKMYSnIxqHe98ar5jb8Pdy5swHAuhSCJj0a0oMmqZ8876EZ/iaukCJSoB4QjR4g10RghNcFKv5lkoKObqNPFUiZQdrB4WXkNTYePG1Ei6dmneRi7UFyzdu8F2Mns5pW9Mxp4ZTRy3neez8xnb3lkacQOrArSx076Gj5+weIN2DX2yydPANAz7AxjO4uiBseIBkIEiAOQ60h90qJJWVUFG47s2EjEQYkMC6lGssGaGJVtaWXv3HnKUIIFK+n8wnMDk20wYiKDGZ6sNwKbUxLUiYhVr+wv/PZTYfxFdz54aD2KIU9WUdBYyGz4xxFX86cuPnCdMwg2syQshcxGy9F6TevFRuJdvmLKJFX0DraIc8GCA5jtf+OlpH3N/euS0lFtw0Ra6h9YpNgVszZMacJO5u7/yKa5eDWVKe/68KJbZhx90ECrxxg1Jncmh6+cjzPXX1NRwi7Z0Sf3wGY9IxM2RGz3Y+HgmTQaUlY2dUutax5Y5yYvGVfJ2ExY3XNQ3bsQmVWiMRARFiaYwBTt2vr0IgkB4GhIafbCRzfOqhKBoCTErGAFkRKgMBmgTDIy6fLLDvnGwuOO6OmwpJIbUy+gVrDidfBS88aBf65KQdSQemtIBcQh8WpFOLIw1/8yBwTaUO3YgOAQCFHZ/h0vlZjblk1tPbJtmKGc3j/vmF7siu/DdOyM9n/g6WPwamjook8vmIFFxz91ELZit+KJdM5cyYpz77v5jvb1jF1L1i0/DZutGB0fscMjxhdKFSQUo9VAbCPbW//eOWHRxNFYDLH+p7kH1DkjC2GnPgMbF70JYq2q5kOYZgFlUjEaLGTJg08fKy43EMB4YROMsvpUaknqxSFaIcTBs68ct1AOPOYfnXUV21yvlpNnl5up851vn3n7Pf85a20alCEFH8FJreRhGsWcOSaNUmbd6nVnBAtdPdopwTTIeGsIdhVegqb0dc/RpZ3DDOWOv666tnXQ4OXZSg/2wk6U9sOy3ES8iuqk/3zrha/DAfcJ1FiQt+s3fGPk678+pnPuZ3/6iRM2Ml5Buk6OgRKek6ZJ2GGjQkHsDUexHEh5yqaB6cX9J4x6rRcnPvLst2Y+oxY5GQ0gFxEVicJoJEprGzFPlRRCBurg3QIsa6SZk0g2+MSTAiQwAaXgiSU4YlWuTPzyJbef2DjivuAoleFWZ54buKb/2t8e0TnrC7+47Jy1HMEwqLMJrlaK4qL1yt5k5UoxL3bnr7fCWO5bu2w0QtEqYF+Pl2j/081dAyfO32SEC4XHf/PeE9cY7EKhbz1mQLGTw/kvg4UaXgVtestlx6+dOlNyA/vsqpkL6Ok3X4SzLvv5keNvOuvfB4TwCtxjWIzNViecYIfjSUm9sRrYqEannY/c2jGyZFFvNKZI99132XHPkCWxgIAJBgr1FoGMotCzAbMVpNFEIxws40j+62AxF4ZGmMgKUmUhUG4IChcVhthuOueBM56Z0SGqyJf3duyrq065GOdf9vPXdX7/rVcOKqkTiWxVKDpvbGSBCUaTehIsL6OFCqVVKSXGKdRxJNhz8WL28a8nNOfRlXt0FGL3n1a858O9kbEL6UBv2yy8yF6HPfD466qEVyFDX/3LzPwtl2fl5Imhi+5+4FjZG5j0s3sufebs71VqjFdAcv++E7BZX6H6d8V232cyFDhqEkBi8qZlj5qwx1Prpk1yYfVj3Re/ZwBGBEwgCBTEpAyxiDCmv7d1FiMaiIkUbbCy12H3P3F0TZQVxFGNGCE1ImCSyIQkcHA57PB1j88bueDjtSb35MgZj/zxOD0YfsLP7r14zdnfqQy0iGSwVkioUCnXSU0w7I0qyATGo/uMI4L2lIeHo8AgsBG19+BFaMqX7ms67iM/vOsRoUY28/+d2lMx2JW0r/ugPbEzpTPvf+D1hJdqMUPcmuflaoOxBVWS3y2a85975S215Teeu2LJ0011bBZWvP3GMMx4JcXuP7wfm9V6C64k2O4BVY3MHNWSZ03Gfene5lM+/N17/v4nzvPJnzqnp2K9tRCFiGEi1cgqJopFKPZvPGSeihGQGCW1wcYzH7zneLEqrBBiQEFRqd0Moj3mhXqdhb2DDtp7993vK3spsue//fanj3i61OsdkG98yw0y0DmcRMMxumikUWwUG0luNSvkbKLxJum9/YMMpUafKZGCoUQRsA9gZ2R+2d2y34fowjOffb6P5x9YXhMNdolXyQKHFzvjip+8p6mKF+tYMbREHpk0ftk+TRXGFjzQ+diJx83bs/j8Aedi1hcvm7gB6LnoN5/9ZGWY8Ypab6+/HQqs2lj2nrDdHzkYm4OUSFis/nZdef9L8IGzn1zTJ/MPa38mpDENgVjhWL2ArfHBETmJzq3Q+QwTmIWjUYL17owrbrm0bYRYxQhAJDa31LJy6CD/8KRJf5nXXCNC5OgGOp84/szJC9r/vPicMP8zl08cdbHn3b/9109nfYXBonchpEaSnKyY3AaXO+uNRo5G236cn4Ng8Fx3az0JRqIVYQs7FzvRltX1rP3ThTXGzV9ElA32M2OXuLEG0/AS00/78R/PqhB2ouPvONP/YPADC6f/+sJrCznGcH/77z531cYjht4A4D0//lNj5JrPTr/vyP46YwcW/C+En8/eD5utG54sLNhuNpGqhZhARNK0ZrjR9W/tz0t53wOJ8r4NpSRPMiSIhCCwViWIKUqgYAphcB1PMYgWwmo0uEguTj/lpw+cNQJlCLEAiGlj4t1n5t8buWy/ab+95GqTa+I1jTrQ9IdPX/vAgaOnMst7b36gd+DaT0/73bFDIyak6iJzbigaSLQQiokIQ1mZQDfPXig2mt6BiS4EVZZgKYP9MnaStj1t5aMLnrUIg4PYjPEylEqSKWBHe7EHFDtTes+Pf/SmxGMnTRsu3H/f8zs+d+tD7/juseduxFY8mP3rSVfdPfTUyukGp95386/s1e9NNoCxQ6erhdZq1tEYIOzQtOHmf4cC6MvMRMYOVwszSTQwmUGx7akCf2T+84nxfUSs6rwxmdXMGERhgwiFkbxZG4j1JumRWVAWBsSoE6Zo5P0//fGbEq8KQmAhILZ0X7jv3hd0/vtvH377Nw87d5MGkhys2eBnTrz2rt4/PzPHxDfce9ud5sr3lTdlDtFGYiUbxyVZo61W78z6iaKLsLmBlDf8/LNQNb43FsexC4xoIhm1X8NOzGfi0LmnrWK8IsZT7fOT+ojt7XUL8FJHLb313tdvILyg5Zb+/z7q++M/sb503a3/faYN2IobG/e/6b7f3X9kIQnFY+YueWvrQD/jBZ13f/fd+1x3/JxrFy4ZJGyjzdfiPQAI67xpIuxwHYuXBEHJCuy/hQ3veONG1nrCUYJ1yBqpjZzGQNaGHMQMJfuP5vmFvBLXDZTmIxohEqMUDWCCPeTwX//xdettVCMWUayEtpt7v3/4D8d9fG3phju+/6aoDvAuau6zJV/78x8eOTkmVD5s3kGnjR9Z7wsQDkmuJtiJt/7g4iVfOG7BtfsfOJCnmaFGKQdavon3qVFxqzO0U16OIIEJZP+KHdRU+msL3j/oGa+I0uqveuccvmD2mtWTp+AllK447ZuvcwE7kD6LluKe7bqhXFryl01tATv02COPG/zT0/XWPRe3ydAGYryga9lpsrz46C8m/bZ433792KZU+dIF47DF806fidhhGcCiWoiqRPXBkUWXVCtOC7my5ViXpCRiKIglX7NOFcRg7b9107TD9l7Y/3T7LLVqIewdVKJhjvbyB79xTOJtCC6qCyEx+UrTXJ7XJpuK6ZK/bOysR4mFjC046+84/JjeP60faZp9SJP61cxNdbWSNFLT4M4HztHleOrmCXek9+814p34csPE5toXL2pXJZZnEvuPzEKgiXgLeyV2IM06Cx9uX2HxymL9yLm/vOemrvMqlWOm4n859ehf3nbyesZ2nJVVKa4AACAASURBVK10Jeoy6J2M+XevOKyGHSj2ITnqeKivdisIO2G+hv/rC+sevvJXl1//zW+zYIy2Xzf8b1BstrJUkiHCdl9SJRYXIFYl65h4yfiVDhLZ2FinlEOuDLUa1bjomTVmRIUT9vzN72+e9MaaXdpBAISDi2o9czQIZxz9q9tPWQNjIsOnvpHQ09pM7c70TMLsO1dPqxhyWhQvcLq65MonB8NxqD9mBcRqMaptpDE3Bb1Wr/9S5ff/79cfuu76G0cglNStuKZvD3+SxKhyTzMnEXlBKKLYIDsdOxSz6op3HLPS4lUQels++r5Hfnylto3+eQlBsTOla5b827Eto4RtyA+1lNHkER0mYaPFi+U5Xk7TU78+9+2fP35py75fee6hIZtjC20Z/tA7ZmKLgY3lJz9zifeErV4PQxqtZySuMbThXcessaIESIOS6C2xQo2okShsQICFhu6uf3rvg7+4oc7h8YWGoLAC2ygEKLzDVQd9+ui2ijcmKnlylNW6UmmvS0wwWXscRxj1Sk6VW4LPKzZEOIlFBKaoqjawleTpX77zgquXHvn1hV987uF+wwGRbK2t+oELZoJUdWSdrvjUxdKIpczFYNlOwzZqBnqG5r+rPzJeFTdWuiOO/Osdv79n6RmXH0JQ7GzxJz7/lX+tKrYhxCRB0yZKGK0Yxe4pP+6PQ6GofzkaTaO1MsZQ8+X+a1Bs1juS2BX3NLdGbDVbKGiSm0g0NDSw32l17yjCkYCNikCYQ85GlDUQKxGpRh2uFF9/2OOP3vXb351+6ZFkvCYqhWCjzVLEA/75S1/7RMWazCmUfRpjNFxsKIMmoCdKQjkJmyyJwXJkZI4gsNHZwCosBAq28He7lNJyXHFwWhjKClVL4EZS/iCugXA06B7sWLf8j8mEhjIDxHYGtmEz1KhdMPk5g93BcZ3Z58BT7vz5z25912faSfECpc/c/KkTDlzP2Eo4FUFJUTJoQZ2wOwj/MAdqysN9h8HmeTO2kCn/89VrWzBm0/CElpuunzqvhq0WW84o9aRO/lo1Z0webKqL5QBjYrQmgAAXQADYRCKNQiZBQHVl8YAlx/3uhz+59aJ/mewACsxgTXNrcOWtnzz+wLWR2QtBg7NFDoVg2h0sqSY5wTsWF0m9g7KDqjDbGJMYLJRVTDRP8WKxhfraf5KS1Juteusa0x66/osdeQKF9vRPmPjDGybuM4RiFUkebA+2savXjhx36hqD3cTaTXMWn/Czn339zs+cRYoXqPnpvu94ZFwfYytO8gxNBZQJBeTYLVxfNmeS16ZGOg4aI7aQtvzUfd8HxRbLh/c69afFaeMaEWN61KV57nyRl6+rHH+yjxlRhPU5WaM+UCKBiTysKjiCjNPohY2p1zI768PH3fLTr9//4fPQKLhGIUsREs9Z+sOFl9w1dV2xxoUGUjHFirdtG1E0KGjFwESyRpgEToNhkWBAAoQkIonReBiUsr9M3oORjhQnkmSiSo5HptXPmP8RJNGYSM/WJh/86zi3mGjenDSE7AxsRbK8kZxLmcFuI/T27vn5475739n3X0uKnexz/aXv+knzKGMrI4LWdkwiMBS7xVaX71fyNE4KLfBE2EwLTWd1/w2KzQjrQR+a8KkN9UlGsMUcZBbCrH5V1nxqeQOMEqmkEB8MO0eikcRJMBDLEqMwhYJmrqkW7WDfgn0O/dEfzn/4mmK96JDmjqPL03z/b11y+XfaBwrRJyEaYS8oj/OTWIEyh6xo84YVIs6NRYjGEgtHWASbWydJzF0eli9sHkrHh9aEIjiq2sa45M3DjyFYUjLoVfO+ri8+O34CJ95TCnszxihHN/q2Q1cbvBaEjeaog/7r+uv+9vMJUGyn9J6/X7fHl2KdMCbaJB4w158Z1WA3uQ0b32Yb5Wl+XKvmhrGZHXflT27rUmzVh2Lv+au+lZDNCJv9QtWQCqw0Rs8/er0nNUJEWbBOvE1ChIFSNCYKRQURmKOnglYSk0PWFE44+KbvXL/ya3MbBdXEO0UiCd79xNenfy4MlzIiBWLK/vC96U2CJozmsSmLlhtsCY68JUMIbIMQiUESlRs2NcW1m/ZQZyZy6wTUCsqkIW399G9/OMU7b8UI94HkrLXfbm4ODYGpw6bYimK18y3VyHhtWFc1X3bgFx448K75pNhO6Rsbr2r/l4EaYzP11oweanoWIU+h2C2FNfWpkLZxtamdWSM1CrUTvn/F1Sdiuw3oMBs/vPr3UuSIzVLlzJi6cw2ddkJuOGN1iJEdAqVSJ4vM2aBCzECAIcnYing0xaBc4OryrksXXXvHm64/vFakSFAxkbP0K71fbP0YDxYlEttRTmqLMLhYGqaYksstoqYAZyw2CjNMUDbKeZIzIZSC5i3rRmca3zl1aEpHo5JYsC903filj73JO+/UiGKjbRvofF/3LVmLmGhytSWM4Tz2XLjPSsZrZqrLD/z2lT874L4lpNhO6eYTr5CP22EDsGSWIEJ1FB12k12NTpXx7f6AUm2oORVNun7wjn/6Jyi2aqzGhPKawief27TXxKAEbII4SVt0xAycuHCNgiDgGKxRJSVHqgUVJo1EqmAiy0FgvSRRrAZNQ/fIITO+9qNz/vsoJaORTHAhjfZ7o/8SPpFscmnwgZ0Fo56bkqtHCiySBIohIXJQgyiWFUJqIyvAIkzpSuoSTE3j0iTUmoshuK7vXvzBT+cusigRV5+Rme2r93jvyqcnj0dUJjuCMQkqU04fxf8F4fmJX55+zSEPL8ELlG4/8xO9X0l7GeQblhABhTJ213q0h/xNE9O3+myo1YXmlv/40AevhmKblRvSiWQ2zv7o5RuScgAwArEymiSxf8bJjTQ2NEkl0xSiEcQEGMrEkjAI0VmvQo4ydqFaZK+FHJzw8qmfm/X5k+881DtiqAk22Dz95dmfHP7C9DWSJPVKORMJRsilFME2wCvIRcdBycBb1oyJYARMhMCArNfWLH/jbHsi9w02W3QUr/7E+7+qlmCgwWBdL3VZ3TjzvR/ZUDaixHYixlQqvectWEn4P7Gbmj8y7orD/7qnYgelX1z21ad+NLXHc6g5wlYMxe7guCkZn8cDM1jJK9OSMi795mc+BcV26wdaxweY1W944KamqirQgURZpF4bOXOvdWpLPjK5rEEpGwVCZIolDkKiYEse0ICS1q2lKJaC5UgorBv37paPnXL34lopOBWbJz6pNP3ssi8/ecPMnhoVqoHBllXyYGAocm4dIKpBjOTGqpeESGxmJDKJE3X5oGuLfpHJxkmsTrOt9Q986+OfBkFZg3PAmp6O8cHU+496+w2F9hxKthmbKTUqXSdV8X9lKqsuKFx+xFPjFDsofW2fS6bfdGqoZDVLGKMMxe6g2NvREVBXxKba4Ozm509/4qZzoNihtzGxxQNx6MJH+jsIwEQSp1mS1SYdK0msmyZteFtEjMGocoqcbU5KxiBGEm/YpZLFgglKhrhuLXHFFnri24qXnf7HmVmK4KIDSVOWfG2v98390Wm+3hOKVj1F0mCCo8AoxSBIWMDRhShOEs6NZE6siMIbRLO+cxo4ZmnVZf1zW/9x9pPfeidUQUoOCNQfm1tySutNJ/9hGGRJ7VPYguzwaQvXEnaD2NZQj4oX4WzFWeGjb1hGih2U3n3QKaef+m+LTb1E2MqQYHdwY8PkpgAFYIf9jB+fPfOpBVBsR+jWcrMHuG/eaV/pIABPGrI+usbIm/caiFJQH6kYGtZwDGARNo5qMIjRqAolUGiZYqzbJDeSt/jRpkg2JkP+zOyfL7i9GGFABGZJa8X37PfO00//1KIw0gYmAygrJBoKHISsV6eB4LxnwzmrEqJYkGqkZHTt7NKQMsXU9PGUm86btWx/YRUDseJTmE2x7EIh1779T7/atYhR24TNXKy6Y1QJuyGpLpsyt8k0Rhog7MB+1bl9X7rkW6TYQWnh2o9e/etPnd4sijFqKBJ2gxtds7gwii3M6Lgvjnzwq4BiJyvQ0ZYDoN6Tbusfx4o2ROFyRPHgUsWrU2EfnQ2ZsmVRgtZt4oM1IiADz+z8nwuzO8f5ihfYGAtkgLwU/LpzBr/w0f9gUgh7F42U4A/926e/+Mt/PW1Cj7EGuVpTpMyo2IwcvEka5NSDS0EzKNmYW4kUWYzYkTWHlEOQnJXRfGXl0v+wwUa1kWwwaZ7EZ6m9Kw9C1HPovj1qQXY8NuPuTUuXdhN2BzWt/6bsuWTerD0qfUrYjrP173/2huPfTIodFPTlM//ls9dM7lSMUcNesRvs4ECnwRgzNLj46qVQvMgGdLUMA6DBucd/o4MVXQoyuqH3gEM3ZNbBe1fymsEaDZ4YRCzKBBUhEzmB+Pzp3+WzD95j1uzR3lwsUQQKMQ1Z77ue/Oah54iyAasR1uhC8oUTPvO5r4yfWSsEKkjIKcmiDQpENdqwkUjBqsEwIhjRBSZiZTfQaKmrStlr2t13yJWHwDuYACZlwIB7dfy4vtzZbGTpEd9qNl7tQdhs43P5ka19jN2RpRcv/fU9t9qDDjls8fCAwXZcGfnXZWctn4mdKS2996arnutSjFFjMiXFqzIj9XYj2IL661ctheLFBtGaKDajkUN+Um9NZFEs51J7duT1bcOQHOUGMhhI8CahEKFAMFaIrCo0MAFN5x78u9t/Yw8+csne1FsbN5q31pgCpf3JJx97x6EzJTghFRMsBw7mqDt/cOOfJpfACoWKesoNJLFeCLmLYNFoIQYcLHGe+mjUCbK8taW73hQVvMF/4ZDIDj4WvIOwGKPUTRNtBGUm9Bz2i3pzEu1tABw1Zh44wNgtnHfP/XzPH3/2yKM/PvniWWsiYxvTM/uzF15wLyl2oqBz3zxnQLGVtXUhxasyVXQaxRY8BA/Fiw30U7NTbEb9ex94T1n0AXixlXyf2YNczGJpVNVZL2wQGwxAxSYq8GxVyUDBCJh7wLsf+OW9D8455dSZPYOFtGElGom8cebnz3/HvQxvxAIQ5mCDdReecUB31pS5BhvuKAzVSx6mwcykAAchNYEYgRNSGK+sNthkuDE5Q0sDNocgeKeIxsEFWDESXX9DVUpZtCqjex167yiRXQLw8KMjx89Zj91EGBoonXHCbTf2fefhDx/XO2SxjVlz/Dk//MHb8WJKaWtNCFuItXXBq+NEMF6wBckIyniptZsKndgqNB94d6jGJaLFoYf6T9h3OGYpqlREyChhEaNCrCaN4KiIpMQQxGioWq82n3LsvV/b+L2Hzn9jqbso4Egkab3/kPP++wfnRZelEqxRKKuBUkshC8JKjnwOU6gGAaKzaLhoVSiKGKPMmhdjWhULOLia7ZQIUGhq9CQli+A4sje2waTRYeN619HUmzmTm3rz4ruqKew4gMD2EFLCbuPGysmH3tgy66+XXPSB8nqLbcLIxXd97K2J4sVy6z1hC3XwaWc1j4pdsoWCi/13mAmCLUiGuQ0vtaK/c2LAGB7ee1J1n0I7AVIoLGnaKIyoZY0eRlQVakhFIoQhRQkW0VhvYpCU0T8yfUkzp0/+81PvmrFOpWCDFXFZeMfdV5zRpKlQkqUCMUKRKNohKlQoRUjzmJn2AadeY1AbY16wSmCVaKNyJc2ctc4hdD9ME4s+FEOMqIQOCi6S9ZakIAoLPL1hysxK3lw1sFKc1lGcCvs9AIbm7TNAeC2Yl62ddez8u7/9zOdmrDHYijcteNcXb7yUFC/iSmvrjC3UTnvoqsV7TCwhhDyqCFSxGYGImNgmlqobn3/0wYf9jLaILSgOl1vxYoSh0D6+ga1GZsz8M+iH0YQ07rlwvTExT1EndqoIAmspKinEkncZm8DWq1MnoCCs/uHlc09Yf9c3V31yj3UcbGDKbKNnv/Ov+uG7xQhsGgxU2DsEV95QDWw40zBu7u/+/fCZneWYhLpkRtSDrEalRBMjrZQkfmTDM0888GCY0lop62ixkLX3ldrUwCAyISRgJaFhKrU1io3EJ3W3Ye+9HpjUYscDkJUnTF6P14bX59bt33nvA+/8xszVBltxzxtu/PK7DV6MSrWawRjT1vfVqp22cM7UGZOb09QyEwGqKjGGRmP4+VXP/um5RrL/Rx//YzlgjIw0t+Cl7nCtrTm2Cq0LHn6KO5WMX7N4fHeexjSSlZAwGgVR5GqIWItadeokh3iTKilJtCKQfiW3qOuhu1d+Ze8VWZFzkxhQ30nf/9wFSbASrI3GQl1uLZIwIuRr7Mq+vOH6K9u79lrYMW1asZVaTCQThUhy5NDe/hUrVz32VJDFH1r2SBkxtiIgHy2XCfCOEDUBRwbpH8y4Lq041dDcoPK4xlpYAiQUD4ISXguK/ShRd+fpbQ9e+O1ZayzG0OCc866560S8RJo1GFuo6Z9+z3N/eeBvDwxnSSkpt7Q2l1JGzGojQ9VK7nMqtc2/ePG8cbiw3hKxBecDHSl2RtDTbu9qKgZspbqgWMhhja+n+ybsKAkxEbXQ4Go2gWUfSKPXAmukFKqasYKMBjFJ6Ikl091xUvPv33v97HViAntV6t7zrK//7iSjsEGdd/BJ4tWUBqWpxkUXhn3/zHufe/ivjz/UyLhMrcXm9maTcKzXagPVUd8IsbVtztuXzGu375ZyVG6oNvnBrgKCsRA2iEZYCW/6TXurqRUIlusmtwfd5mEN2FemzxsivCaUD1FTUh9oen1yz4e+O6HHYAyNHPMf3z6RFC9CmjG2UFPoLe2//wXQTc+v6enZuLFvZbUelJJic+ceU8aNnzh3SgFjnp7eGrCFafRMxc4Iz5/SfcBTzaURbEX1Cc1+4fMx1erMeUOROYsFRozQgk9jblRt4rmQKxrqNJIYiamI5OSIYhilhGmkeFR6579cN3UNcTR5qca1I7993Ukg8pZAwlaJDQR1EuYgLVrqTvfbT8R2r169YXhFz+D6aqNBruRKXdOndIyfOmdCiQEl/HV6W2yg2ddtZXCSktVorQobVaZ/vGlgyfJCsUrIXZ5A/cRm2cs6oDF8+JQevDbJULcpk3JVj6o/9OWr0oAx1L/n63+1YTJeTNDAGOU0H25VAk2ceBjGxDwqbGKwgwIk3XNLNWxhqv37YSeEn75z0mV3ZF3FYWzT6BzXnSeajPafOLmnmFebxcdobdQMxGAFKaTqKBQROEbyppBZcuKFYjq8Ke1gV6u2HTRy3398or23pZ4U6+WwftHBd6+fkqVOhcG5o2iiUficoVGGiqnv72RmTOw8IDqKTJIR+VhIQIBCGYgg4b55baMlNGJZ8v55ShISBENCYsKPPtp68X0DEzpr9SI7sSNNg82T1jbsZIrPxz0LQnhNkk39xVQBqvGxfb8+9M3PG4wRd+Jtd7wTL6bICFuoSX0AFFsRAFPENooX9HW/Lq1gC65VW7EDAR/8xoHnrB3kcVaxTdYxbfnfF7qBrGVGy0CdbQ4rhrwyc6SgJgZToBghgaKAyDBTYIUTcoV1fTbxDeWR9KiBW5aeWqsUg0lCMPTmP9x+cRrVCkxMVIWNt1ynSASTJKm1eUGDi8angAG4iGAMAZBo1IhYI4z1G4+KioiCYKS/nUGJqo1EMNkV1y18S9+mpi5SkxUrRSmFrK3t8Q02o8roxP0qhNcmGakUCwKARscdveq7R7RUCFvQwN7l299Jip0laBC2UE5CwA6KXVnXmGYFW5ha1oztCI9e/MTZS2qDIWkRbCdJayx78dnkuUPOE8MggMAIDnCiLEEMkSCoBQxFERZVZg5iwogpWkZUaj9y+fcPaq+yGFWW4Xkdt16sRsVkKYG8A9TIaGKCBbtgq6EQ4RSSQlgiM0UwQQEyDMAIQ2hTNr1pAGlUdbU4TsQiKhuhuOxd/3jbnrpJ0qSBxBtChFJ7m4ptcK2yeOYIXqNkYHhSOWAzHphx9F23XDpKGFOdcuRdAx14kSJyjFHrQsRu2IROxRiuoxlbEcLHv9ry0a6+pswnLYIdbFkxQqON6fvW6yUfiGNiaoxIAWqhZBgKghKRalQQkYEihlgo9wxPKquQkTg69Zg//Or9xXpaM+xkdMqBD/V2VcukDGSpaxRgjctUhSRmxoUMJgIMJSg5qJDBGCWN4kiVhDehC5aii1TKkaoFDEF58JqrOi+dMcx1bzuV1DVczG2a5W1pwY5QPZ86fU3D4DUxG+vlkseY6j5/vuXUphrGSGHx7Y+eiBcpIiNsoVz0EbthEK2CMaaKZigAAn52xYpjjqVeMtVGuS3Hdsol1Trlrr1UHB4plxo51woFRCvqWDQaqLIJSAQq2Iw0MpTIJRxXh6Y0UxeDywr7/s9tJ7b3S0mpXq607H/nshPLGVKnnHpXiDHp8MqwWcJaKAUDMRFqESkaJSKNMFEtKGcLAQNi+rSjQapGQhg0HYxAJjL98ItPHnqC66YC59QqEJcVGg55mha9twGYcPdnLutcK4zdR349lQoNjKmOX3rbvWevImxBtb3xtxNJsZMUGWEMl0PAbuhDu2IMDaINAAEPf/H2lvfsUakTSdW3dWbYQUtGgsLef905C1bXiilyE10MDkQU4VSJpMFWVMEEkCoEVjJXHm2MBNfsET1LHB5/yO8ffutoZFdL6qWRRfTnE5HESCRkvTMeCbKAlDQyF0kkJCZosAbsHUTJSAArwREAFSM2jKDJcECDimFYWhGMgB++6raWS2bUqxDbX58zPgsmEDljR9kWYm6n11clB95y7xVHD/cSYXeZSh8XjGIM1Wamd51sI8ZUpk655WMgxQsMPMYol73HqyKswjiPMWYAnSDg8W/8V3jDQcV+JbCv5V0TPHbQxGByvqJ8wO33XnpidT3FpnI9gwarXkFRDcMoaU5kEUFCLMwCh2pS6ymXUddEQwpU9rzz3jfCBDZsMThz4l0ftcYCeZInLnMFAKOMWpJT6lobI1MSUauaJxAHwCCyhULAQkKsyrD/QCshmGL0xWEtkoX56w3fbbz+4ObhkBelMRwntAvnSWm0nMGFWqHo7Gjm0zee+pULznjv3L4hIuweWxul1Ci2qo3b/7G/79+HMb558W0HffBcAhTbMKJiCzVNyLEbVraP8xijA5gCPPaf3/FLDptS6WUAlOcoZlqIHtswoZE3iicdfeMVd71n3+H11YxJE0SCtUFUA1nKKVWNSkYVihjZ2qzama3PmiIlGZngtNa+/5//vrhXcgXylrD0luPee2aqMdEkmlRULEoMyZyLVARDFSBKhIMTtRCjgBDDkyUVhoDXtU8ajqXoJaKbF0D+9o0fVw44rk16gEIwo0lMQl600SNSoyAJCexa9hM9Pv7gd35z0TlzBgZB2B12YDgtErZRM/1PTxzaS9gilse11C768ofPI4JijENQUgDKzWhgN6ydUI7YgkOfG/+3L/3CLzhklvaCsRnnPqFnfGtnk+QYEwVrg5kwMvFDD/3k928/fc/KQBALbwh53TmChIa1UVTB8GQ1GkDzTJu4KmwKdQmcxqjOzX/s2cNFohODeld756YLvvK+d9hosjQYDtbxcOSSihdujsPwiXoHsCYwGokBT4xIlpQRc2KD7qnjg2SwMDKcFv929U90zjGTZCS3MA1naTQxzzS6uqyWY7R5KYHPbUs+2FocqCzd7zff+tFZb55T64mMV1fsHSiVBdvlrfapihFsoW587ai3/eKCL5z/ri4CFECCqBijzajg1Y1umJMItqA42vTuR+t7L55ZGA6EMSbPUE4Gh7rbJ7XmngDOIhdD/7jm5zuO2ve27//szNPmZQO5tSJqU40CtjbAgBFhWKJy5M0ohJYn1je3I2oqnoXzapN7cshaz9xIQjJu5NyOX77r3y96f2sqTJG1IC4D5aRE7RhBEtlCOAJGoiVALUiIASjBkKK+Zg+JbKVeSCt1+4H/GZ2/dA8eRmKCyZ2kvcG6wshzG9umliiTQq1RNSVL0BYD6S6ffcSdN9x0ysmLk/5REF6FG6i2pYLt8qbO7hGbY4w00dp55x734Ke+evJb3wACkCAqxvx/0uA0WNOruhf7f621936e933P0H16ngdJLbVmMQoEAmMmG2NsTHyvHSfl61TlSz7d+Nb9cpN8SLlSFduVVJKq5Dq+MbZzy/bFFHgAG4EREiABmuexNfU8nvEdnufZe62VPudIohuTloDfzwdYxltbXNiYxljFuZk8cvPh3f3lERHWhUkrA45JT1/Yvrs/ccLIkDxXPLXUzPzWHd/4whc/8vF37hgNcyeeGUTsxYSyCMFBcERTuMQiK8Pp2ok6kUY0dXNbTxePHUFMuB9fuuY3z9z/3/1vn/nND4YSvCCOqzAJRQgBS20lgEONQnbACQwosTFycIESzixvEZuISI6laR8/fN2BqbOTKcsaPJBps8LT0k7j9OK2/dsujCOtNDlkrTYZwJPx7H/18X/60hc+8Mn37NOFsROuhJe7lBRvsNCftFMd1nhNOl6c+dxHHvnb//fmz/ziu4BpKMhxkU9jhLe21GyLhlWUl+pfv7qsnCfCG7jpqhmDc78cXTg411gZkTQrYUflqZvnrb/z4W9/89uHfv72vXG8NJHCAU4BVoIVoewhUFZiZytmK2nKG4FLTkFzsnpx3BsHdLUW67EttLOf/eR3/upP3vWLn3onxdmsVKJHx9JG5KoQA1QSIAwj5RxYkOElFgEEZb7ZMbVUTyRSN3th8OlreWGZ5kZdzzxo4Tj0OKVTGip/7fQNAzRdW6WQJvVMwUU0XNn425/6wTfv3fKxO67fyUsjJfz/W8gpKd5EZXqQsc4DETAeVx+547Uf/N7/dPNnPsNQxxqfwghvbYQd0bCKu+XZ7cstCD9EbUkDA+AyGD95YE8pQ6JCM1uG4zqIr4wPHPjY4/f9/qY733397nq0kr0Ys0GCaKHKtCVxc5BHkXPDXX0Xp7bODaOrum2Ckro4idb2mhhH42H1Cx965b7/+Q8O/cqvJXiH0JF3cwOZmBDaSMm65OpShJK2N1BNKgAAIABJREFUFSIgSMjkIq7bZEz9XLBhcdzfP2qMqhVMlTpPEnKU0hso2A2bzjxy9Y5Kx+xh2au6YA2tLPd/6UMv3fflv9z13g9eu2swXmmN8ONQdw51pXiTaxHDm4gAtK0cvGbh6CP/w+/v6qljjdUY4UoIq45jG9ZxO+yr4jLU5elascrrcqS5Lp9Lbe3obEOjMC/nZOun73j5vq/87exH3r13z4acS2uSdBSFvCgJO4JbEbfJeU5ipe2FSRQIJHtdepoQEFKuybVfxp0fvub8icd+7w+2b+pAo6Coq1qXQKpVlibVMAZiceLK3SEqnfYA2BFsnqTcUu2luzDXuFU6itJ519MSKS9OZqazWuhNxhvwyuJt3VGysO/p6VrxOpqM4w03/srLj/7Dl+ZuueWWA5t7eTxSx4+S0TnuVRO8QacPfO/+T7/CWJXYE9boEqqbb1w4+awZ1lmFGoQ1jh8ivGnx2Yef+cH0VsUaHg43pTEuRd5arBVrPPSP92bPVvtXzk3P8mIVLXrMOO9b3nvrqeef+/Jfb77+5ht2z23GcFGmW42mQlCmQoiq/dEx3lK31FMwF3err/v2tz/3Qt25UEHVRqEmMOTEYHDTLRdOvvBq1Jw6Thj1uM8QyW49WElACUE1FmZjCBLKwis/ePLJ/mZukifTwWRlRz2h1iu32ExNPBRxDqg4WmeMltL5I7OTqW1hGVN9xZuoXMDUHbefee25p+8O+w7dsHfvzqlgXe46c7wpLV0I/TjGG5yvuu/vPz6ViQg6Ooee43VtS/078KSCsMrj9D0Hdu+axUWEy3Vnj54+8fwLR1/rsHVmg2FNXFrZJ47L6Nj6dcE6p/7CiytppSsDaqcnUhX1Ent5acmnP/5zx44+/dy9su+aq3cc3DVdW9e12ZTIjBwcoYutWX+iwVksqMRqH9/1yelcM5fUnqlDYfPQSRr3mjxzJz1q/UXtodVBmP7u7p0HBxEXeYJSUBHR4ODu5NFzr7360pGjTTXYulVI0DFhftyLw6Amal3IlLLAlrrpOCngqFpl7q28ttItBy2DaoTLTCY0897bl44de/7hu3zD1fu279k2PbuhH9w8d+pm3ju5EnvsHDqsG247/J2v33netcttdaweKN7kzVIHc6zxcODvvtTbunvnxpmp6alBFcRLngxHKyuL546dvmCKzZs/sGXnA8/3DWtkaTTFjktx1+hUr8UbaPCD+QMz53jD1DiTDXtCgmLBs5+qtuz9wPmTx55/4BvWP7R/864tc3Mzg8o7K2reFkyfvjA1oxTjOLQJmbCw95p7vvGRo9JmHQ1eSTOKamJVx/1hP47OFmpHgsarWtKev/pib+PBbf3Zmbk59GLVULeyXJZH506fXDqDVue2fHD7loefiZOQu55bvTjaUEKLqkkIKFzIqybn/oaRepWDKZXYe/b8ntkg1hfHj/DxGPG6mz66cu7Y8ePfXPFYb9qxfdvG6anp2V4MIWw6Mo7JuLHZhrCqbNr3wlc3nXNX0PYm9QsuxVDHGg+jQ1efXXrxobY4rQIcbgBSb27n4cHM7KDqSejSQLGGR1rhctJMeCpN8Aayk7BiKh5aSMyeFKisVMXaZQn1Le8Yz587c+q1b44sVht37Nw0tXFjb3rQjzWmXZWYxiF4UE6A1ftf/sqm+a4eCVKuKkPb79rYUL/lmly9HtnA2okku3nf8e7Z76s1bDRdxlPFCkFR9zb13hd2bKa6h/49/RlxTDVdQgekpWC5MjKIRi/cLqWN6sKtkFFVwvgsd21Ykp7gx8kL4LD/WmuWl1fOnT134rlx51z1er1UV/2uRnT0Hrt6boI17Z5Nz5/YNKIIsvkghksRDOs8drN3rpS2yUW1y6YOZolRQoh1xeI5lyUOw6kpxbqxR8dlpOswHRxviEunpvIJjgN3cqgMYz1kKVIgwd1HDUv/0M22MlpcPn9h4dSRpnHiQa9XVVWyagbG9XNbDi6U1CaV9uDjL53dMA6p7uKZKhSulwektTchjmNyVlA2rsQmG+5sOl+wCVm2RaudvEqhkiAyRcJdm7NNRnHLSCwHNYy1ttRBVIPWI6Yu+Mg0VUNzjkQ9n0yfeXVgZ4NYYsePZ10HyGBDFGvbbrw8bkbj4bAZzrdeh+S2sXrm4xOsGW878NBznxwBkGapZselGIZ1LnGyNHYeCDERYZ27m5mO3bFKupVdA8UaGnlyXIaLcp/wpqlnzvQp5VLNnM2hWOx5qXOTXESVGebacZmUtGFjCrnpmslw3ExWViaT+TxoVjZuUk/1yV39oSUu3mze8+izH59MUq4WVyjEcZhqEjkLW0Kp2o7UNYiE1CxaJ9O+MRpFMvNgmZnUrIw9C1y013WbSyQvUqvMe43sUZ2Zmko7EjHnjcGj2XjgDVdyYWIUAyM4rkS1AYi5ntrFRKRqRTd85e+21gWjq/7xlZ1DrLK46+EXPhAUiMOFQWW4FEMdazxIcTcruALuhpt7Hdbw2JLhMpxzrA1v8PTqeCpDirBVZlWb0KbUaQC86bGSKYl3aCbE5EgzG4SdWIu79+768kxPu3rz6Rdu6bQeh2J04NFn7yAjxKWVuteKppSTesqa+po1uEUysuSR2lKStiAHGYkRwUgRXDkVBBdthjdMFyXWwJqR1AOcnTqAlUudm14wcOE0rorWdnKIfgwqjLfmqmixiggk3FpVKbptM48eHGLNaM/eF07sXwR6R87dVq/gEk4wxxqPVTa8Be4ms6nBGl/iSnEZ7opUjjdUF55LbTTmhK4O6sxKJbAqCZG6w0DkBHIY2BsCuQnDEIRaRFFKG9LJg2lk7lK6vbuOnNxRzPovnr+pXjJRFZAZiXkkdUYGQyJ3DoID5GLKrCAycmOjYOpwQLpmQ2rIhKEYIqm7g0zZNWRRLl2sClR9asnieOrCkeEWQQAYPwl3wCcjhOBAPvz1Y1uGWNVuvuru5w85IRzvNgXHpRiGdZ56K064Mmm7KcYaLgt1pbgMNSX1DK/z2Yde2X5TsMdTzO6FzdWJzdyic0QhRxBTgMQJgBEBBAeQPS8JuSEPtj566tBEowXrNh/61nMHJpniickWgbiRE6s7l5zYCDBmaDW9DDYnC0WDETkIZgwmZ4I7nLXfrGwgL0JcRM9WtZEzgVQcTkQyKb2BUZNcmb2eeuL47lthAT8F0hYhGDDc13/iU0Os6Xb1nr0zZZ4cTxsKLsNQJ6yy2L+geAucMcWOVaSLSRyXoUk3Myh4HfnTzdwhwxOCzCiVuhKxOhEZheLkHMgcDibAnEBwcieCoYwlwKjpb/fjV4WSWojmvb0n76yyTI7FDcWlWMgmgJNrcIWTE3mO02eU2MyIQM4AweHkTEZwAhweW0wH7qKzxXIhBmMnOGkAjME0yjNTitIvrVCZaV5urjnYloCfAjcjjiEDZcNND54dTLBqtOua544enu+fe3Hv9jEu5URmhFXOqRjhyqh4nx2rqCxX4rgUebZer2Cdzx15cvvylx3dpI3RA3lF474WSV6MBELBM5E4w8jIiUFkYDMCfFJ0qqfEzZarXj22Z6HjtjcZbT/01Cs3L208+fzVW8bmofPUCHnKHBSqREKmAg8KRsdFOKdCbkxOBncqxBbcCybOkrhyI9GslSt7FgI5jOEoTP26xcDM69bDo89Vp+4yCoDhJxVWhpJCB6/r2ZUj7x8TLtLq6ieO3OyDH8zfMn0Bl2EpjnXMaoK3kGmKHaukW+4FxWW0eIqGdVQ9vLLbDIAXxJbJCQAxkxNARgSCMTvgxO7E7kTuBoDiSkO1FMB6UwunDoRcFwuT6YMPvHo41a+ef/fMArkDTkpwsFHy4sRiXmLVqRjADi7ODjgcTsFgALOZMTT2wR3DKOb5QcoMsHtwkJETWksBRJxWak/6yvxc1YAC3PCTknFDtViaWf7W4/bqjVWHVcOdWx+/czB+PO7KuIyLFMcap6AWcGWUacawhifLtSguRZ4tRccanzvyyJw6LiJ1smQlIhaN1QoHMjN2JzjY3DRAhdxhREauFKoLY0sxJ1m8/6GVU+M6B86xGW/Z9eStO5cer7aQMbIYQk6uIATx4irmkRMXZ88cuhLcWJkdDHOCE5ekYDCMZ4uhq0udVs5PMbkHMo9NgJMGyu1AiKirqo6njhyppGsCBbgSfkJh3HFKc+MnHjq6/V3PvHbDPFa1c4e//fLH7n/qul0jXMaE1QhrKBQjXJlnnnWs4fFwWhyXIs2eQos1ku5d3kEEwMWDKxSFuWgSJZAjUnEGmQLEynAQuRGcmJhoZcj1DC0ee/z4tltOHL+mbQk55I23/tPxd97z5PU7lpjIQnEw4OAcdMwuMGJiMfCE2clNlJ1YjYThIAVTCURMnc3lHJDVQjPaJNJwbFNxMSFjyi3HpAYyytP+0MkNlUfiALSOnxC3nczJU/efmPv5n+//j09dI4pV+eB3XvzFh/N1aYjLOEsxwipnKUq4IrKGpx1ruG23sONS3LVUhwarbOvjj2y0wA4YFSLKkoqLSFmurTiEzd2I3QjMBaQkBIHCOQTDUrtp0+KjL8zjPb+Ufv+hvXGp51p72odT+kS+bnAmOSq1kIO5Ry8sHVIx4jZxv5iVvjWB2NiSgoycyeBSeiXCGbxc5kKuckyjunWpJu7qsLY3YuXg7VgojYsO0E7NPPVMr1e6xB5ATSHH2yd1tU3KzDPfPbH7X964u4R3fPPU7iWsGm2/5uW7H7p6/zJ+BIs6YZVTUCNcEdmkN6VYw01Xs+NS3LboB8dFPpjcVWq4Asi2tECD1qKVRCWO64kF5kwBbkpBzIQLB1IwiEuMLNODutc99p0zOz5y207GofuOHxgDVSfD7Yefu+fBqw4s9VpCat3hUnJisV7sYhvd2S20zfTAnTMJkQfPLJwJgEZWFWeTPJlO2R0kydtS+WRmUnqjGk3sQupS1jxj3aDpqJpeuGd5C5YTsQWisZHj7UoYHp8fPTbisvOjt24ZnvMtN9390j6ssXj9PV8st/XGhMu4SDbBGgqqhCuzpj9QrOGmqwiX4VxoII6LaOOXn7ph7sgUATCMjYmVe4s5WYkaCqDRixMxwRmWIeTObiElb0aLw5Vn5uvF3R87NIdFm73tgecO1W10eK6uufdv2lv6K5UUamNHREohVxqlBSpyBKhDSYkJrt4roxDYSiDJhEwts0Kss6nEqe2veK83aiqtsxjYohoH76ZXSpwWUSndjHzvwRvnXqZpRwwko4YNbw/xmWPnTy9N5n5ly+4dcfkkgZb3X/X0TVMTrBru3Xj8pquXCJczlmKEdWJKuCIqbX9KsYZbrR2XkS7HnuMi2/HUXfUt50eKizbUJYemp9r1stCkcg9mBgM5B8sewMnYCxyubGdPLVw4tzL9iavm5vpl3OaeXr3/2OnZVjloObN319Pvvu5CbMHOJmIGD2gGMYw5TpzJUihG7l0IvaLepLqpHczelijU1blwYbK2t4kMzWzbUpf7Fsb9XAajPBgnzwMtxFXSHLk/+/TXBjedmAwuIHAIYTgZFLxNlvYeqoSqPsaLDgLQbrvtC8ffMcGqbm73iRvSMuFHkKhiHbEZ44rIuro2rKFOEy7HXQ49A+AbFv96ePvVD80dxEVHaTSaC9ll3NdSExWOVjyHAEdRCpRdyEiKSrTMGwagUKd+nuRlVe61YcPhr5/YLOQQLds3V9enriYnkFbjOjOX4EEpdmKVamgGvU6FCFDJYuO6ajgEg4dolNTJ2WobTaeunpA6cZd76KKxtclHdZZgoZlIrzMRqU5+7cwvHXhk9mpTSNDQTGbwNjlmyYnQjvEGaq6fPnIDG1bp3ofm9xN+hJNkJayLprgyKmU2YB1NSnRchrJK5YD3qj87sv8j5+c3iwPoPDu5SSYKrabG2IzEyJ1hIDeQkbiLA+5BIoiTLmiJ4iXH1MTD9z1/WLKH0i++59ELB7iEHEoJ7gCIlEzZu56ImgWp1WCBjbK7UCfMXpwCw4lbZhDBikiGcbZooy6JBXfkmgqTxhx00kswCr2lbz516H2Lo6niqVgAt5OAt63gRw133/iD4/uWsGq4e/fj14WCH8FSDOsouhKuiKyromENDT04LkNFq2TwOPeF+zd9aMMj2j5nAKoqjyFunog9RyXvAhHUScFkhQhQwBnuZgoyN3UlFndwzONw7aHvn9q75JwTLezb/vj1dUOcQ3aLFgpSEz3RSMQ7S5S8wCGmzMaswc2J1ZnMwGApwc2t9GqaBJRINmFcVIiZcjIiJWQPFWtVj7/3vZmfm/3+RF5rU2cBYXkp4Geg8abvHzuINVod+saJqxbxI0hyIaxyCnDCFZHlWhxraOTiuFyxEM3Dtq/9Y/2Bg4uLQMBFHCbLJKpRMkVuwW4ghxsgwc0pGKEQE5mRqBAboyOh4h6t9YD6+h+cPIBQpGWrDt11el/W0DEbiQY3JpTIE2XJIWg3FcgAv4iZugCQEgVSteAsoVMHqPRSQbQiHEYmxO5EYpaUDUQKrpt6qvnBPX7HweUFojo1TMEoX2D8DGjpur0v3Jo6rBrvrV+4ihyXcWYzwhqOMFwZWU6iWEMjC47LkGqIGrZ+6wv2gduGkwuVEVZ5My+ZyEEdhTa5qAWIw53YIMyKkAGDmQR1h0GIwLlQTSs81S0e3v3i4ehdPS7VcE/v2T2cLSgxsSrDpYQgRYWEVN3rUEydiYyUNcLUmDQHsBJZVBd3DfCea1CWFY/OKmTipddRGPdLQcV54+Shry9/4CY9uwR3MUKQguVCjp9eu+3mvz924zxWTTYffvpds2Ncxkk6xRpHgOHKuJQoBWto7OK4nJoE2Xrvn9nt71+uT87P1IaL1PWcm4WOKBbj2LE5mAzsUKNAZiIOqIMZ7i5o675mj5JzIkhe2Hvj3x+/cYlRlTDacuMTt20qlhrE0KTMMMo9cGwN4tkCetIZq6grKBgR4GZOwu5KVrfO1KqY8LKkhnRI7E6xcwZ34uRuxRlz3ffuXn7nbWbLS/0BMAULjDg/kYKfQb7+ay9fR45VdtUjr90+IlzKhU0JayjCCFdEJSd2rCJrhR2XIs8eqq1f+zzuvGPSDE42W2cLLhq1fG5cj+tgZSBZChdjFwUglhFIlWHiLiBjVSKmVmtzD+YTrWxk2t7wtaPXW2z74oUOPvzajlDA1KWSIFpY3Imyk7IgSupKiMylUw6QbEmKqURyFYd7MMS2rUi7UhmhZGbTSkvMsZpMN7nupjXzXHX3P+T331af33FaZ3vZa/Nw6Mjo7LkdQ/wMlq667cl3bxpi1XDX7qevTxmX4VAKYQ0FGK6MS+mJY421zI7LaFdm9n3zj9Mn3rHSpNGZXnfOcdFO0vH8AWo2jMWIkaOZGAwm7kQoJXB2EAvM1YkZlLxD8OxRNVlb24VD73z6nRs6M3RpZceeZ28Qy4G0qRTuhLrrpUUV9yKBXczjUIxyDGTupu7MYCuM6OgYKqUb9C90U0XFYRoLWycEt566JfXcbNn2T/9x+v238bCanErlgtEoS3gu95fOHRjip+dl2wcffHXnEPA08MGtXz12eB6XcpZSCKucohuujNT6hDXkLbPjUuQ5ype+OPWZqxcz9U7O9wRrxhM0J3b3mnGunNSRKYTSJXbvEKiAokPcnFyVmQhKlalSysUGrYKk0Ob3PvzKHW0I46nBaPP1337lBiNuq0kKqh5cVdAYi5s5glDQTEUrLuxOwhmIWoiCgVjNI4lFyVIvAhltYE5jTwr1elxNmgrDnn/xq9Un9uVsG48tDUC15ZrCzedfyGcJPz2fGTx0f/3KDanDxu7RZ0ZNc+o6XI5Szow1lMhwZVTQY8cq8lbYcRnT6RMP7P7U9gtOqM6O88ixal860bTZUqk5s3E0sTHXXoSCuTu4k6gEdSCpx6LuvdBJLC6kROo6Vz98f++lw/VKu/3ckUe64fCckZsLhfHUOFEXA/qF3VzMsvZ6XODGwaOFTGwMU2VjeCMIhcET7UnkJhZmHSYUkJgFk8wQuFn/5PcOfGjPShOFz8+37LDAOXAvyIlGFD8Vl5n61D9+New7efSmC3PH/ip/+Kqt//Tg4U1DXMI55o6wxisywhVRQY8da7yN7LgUqeXJrR8ZnCMgrByVW2qs8UrtRKU5+ZjiYFyShVyiGiEgO1shYmN2gN0Z7KASnKTNA2tCV+2Qs9+9iw+8duq63H/tz6v3Xj13z8M3z46mLIuFVrSAnafL0MwYMXvMXT0siBrUSNSc4OxO4ojGWaDcYcqJ2ujgWCw2XOcAMsmp6MzIUFZu/PhgviST8cu9d8dqgfudh8dAg7Pzs2P8FKQ3aI4/9p35az42/uLTB7Y89/kP/eFNgd7ziRd3DnEpTrkjrPEEw1so3mPHGmuZHZcR6973/u48A+gfO7H5UDSs+pYVPnNmjlZCbZr7Y4VWpY2VkpkhBIVaUme4OXnHDNGOadgL2eKgbo49cffS1Z+cP/Hktv33/dXP//cfVHnXLz/94agaQ05tpeBCVNpRNUzFPAQpLZGYFTIvwpCCYIak7sxEXEwtbCjIQVMbvKupNylsIOLQJZ1Ehb3zg90KV55w6szc/sFkB3UkYRMNF869+v4xfjIkvYrG5773zJPt3g9f02v2HTlT/cmvfcHPWXzP+x68LXX4IadYOsa6ihRXRoUqwjprojguVTXHr/nwfMu4KJ7qqmc6x6q++8LC0QPnYt80jGfn5j2AghclMRdGymCnogwXeFCnEgzE1E+8fOL4oy91Oz65Zy7ufebdZ/7is38h57v+u29/6B39CzOFqknUUAjMQYy6xKxAVXHbcWRu+y31ui5Uppk5q1OOYBi4CTF4mth0W5elIAUEJQpqsZ0eTq+cv+aD7WINUq9OjTY+nlZ6qXEPm6Hny6vvw9tEEuUiL+MT5868+urC9C379kwvr2y+6sirDx768/Y8o930me8evWEel6DoE6zzROrkuJJCybGGyySx4lL9B0bvmHSEi+LyianxAtbd4HZhfNq817lbrxUmVoSsgQniHQUj7iDkYDgoBg7kgcr45IVTL50+PfPOuWsG8yc2Hnjh2Pev+6NwMmC487PfOXq45pJM4GokxH1rsxUP1Xhcu3PKJXqlrONQNUIUyDwA7GwaClsnLpBY+qyTviqRh6KcydCF3n3znyzLnEsvaT5d0RGbOY0AD48i9vTofNXibWFbbJrRynDpxKkhZne9b882H54nHu/Z+cz5v+wdZ4DGn/rDRw+J4oc8+pCxxitSx5WQK6JjDWsTRXGJqbMP3rz3PNZMPXd6JkasewEep14+2Z9Ix1I18zNowRScXYnVycgKe6DiIGHVti3jcbO4sHB0xWb3vmvnVh/Npzg8uOfR7o82n9RIxT6698HDvVGgSQ0zgqlysxL7jtJ4qopqjCPzSqleyVMoVKmKwDyOa3SJCrlkmdS02EcpfQ6NU5Eu1F3uD7cef/janUsEioVmnzs7V23SQMGYwzsIL09OH721xduQlh9+6cKo1eRhyw1Ts5s3VM08QECzadeRj33iPOOipWt/9d+f2rWESwQf4XUJargiN4pYR3kS2XGJ9Ije0uJ1x/PUTMG6GfEzC+fP3myswRupPatDzBtUoh7gFECWXYTUaOGZVy6smE6qwcZDUxu39+pyvs9BrGzY/vzP/dK8DTLFszd86v86um8Sx4NxYBOLLSVvQifKzDo9NdQJKtLc68YzOuy5dUFUXbzrK1IrnvuxOmvIPU/jrksNK0Orjkg0pSfL+ztoJG8qOT3ZNCiVNkmKh5eAJg2fvRVvR65v2J1z5G8du/7jxtZORnidHvjB+aW6wyr/1H94fi8uFWzMWONRCq7MFRHruG0CLjVz6rF37LyANf2zJ/rdkmFdY6GbjJ85bIXJioemF7VMagralRjU4eJO5G7uxBsO7+mUy71nr/kw5cCjJUSjyh28/9H581NtXThm/+jnX9gbctRKVUCtRNAElBNlkGpkD+5Jx0lGUsMpwjkLGavnGALpRCjIJFZNKSsVt4OROAnl2po9Lz7xjs2LpSqhjdWFY0GWseibmnFNoQf0V3ovnp4Z4605tu4J1Bt+O4utKC4x3HXD9//2vx4RLlq44/aHbp4d400e0DjWeArFyXEFrhQdayi3U4QfovCI3NxhXf/xM7deZ4R1T5ukpnnl3IZRYGUDlWjMcOLkhQPUzImY3cDksiMIpebR10oY55HHOK7c3J2W9l714Ff/1WSllw0LH3jvozfNrYgJA1zgXQrDQmwgdpGOApF1DGM1KUTmkNqcuVCEFy881QHsyrHtNmgvByfrBFR6+pjf0pAAhv7giTPX3zZxcG05UNgP0JGlM0c+PCK8DV0H1CMVV8OltNrzwNf+i1hwUbPr17979D1jvMkFrZHjIksxO67MELCO2i4Qfmj2tafes+0C1sSVoxWPFa/ba2a+eOGVOxsDKBBbNuLsxOIOmLMT3JmI3KkowXuTEYVcBG2BsDrIKVd7Hvz656YmUoDJrl/5zrFdI4K6KIHYok2MoCxUqjhGbJlVo3lt6gQn1wDAiUEFakmMHCYUWwVTlwwEIPvGl59/75YluEqJaeVYrBZNqb7gaYJgAO1cmDz+7ljwdrmD8CNGe/ff+9St5wgAjT62/cnDoeANLmidHBd5jOq4EnKl4FjDbRfgeAPTY+mmBuumnz21eeGs43W3OYfZmfknbomNRqUMUWZ3YygCijErwQAQwZ0IDlZL0dsYguZoahEWy2T/vu88//5FBcjbn9/15E1ChbgA3DGLtUFUyJgimQopCAAbCA4id4W7iJKTGNwDpLi6Ny3CiJ00qrLW5Yl4c+dkTGVAry3MDh9l6VLrsVA4Crj77AvP33yO8HY5/plmy3X/8JV3E1YtX/PpPz63ZxlvYm4NaywGNcKVuCFgHbdZCG+aeeW527eeJ8ABzkfKYEuHNxx1spbSq8/d1nWR1UKcoKnEAAAfZ0lEQVQRURdxI4aBADJmcyKA3AFyN3cQkJkUHYkGgMebb/z7b7435WCSF67/hf/n9N5lWFQyluJE2ZgJcKQAz0Lu5ASFiwNOBIBA5ERgcxHVUFRyyZHAbuQOsZmXnrxz84IbQaMMX55s3Zo9qIEyUSgAZONyfuwWdrx9hB/V7Rp89b/pTXCR+3/2pycO4k3O0jphTYrquCJ3FqyjNgfCGxiP1TdjoyuFZjR97NiGamx4w4RZ42xefvHaKpeYHcIgJ3F1hzuZMwHsTmB3OOBOpM5SqFZzjQaoSikH+l//7blzSUky//J/evUadwGkS6RO3JmLOpnPDKwz4kJkRF0QNwRFUAiZE2lgONiphKCEJtcGKWDToMGfiLfqbJdrGRc5dbrujY3QlZgtIhgu0rLxieevvkD4GYx23fjA/b8yJly08J53Pv4uUbzOmVvHGotBnXAF5EWiYQ23XcAbfPbFF39x55MvncvV3kNbwovthq7Bm9rInLWSZ267rjM1SVqMBEoCNRBg0VXI3eFgd7h3UhenWKhj8UBAF4vYaO62Bx74tfOuAbz43luevD113AYS88o5TVooqQcTUSZXdpBRZcbETm7OJnALBLOWe9nFoiE1yu7KZpbQbXnpxY/tePjVM6h37d+DV8YzupLaCGu8GnuYwkWxf3b+gcPseJsI/5xWVz3wlV8Sw0Xtps/9mxMHFvE6J+4MazwGdVyRWQhYx10RwuuCPlMfuZf3HQ7Hv/m139j62nQyJbxhislqGeYLT+/vjbyH7PBARTkyGSDBXA0Mc/fA7gqCU7SCUHJkVBMJZsQmdvC+v//VqsQ2+fLeT95/el82DxmePIfUmRKRsDs1QceBYVI8eQabVloYno0teInqdWXCnYVS5Ya5BKPQulT6pJz4A7vqhnT86/TLB8/GQWsNlNDUbgiOiwqFDY+8+9B5ws9guGvfV567egEX0egzf/DEVXiDS2iUFRc5h9YYV+Iq4liXweRYN/vSU9WWX/vA4R41j/7BX11PNRSON1RmXU00aB/af9tQtFBwIQ9SMlMAXdRBTAlMIHcnRzVpkrh3JJ6JGZM+Z+830zsO3PXYrUenMpi6T/77x/eR9hti9ZwSJoArR8sptZmIFM5CjYRiSobAJlk8eRuDIZCiEBWwaTBhmAcrW199aHr7pz54w9QED/7h1zdVc+hiN8jqobSJwgIu8iBp+Z5rg+JtIcDxz7RzN3z17hudcNHKwU//yQenxljnFCaZsEbC2HElZCriWFfAeJ103+7/6ce5GbYe7vzQv/6jncOJ4YecVM5obWnx8as3n/HAXmIhouDKjKwsJM7mBOGiDAapkoE6jl4g6pQmqWprX9l27d333JaaKodw4dZP/N93bFw0AlVNcKJOQwfkPCCvtK4n4KjM2VAkcUecGcJuJhEonQYWpRLbhiS4m0ymGrK7dv2vv9rRwrzJRz74u38yO1PYvR1T9CLiYRmrPOSNTz/8nlOMt4Xw4+T99Vd+J2Vc5P6ZP33xjjHWOYdGA1Y5izrhCsiMBesoe3Cs8dnnn//DXzjXEYDu+J5D7dwuJfzQ06ScuSNKz7/0ztAS2prUK6ICa5kJJm6xKFDILwJRTNoYI+QQCneUMntHbcjdwXu/8a/qlYpKMPv0n7/woeRIHQTeVZ0hB9FEiC21mlSKRuuVEiIU4iUgFFIkZ+piEssSQrDWejlARTqeff613/vVs20q1hsd3bstbtmd3ODQyOrRwm9gDTd3Ldx13fSQ8Nac2R3/3Gjbrffe/9EzWDX/wfd+/+aYscY5NTliDQdzXJkTOdYVF6yL7b37/vOVTFi1+YU/3FonxSU+Ky6uLPr1Iw/s2nLGE2VPoQNxsGLEZoE8C8zdQ1RXYq1qFJ8eF6ag2lOtWx0szHWL+667+4GPaBMycOH9733wljisAZfM2ptMpkXcQtKZ011Pjcmr4jEqdQ5WSwQYx5CVnKugDQfDZGOJxUSl7a3M8jcO/Utt6kmva+P2J/6aNvVKaKtJPzMntB6OYY1Lb/boP31uhLeDyB3k+BEWrvne1z5OjovazZ/718eum8c6jk0mrHIJ5rgid2aso4yANb7hqVf+l20nCWvq//DyTctncakeQaAOStPPbP/klvPDKcuFYUwOcXOQwlyEYWZwYqHiihCXusBmEEPoxHIvJw03Pvr1j7l4KLHb8dn/9rWbmuKiDIneFWaFlDaxO4vCxOFtYDdntkBOJkTqgQxqWrlzR6TGacQQ8KaHTv/uvpMhpxzG0/Yfn92zdDLX6ohaAtQoPIx1XFUb777u+lOMt+TEcMc/t7Jn3z/87swQF9Ho43OPXc2GVS6xzYxVTqJOuBJ3vKm4OFalybeu+S9XCKt883N/udM44VKPGYgpA/Wm4w/sf8/UfBtNC5ErC1zgKETsABgwZ2ZTY4FrEGX3oAzjVIISL+7f/9V/U3uOpjL56JbHrpVMgMdcSaNYY6UQA2IGMJcSKBiMxM08uJowYA6ruhI9oJQaZhzy9Ojuw7/e5Fo5B970+N+kjS1PWVT2EKBRKMzgdSF09uU9MyuEt0QEx4+RN936d3f9zgrhouVrf+2PP7BtBaucQ9MR1nAwx5UQCI7XFResmX3s+P8+d4KwStL/efw9+81wqeMgmBA82aaz39uy25Y9BBi7gxzsIBc2BSDiBiK1yhO6LkINABupOMHc43DHLX/ztd86D4ttWrnm058/tWOkCEWafn+lISIUThNx8iIOF7ZkriFoEWOAYCSeK+cYwhLHHMgyiYqS2YYfXPi3u07WOeWUZ+zPXnzHtY2FLpgbxUzRPPTwhtrwypd/e6J4SyRujh+j2Z/+9jdjwUWOX/38kd1Y4xJyS1hDYk64IscbqEAcF6XxvTf+1iJhlW956C+2nhkrLrOd4NBUmLBr8sS26dmyPBU6iIRuVCXNHgKbGzHg6jAWISAbW6m5pVjg0UwJCJnGu6ov/YbHLjCUPvtnr2xnBSyZoZiXwAQNbBRzJhL3UnNxJybKQmAldnIiLWAnpWCqHEDuFCbfuek3RyakrDb3nS8PmsfNYjaBM2ACD4fwBgkPTO7b87ETeCsu7Ob4MUbb33X3MzeeJ1y0cPs7v3/jYIJVHHIhrHIWM1yJg9zxOnVxAD7z6Ml/t+EEYVWk/2P+EzcUXG4smrywg4Tw+P1bbh9YsWhmFEMZS4S6OkU4DMQGqIfIbBp9zJEzpZag0Z2d0nDve+555vpzQaNi+L5bv394Y1FJOaEqI4lqAcEr67IGOEHJzMXVyYXhBAK7ZWJGphwKU3Q3I3C77zsX/t3W15KBlVP7+aOfPFyEJrW5BzNmcwtDvMF7+4fzX9p++BTjylwEZoQfw6+972/eQVjV7vgXv3v0XWMC4CQlM1Y5ixnhSojNCOsyBBfVw2/e8puLhFW25Wv/adfwlOFywmhJpajXsmnXyW9P3Tw1ajWSsxnDXFBMQMyeCwvg4iUEcu66SMZBlaDRNObaJPOh737pVnFx48mOf/Fvj21xLpHYY2fRyNy7HmdnAchNkUGpU44OGCmxKRNDLHtQT5mpGEsXbHrp3v+vMngP8rSs7gT+Pec8z/v+bt099xvMMNyvMyJyFQNe1hAVBaNhzVrZSm2M2SpTManKJlulu3+kKqZ2o5FYsqKUWXFRQQlaRkET4wVZL7tugQ4riCAyMAxz65nu/l3e93mec852z6gLPTOt+Xwu/u0FcIqpajZ/7u61/lTFxcVJpR4zjBH24BesvzbN//c/3rSPsSIXIVXCCSycuv3v39EbY8n4de996LwqYxFxKYSjSNQIKyEyxTGkxAb41P8+8NczewhLes3N+YILJ1jmUZJiAU4AxzXj3d/snNX3BHF1IWJXImZ3g1MACFAPIVLJXFEhMygZQEwo0mJuw1l3/VFvLImpHd743l3n1MXNUldc1QMpWWF1AeAaYOxQEhhATmB1grORmiiD2T0jKpFPfXP+7Wt/MlXYpMyMb1t47elkmdjdJXc6hYNxGOL/G1cDmv3IO9cfYKzEOaCo4ATyqsvueeBNI8KihTNf83dPnT+LJaEkwlEk5lgZqRKOKcwOdOe+ctkbZwlLfM1H//H8TdLBMkMn87qQcMshrm4ei/G06WECG+AkVkIs7jCFsMPJFSzslmopYIUYlQgEiFGOzdqXfPqBN44LCPHwGb/xiWfOGYrB6qITZXOQUDSDQZkRnT1nCaZkBBcHQwETU3FHqRQ5hBxK/8hXr7hxLqJUOabVt33l7A1cJxEystBQT5kVoYfnWw3a+6E/XHeQsRKqUDTgBGi0Ldx9gxgWmb/x9h+fQw6ASAthiTObEVbgHEomLCHLLIAPvjP3HwZ7GIt86uAHp7tPP+5YZoDMda6JnJh5Fe9+rL52W7eUUFlhUiYlVpA7wx0OEjIPVuBNrBORiwu5EUhSgNumwZ03UK4T12P/zU89fqYrVUaqWs8XjmQSvTgZJLSiSmJQkLgLoEwAkVBKJAViwXIkJx98O//husdXT9xDWrPvVpl53CxHgjvDgMpbRpjC87j0dvWe/uA7NuxnnJxLTaqEE5msu+ILuy6YxZLD11zzrYu3zGMRWyEcI+aEFThzKYRjlNnQO/zlX3vdLOOo6b/4/oWTeRznAi/cHRO5kQZGHO97WC7fvmY0NmEDIMkDGARXNhIDoNyl4nBXq7OLBSVxB1FQHm245N7vX3gQ5C77X/2S779o/QTupacFvKiwGYsrdRTcOhMLGG7kEBQDKi09Le5SWJKBzXm8+tCXr3nNUByAU//mB8+dHBJSJqfC7CGxJKZwBl5ANjyy76kP/PvNzxFOyqV2M8YJ6YXf+NIlTljUrr3+q09swyIiLzjKWdwJK2GxQjjKC7P74Bvtn3dmCYt83WMf2WIUcZwzDRnirNpLHmGnPfzjXZnO6KaMaAZCcHVyIgcRCObg2KGUB7W1TERqUS2mUEyUPPt5X//SJaSCxG1947d+ulnUrHRMlYMlRM9KkRhWzDtFiY1AKZibMXsmVq+5wCIKmRWNQv0Hyp9M/XTQCJtuevS2DfWor6icioiHUjlxVymcghfamZ7asOfmt535nBFOhirSQjih4eYzP/MH3QaLaPS6D+zaMRjDwV5wDAUzrMSZLeMYVyafOnjf9dcdICyR6n17LzAQjrPRpLWplsmDpyBcDZ9Oj05ees5MHqWqaotEVTIQAGIzIjNCEG+4apnbIMkVnIndXCvj4dbt97w9JoIFXrjx1u9f1BuJOUqOCtMKUuckwVNsYyjEUFL36JFarrMFtdBGncTSaayjnkLM63f/8+tfNeuxzf2FPt/y1MUaWYmhZMEcJbCxemjwQocntWw49IHfufRgIpyEV6JKOCGtrrjrKzftxZL5s970vicvH2NJIRwj7lgRiWfCEoIyUfefwrstExbZ5vv/x6nqMTqWG4Oc2oZFFtgzE8Zx7eEftaMdq7DQIlgGIjKTOwxQZhEoczBNJtwymIsQIYUiDuZSXfmZr9140MAejpz5xvc9+eKhB1Yu7I5gHgZIWiQYg3OI2YhDslIpBXMhlNyPuRDcGExtdO09MPhzHvZH7IXXf/32zWh7qIJ5IBVoZYFA7AHHsX471d528Lr5IePEPLIq48QWtnc/+2Y2LNHXfvCH51YJYC/4GXEnrITYM37GCFPPfPOdl+4lLOm2/zWdMzpAGccJDqAFW2IlqE3F0oU9mdLOdTScxCgJAewKAgjuKlxQQQlNFA/IwgwnkMCjEfnwzM49b2J3dhO77pYfnFOVwFp7ARNKdgE5uWjM4OLM6qgKK2ptA5QCxcyNVSnEJpCjrH9019uueI5hVI/XDt+/cM0+HRO1ZpHcmCiTqDMCjuM+1TtId++/qT7EOCGvxJRwYmnt5fc+fO4slhy+4rovPnPhQSJGIRxFAsdKnAIS4Sg3inzfpj8dO5bY2jvuvehF/7P0ezhOMFf16KZBAXeF5pmpp/beP3/ZFl4oiAHFBcZMMGd3NXBH2iKB3ILBARVjUTJ3KI03Xf7FXecdJHerjlz56/c+c96sgpGd4A6wuyComrOFptTM0EAxEYygzkxC3IAsOqGwd+K9p7wzp24jcJ664/MXnb9PO6tNyZnhHoqJFBMKOJ6FqSOrwjf2/86W55xwAl5JSYyTSBd99c734Ki07qZ/eOzMYBxQcAwJHCsi8RY/56t/+NiHTt1DWOQzB95XX7y+SYOzHctlh3MwpZ4KCN6mjtNg7Xjft4dXb1s1nuSujMmZTYkdDJRSI0ZtQ3eSo2uEFyEnM6ubjrrk9sKvf/I9zK3Eomt/64uPnsUm3XFbUXGP0YXMHSaZhIS8BNJWXNBwP5lLQZpqQeOK2hpqcfVDe99z9k+rwh7ajXtujpfOcF6znUTJiEKmJFGDFwo4ARsNppuNP/rbf7PjYEs4nnbrUUM4ieHmF931zv4Ii2juVTt37dg+R8EzjnIQnLASEm8ZRxENxndf/buzhKOmbn7osguH0nvuMcdyf+QxexJSYvdSm1QJPkdbMfreoZfv6OfGU4B5iFoygrNXVnK/arQ0UbREqHXUWMlFxY21OrDtws+8c9WsiDvmX37Jrp2nLbAB0KAOVVf0x1mIyVKHE5u5SKrMAQEjRauQKMQJFVtt08N7rvp3Q3HRWKj+6P+54twRunsfJbCm/gQxS6c1cqOAE6ESu82m2Vve8Op2jnAc7XXmWpyM04s//oXfGxIWjTff9K49ZwGCQjiGsTKngIljiVNVf238/uogY5Gve+TWmReFIuNTLsVx1C20YgLStlO1oZOEvZrjWmn3fc9dvmYyLB0mLQQKRFBXF3Tq4bxBPSawi5HH5HUb3LotlW666rZ733aEVYjmN9/wvT1nudShtViE1I0Ew6Ynww6l4OakganhUro+4gAL2mt7Q6tzlSc9GfC9/p9WPdFnFbX1j3x48BLENNq2o5sLdRUOSBvhZBZwYuYVVk/ufvLNm/crYZnSqa1VcpzYwtb1t7+lyljkkzfd8uiOysUz4RiCY0UkmFdyAC5r9zzxV5c9y1gSqvfufeXZRwKTzoGwDHHxCPJgLMwoRbKCarPB1OE9C7NXns3znhkqHKgoXMA+6XZyISIx8WJMygViwYNmE8Nk08bbfzsY5aiUb/zIwy+mJKSu6mKoORiHhK6lWA21q4EMIUwqtBYyW5fd00FWN+4FnXni2f/8in0RRau2L3/z7G9saZs6NM1Eo7bKZEyTygnRAk7CEb1bPfjMDVeMjjBeSDt9bZQcJ5bXXf2F775iLwGgubPfcOu+80y8dRxD+CW8ojllxZJ+c8OfHXbCItv8z3ds3Zm0Ehn9FI5lriAHZ3bPoWtNoCLB1EJkDdP1wvcOXrZz01yLYOogMEAgL91BSRAzIzjc4RrVY2HOQpx59cs+/91r9wZ1ouE5r/3wnvMSl5aVDcwxZA+dhmxSWQmkGi2jNoltCEWpytZdk5tG3bgzsQHe8CfNaFCUjNb+08e3nW8JNY92J1RoCVHBBgUiAk7GjYQ2zf7dI6859WBLeD7r9j0XwsmMz9BPvUIMi7y89WOPnUNCjZPjVxOxoDiq3fLyW9oRY0lv8ld+6Zb9IsGCwLGcC6kyN6xRS8WSYy0YTXMuqGn0xN79L69ZndyzVrVZIYQoPW4yeQlwFi1VEjcuXCIbSijpNL/jlaydVor5v/70QzuIbeQcigYuonVJVWq63rSDajI11spa9Js0MHQcph6lnciki3HClt98d/jJdPEYxqvm/iZfsX6UVpN1y7QW7rozG3eoBSkHnJyT2Nr2/h//q8tXHSqE55EOUmHFSYzXXXX3H595GEsOXfG6z12+jTExchxDWJF1eJRZsWj26l+nQ4wlvuajX915wQI5R/P1jOUKVZw5pKoeNaGXrcuT1LPghaSlupqUr/3gmvNXJ8TcUhF2OJHGGrmtPIgyUogaXOts7Kk3isw83HjZZ//0jP3KJDp31XV37t4eu8OEFBmlyXURtaqTUWtLsWQv/SQ5dScUjErumXf2R+141qn5a65e82zXjZBkcPuXLzp3UgQh04Z+MiLhrKFw1VQED1iJox/i3B0PXnuRzBbCz7l0UHIHJ6U7H/jCf5wlLFJ56+eeOFswMRzjIKzIqu4oM5Z4LC3jqFXP/JfuJdMHCFw5zLGcIAtbiWpRiQpxDNpWUdxY2Gl6os9+dc95Wwceo6YGVVRXcNeb1CE2jXAqHo2NYhFPQQMMtvO797ybAHPJ8fWf/+G5pAVVW8S4UvYCqJJSr1U6sKFeGFVlON0xLbGgr6kfchbLXmMcZSG4h4K07fH38VX9uRJY4mTjECGLFBBRUUqIHrAiR+Wrph/70Y6rzu8cafEzzl1p0yDhZBY2n/XJ3+9NsIgOvfpl33pZB60RjjKQYyVadYalgyVUCn6m/5c/vuacwwTnyP40HMu8yjQTu2nuakEFLd4LbiRwJ6ROj6cmDz525tmnrKk4js0VVLgeUJtFPBO5Z/EsAAgEZaLEfGTr6Xf+wap5hnM58sqrHryuV9Qa4QxmbmMgLxw8kplupDR1KJcpPlzHpoALSy3zozUj7cYWysnFUU+6/on/+2unD03M61CeHVutnCmaaJYqq3DAytw5lnVl1yNnX3zRxjRfCEtsVd2M1+OkLF75yfveOiYsatf+3r99fA23jiUEBTtWorE3P+zjBWzzd2/ZdLEXAhDhXcJy5kQulsVS1By5FCIydYOgFIiAWhs+9My2bVvXdaW0hYndBlVJohpdORi7wohSLIFzVCajeNVdX/zdI8Qwnmx5y7ce3sxjxyIhM1N00HLydhSn2Oat00PwBSeNqVs0xbD6yKSgU9xq5cyuIWPjAx9afXkupVPQG6/DKsqCzMbeLYFqNwr4Zdyt1yf/4SNbzzv39H4zzATooE6t4OSGp8986qZYsIiOXH/xN27sFMdRXlgcK7E49ey+rXiBit47uvbUgwTAA4PYsUx2qimh8lgoaBs7lQ3XcSA3U4qe2ErcXD89O/+TNZtO3z4dM0qy3O9SU0xCbutYkrBRCSIGE1hQyPC0mTvf0m2djDF6zfn3v7k34ippxa1QkEkTQrbpkbEOQ5WbmSRt7I7S2ioZI4XpZw6cSvAmVE0mYvZ29fjDB960aT9JBomFDIZb7ZmIqgxyQcAv59Kx3qnNc08+cMYZ27eszeNWO3XTEk4urXvpV7599X4sGZ/ytnfsXVVwjOcQHCvxejC/N+D5bP1n/v78nSMs8UgoTlimOFXMWkKVxv26yRLgGiPD1YWVkJ2q6T6PD87ufvTULVvWTtWRql7VNhJ9Uok7VEKO2XlSt9RtCeSepy/99jdfvQckRnNb3vru3TNwZvWM0nYrV2XqZdkyP99BlDTRgkqlP9uTNnZK1Rs+fSWXYJRZyaw3X6/6xJ1n7RznuhozWS9bA62QmiqMJU4klAoBvwJXj1VaZ+2ju6a2nHXqljVTqXugxUrG59/3sWvIsYiG1536A8bPeCvBsBKrpnW34Hl8eu498dKZA4QlgZ3EsUzXkEJEw61M2k6nVZVu4wqAYYWkUGiaXpmqpePzD+6a2bhl45YNgw3d2cwgcPTMXfVQ6lY0i5mzMVopF3zjjldD2bXS8toPfY9DLhq87TXzEmNlJhj1jpTVdIQqGVaFvKnQmVQVpbru5WcFJJWlKFzyiNYf+G/l2u5+Mo2cOlXbATGBOmqd3PapBPGAX40pekXXIP/00e76LWdvm/FhIcdJjde/7LN/tn2WsGjh9OtvG1Q4iixFMazEaYB9xoZfoOm/+MHV5x0mLLGpyogdyzCnIoU7WgacirBno2jZSVhZSgsvJO7c0W7W2oZHflzPzFywacpG7kUMYAuWOi2T90rdZDFWDtRsePGXHrpgr0DUhttfftsUB4ZLLZ4Dm1lA6mjTn6C2lmtiL0EyzYyJLPemfJ85NyLuDustDOTWb73srMOl5qY2TMODkSi8TrlLAIgzBfzKzJmJI+nhPf9rTXd61ErByeUd93/8PYQl7jfdPgqEJWSpCo4VeZf2tIRfsE0Pv3/ti1EIS3qHmp4qYZkGkRNRRPDa1Co2436rmQIZBePgyYTgmmuOkJLUDz3zyLrcbzKZOOCqThoMJiGBVQpb9Lbs/M4n/jpCFLQwfcM/7A2MSlOg0ISoLqTg3E+I5masgd2yaK5aoULTsnvYHZt7tDYyqvUPfrB/CUoIKarOPNIMCkokSzlgFOIwCKkH/Au4E4M59ClPqtG4X3ByC6dc/LG3r5/HkkMvfeMnK8ISKk0ljhXlmTU/OjAzxs9V/pcL1289SFjkax+/vyYWLOdsQZwgZkCJAdBWI3vxOnpBgLO5uSngTsoVEXpFKQznuxGAczSXElNVTFTAkmJRp9FpF975+1tnQ6FqPHfl6z8ibO4otbU1KwUjR8zETqxwgZsvMmM458Gqxw+skyo7jInbwejm/TduGWpdPOSNP/xOJEg0BGKPhbXPOQQN+Jdxd7D1Oge8baaxAsdVt97xrgXHohTf8WkjLJHxoUHMWFGzeusTP3npGD+3+hN37bhwjKP6e+473Z7tGJYTYpBARRJRwPzqbk8XBrGuU3YooTEpTEIQ5CIEBFPpVE07bnvRk6Q6TiSkbsNs7OSeOk7u0tI1t3zmXUhxTN3h1tffFZNx0LYoag2V5qhtpZWruBBxYudg5C4iqe1ueHL31jGkFK15HHt33nHRRU3LPBm0/T33bre9HTM3igYnSrWbuf0/KsB4aozrAbsAAAAASUVORK5C\">"
      ],
      "text/plain": [
       "200×400 Array{Gray{Float32},2} with eltype ColorTypes.Gray{Float32}:\n",
       " Gray{Float32}(1.0)       Gray{Float32}(1.0)       …  Gray{Float32}(0.318742)\n",
       " Gray{Float32}(1.0)       Gray{Float32}(1.0)          Gray{Float32}(0.327808)\n",
       " Gray{Float32}(1.0)       Gray{Float32}(1.0)          Gray{Float32}(0.363609)\n",
       " Gray{Float32}(1.0)       Gray{Float32}(1.0)          Gray{Float32}(0.349784)\n",
       " Gray{Float32}(1.0)       Gray{Float32}(1.0)          Gray{Float32}(0.324726)\n",
       " Gray{Float32}(1.0)       Gray{Float32}(1.0)       …  Gray{Float32}(0.320803)\n",
       " Gray{Float32}(1.0)       Gray{Float32}(1.0)          Gray{Float32}(0.329951)\n",
       " Gray{Float32}(1.0)       Gray{Float32}(1.0)          Gray{Float32}(0.331158)\n",
       " Gray{Float32}(1.0)       Gray{Float32}(1.0)          Gray{Float32}(0.33049)\n",
       " Gray{Float32}(1.0)       Gray{Float32}(1.0)          Gray{Float32}(0.351185)\n",
       " Gray{Float32}(1.0)       Gray{Float32}(1.0)       …  Gray{Float32}(0.352421)\n",
       " Gray{Float32}(1.0)       Gray{Float32}(1.0)          Gray{Float32}(0.19914)\n",
       " Gray{Float32}(1.0)       Gray{Float32}(1.0)          Gray{Float32}(0.193329)\n",
       " ⋮                                                 ⋱  \n",
       " Gray{Float32}(0.501961)  Gray{Float32}(0.501961)     Gray{Float32}(0.169189)\n",
       " Gray{Float32}(0.501961)  Gray{Float32}(0.501961)     Gray{Float32}(0.278749)\n",
       " Gray{Float32}(0.501961)  Gray{Float32}(0.501961)  …  Gray{Float32}(0.270157)\n",
       " Gray{Float32}(0.501961)  Gray{Float32}(0.501961)     Gray{Float32}(0.144018)\n",
       " Gray{Float32}(0.501961)  Gray{Float32}(0.501961)     Gray{Float32}(0.176653)\n",
       " Gray{Float32}(0.501961)  Gray{Float32}(0.501961)     Gray{Float32}(0.185275)\n",
       " Gray{Float32}(0.501961)  Gray{Float32}(0.501961)     Gray{Float32}(0.178296)\n",
       " Gray{Float32}(0.501961)  Gray{Float32}(0.501961)  …  Gray{Float32}(0.185287)\n",
       " Gray{Float32}(0.501961)  Gray{Float32}(0.501961)     Gray{Float32}(0.172419)\n",
       " Gray{Float32}(0.501961)  Gray{Float32}(0.501961)     Gray{Float32}(0.154678)\n",
       " Gray{Float32}(0.501961)  Gray{Float32}(0.501961)     Gray{Float32}(0.175973)\n",
       " Gray{Float32}(0.501961)  Gray{Float32}(0.501961)     Gray{Float32}(0.170058)"
      ]
     },
     "execution_count": 54,
     "metadata": {},
     "output_type": "execute_result"
    }
   ],
   "source": [
    "[Colors.Gray.(m) Colors.Gray.(melhor_matriz_rank_n(m, 101))]"
   ]
  },
  {
   "cell_type": "code",
   "execution_count": 55,
   "id": "3dd56765-224c-4434-a31d-eea01d73d762",
   "metadata": {},
   "outputs": [
    {
     "data": {
      "text/plain": [
       "0.9902314f0"
      ]
     },
     "execution_count": 55,
     "metadata": {},
     "output_type": "execute_result"
    }
   ],
   "source": [
    "semelhanca(m, melhor_matriz_rank_n(m, 101))"
   ]
  },
  {
   "cell_type": "markdown",
   "id": "90614b1b-f4a8-4153-a9f3-f1de180d05b7",
   "metadata": {},
   "source": [
    "99% de semelhança com a aproximação de posto 101."
   ]
  },
  {
   "cell_type": "markdown",
   "id": "42f06231-399e-4f01-a46e-594000534ada",
   "metadata": {},
   "source": [
    "k-means"
   ]
  },
  {
   "cell_type": "markdown",
   "id": "e74da674-546a-44d5-b281-80df9a6a0b38",
   "metadata": {
    "tags": []
   },
   "source": [
    "## 15."
   ]
  },
  {
   "cell_type": "markdown",
   "id": "2534631f-0bf4-42c2-a88f-a808bb1aadf5",
   "metadata": {
    "jp-MarkdownHeadingCollapsed": true,
    "tags": []
   },
   "source": [
    "### (a)"
   ]
  },
  {
   "cell_type": "markdown",
   "id": "2a702f60-ef06-4c5b-a751-5e696896708b",
   "metadata": {},
   "source": [
    "Distância até o plano: $||a_3 - proj_{<a_1 a_2>} (a_3)||$"
   ]
  },
  {
   "cell_type": "markdown",
   "id": "771f9f68-f57a-42ba-85a3-95e98353807e",
   "metadata": {},
   "source": [
    "$$\n",
    "proj_{<a_1 a_2>} (a_3) = \\frac{a_3 \\cdot a_1}{||a_1||^2} a_1 + \\frac{a_3 \\cdot a_2}{||a_2||^2} a_2\n",
    "$$"
   ]
  },
  {
   "cell_type": "markdown",
   "id": "030dac16-b999-4a79-a4d1-dcac40d33aef",
   "metadata": {},
   "source": [
    "$$\n",
    "proj_{<a_1 a_2>} (a_3) = \\frac{3q_1 \\cdot 5q_1}{||a_1||^2} a_1 + \\frac{(4q_1 + 7q_2) \\cdot (5q_1 + 6q_2)}{||a_2||^2} a_2\n",
    "$$"
   ]
  },
  {
   "cell_type": "markdown",
   "id": "8131b27b-1876-4cbc-addf-f603e09ab4a4",
   "metadata": {},
   "source": [
    "$$\n",
    "proj_{<a_1 a_2>} (a_3) = \\frac{3q_1 \\cdot 5q_1}{||a_1||^2} a_1 + \\frac{4q_1 (5q_1 + 6q_2) + 7q_2 (5q_1 + 6q_2)}{||a_2||^2} a_2\n",
    "$$"
   ]
  },
  {
   "cell_type": "markdown",
   "id": "768ee85c-bae0-497b-a0b2-8409374d1842",
   "metadata": {},
   "source": [
    "$$\n",
    "proj_{<a_1 a_2>} (a_3) = \\frac{3q_1 \\cdot 5q_1}{||a_1||^2} a_1 + \\frac{4q_1 \\cdot 5q_1 + 7q_2 \\cdot 6 q_2}{||a_2||^2} a_2\n",
    "$$"
   ]
  },
  {
   "cell_type": "markdown",
   "id": "1de9714e-6f46-4f8d-ad3d-a76a9ba32ec9",
   "metadata": {},
   "source": [
    "$$\n",
    "proj_{<a_1 a_2>} (a_3) = \\frac{15}{||a_1||^2} a_1 + \\frac{62}{||a_2||^2} a_2\n",
    "$$"
   ]
  },
  {
   "cell_type": "markdown",
   "id": "5bd6ada8-ffea-4bb9-ba3c-2a7ae7635bbc",
   "metadata": {},
   "source": [
    "Calculando $||a_2||^2$:"
   ]
  },
  {
   "cell_type": "markdown",
   "id": "ebb6718b-d928-49e6-a1c6-fdd642e14b5f",
   "metadata": {},
   "source": [
    "$$\n",
    "||a_2||^2 = ||4q_1 + 7q_2||^2 \\\\\n",
    "||a_2||^2 = 65\n",
    "$$"
   ]
  },
  {
   "cell_type": "markdown",
   "id": "af2e0ac8-7d1a-46ff-bca1-8b2cc41d9b9f",
   "metadata": {},
   "source": [
    "$$\n",
    "proj_{<a_1 a_2>} (a_3) = \\frac{15}{9} a_1 + \\frac{62}{65} a_2\n",
    "$$"
   ]
  },
  {
   "cell_type": "markdown",
   "id": "ee5e6891-3bfe-469d-b220-c0ce23b86606",
   "metadata": {},
   "source": [
    "Voltando a primeira equação:"
   ]
  },
  {
   "cell_type": "markdown",
   "id": "9f4ec4f7-cc52-41cb-b2ee-141c3b872705",
   "metadata": {},
   "source": [
    "$$\n",
    "||a_3 - proj_{<a_1 a_2>} (a_3)||\n",
    "$$"
   ]
  },
  {
   "cell_type": "markdown",
   "id": "4af0b77a-558a-4cde-b720-6019cc510cae",
   "metadata": {},
   "source": [
    "$$\n",
    "||a_3 - (\\frac{15}{9} a_1 + \\frac{62}{65} a_2)||\n",
    "$$"
   ]
  },
  {
   "cell_type": "markdown",
   "id": "4f1d96f3-5b9d-4f10-9c43-bdf8c2f1c9b2",
   "metadata": {},
   "source": [
    "$$\n",
    "||5q_1 + 6q_2 + 9q_3 - (5 q_1 + \\frac{62}{65} (4q_1 + 7q_2))||\n",
    "$$"
   ]
  },
  {
   "cell_type": "markdown",
   "id": "bb7d9fe1-ba88-4374-a0f4-b16bcd09a733",
   "metadata": {},
   "source": [
    "$$\n",
    "||6q_2 + 9q_3 - \\frac{62\\cdot 4}{65} q_1 - \\frac{62\\cdot 7}{65} q_2||\n",
    "$$"
   ]
  },
  {
   "cell_type": "markdown",
   "id": "29d96284-a9de-4f25-9876-ae2f8cef373e",
   "metadata": {},
   "source": [
    "$$\n",
    "||-\\frac{248}{65}q_1 - \\frac{44}{65}q_2 + 9q_3|| = \\sqrt{96}\n",
    "$$"
   ]
  },
  {
   "cell_type": "code",
   "execution_count": 125,
   "id": "81d1b591-1518-4b03-9831-46578cfba39d",
   "metadata": {},
   "outputs": [
    {
     "data": {
      "text/plain": [
       "96.01538461538462"
      ]
     },
     "execution_count": 125,
     "metadata": {},
     "output_type": "execute_result"
    }
   ],
   "source": [
    "(248/65)^2 + (44/65)^2 + 9^2"
   ]
  },
  {
   "cell_type": "markdown",
   "id": "6716b572-8aac-43f4-920b-3723ed2cdd2c",
   "metadata": {
    "jp-MarkdownHeadingCollapsed": true,
    "tags": []
   },
   "source": [
    "### (b)"
   ]
  },
  {
   "cell_type": "markdown",
   "id": "725518bc-1dd0-4181-8285-7f623b9a8711",
   "metadata": {},
   "source": [
    "Como $a_1 = 3q_1$ e $q_1$ é unitário, $||a_1|| = 3$"
   ]
  },
  {
   "cell_type": "markdown",
   "id": "01330f67-9d84-473b-ae39-313419872831",
   "metadata": {
    "jp-MarkdownHeadingCollapsed": true,
    "tags": []
   },
   "source": [
    "### (c)"
   ]
  },
  {
   "cell_type": "markdown",
   "id": "07aaf841-e39c-4092-a543-5a99fe552d07",
   "metadata": {},
   "source": [
    "$$\n",
    "|| proj_{<a_1 a_2>} (a_3) ||\n",
    "$$"
   ]
  },
  {
   "cell_type": "markdown",
   "id": "12e53918-a469-477d-90ae-8389a142cc1c",
   "metadata": {},
   "source": [
    "Usando o que foi encontrado da letra (a):"
   ]
  },
  {
   "cell_type": "markdown",
   "id": "cba972c3-c63d-456d-9aea-89a1fb7e0552",
   "metadata": {},
   "source": [
    "$$\n",
    "|| proj_{<a_1 a_2>} (a_3) || = ||\\frac{15}{9} a_1 + \\frac{62}{65} a_2||\n",
    "$$"
   ]
  },
  {
   "cell_type": "markdown",
   "id": "b2d66d25-3d69-4d42-9835-75579d5e3d12",
   "metadata": {},
   "source": [
    "$$\n",
    "|| proj_{<a_1 a_2>} (a_3) || = ||5 q_1 + \\frac{62}{65} (4q_1 + 7q_2)||\n",
    "$$"
   ]
  },
  {
   "cell_type": "markdown",
   "id": "a8049298-bb60-4dbf-9d85-b19d09608a8f",
   "metadata": {},
   "source": [
    "$$\n",
    "|| proj_{<a_1 a_2>} (a_3) || = ||5 q_1 + \\frac{248}{65} q_1 + \\frac{434}{65} q_2||\n",
    "$$"
   ]
  },
  {
   "cell_type": "markdown",
   "id": "e9c9665d-cbc2-4fe8-8877-5641940635b5",
   "metadata": {},
   "source": [
    "$$\n",
    "|| proj_{<a_1 a_2>} (a_3) || = ||\\frac{573}{65} q_1 + \\frac{434}{65} q_2||\n",
    "$$"
   ]
  },
  {
   "cell_type": "code",
   "execution_count": 130,
   "id": "89b9de9c-2424-499d-8907-ea342f28e352",
   "metadata": {},
   "outputs": [
    {
     "data": {
      "text/plain": [
       "11.058585248227175"
      ]
     },
     "execution_count": 130,
     "metadata": {},
     "output_type": "execute_result"
    }
   ],
   "source": [
    "((573//65)^2 + (434//65)^2)^(1/2)"
   ]
  },
  {
   "cell_type": "markdown",
   "id": "06780f43-84fe-40c9-8902-a417a65757f0",
   "metadata": {},
   "source": [
    "$$\n",
    "|| proj_{<a_1 a_2>} (a_3) || = 11.06\n",
    "$$"
   ]
  },
  {
   "cell_type": "markdown",
   "id": "31f2fad2-ce6d-41a9-8fcc-f43491d43a5b",
   "metadata": {
    "jp-MarkdownHeadingCollapsed": true,
    "tags": []
   },
   "source": [
    "### (d)"
   ]
  },
  {
   "cell_type": "markdown",
   "id": "2a886123-ffd6-4023-8549-4c89dbc8fa44",
   "metadata": {},
   "source": [
    "$$\n",
    "det(A) = det(Q)\\ det(R) \\\\\n",
    "det(A) = \\pm det(R)\n",
    "$$"
   ]
  },
  {
   "cell_type": "code",
   "execution_count": 81,
   "id": "c1db4773-e1d2-4aa3-aab8-336167d8f5fb",
   "metadata": {},
   "outputs": [
    {
     "data": {
      "text/plain": [
       "189.0"
      ]
     },
     "execution_count": 81,
     "metadata": {},
     "output_type": "execute_result"
    }
   ],
   "source": [
    "LinearAlgebra.det([3 4 5; 0 7 6; 0 0 9])"
   ]
  },
  {
   "cell_type": "markdown",
   "id": "5fe962f3-22bf-442e-9467-5572a6083bc6",
   "metadata": {},
   "source": [
    "$$\n",
    "det(A) = \\pm 189\n",
    "$$"
   ]
  },
  {
   "cell_type": "markdown",
   "id": "097974e0-d3f5-4026-8821-eb0a493b88d9",
   "metadata": {},
   "source": [
    "### (e)"
   ]
  },
  {
   "cell_type": "markdown",
   "id": "6d1124b4-9004-47a1-9538-cd97340c2fc7",
   "metadata": {},
   "source": [
    "$$\n",
    "||proj_{a_1} (a_2)|| = ||\\frac{a_1 \\cdot a_2}{||a_1||^2} a_1||\n",
    "$$"
   ]
  },
  {
   "cell_type": "markdown",
   "id": "ad89e149-2efd-44b4-afb7-da30221653e4",
   "metadata": {},
   "source": [
    "$$\n",
    "||proj_{a_1} (a_2)|| = ||\\frac{3q_1 \\cdot (4q_1 + 7q_2)}{||a_1||^2} a_1||\n",
    "$$"
   ]
  },
  {
   "cell_type": "markdown",
   "id": "f65d90f1-00ed-441f-bff1-7957f6f3092e",
   "metadata": {},
   "source": [
    "$$\n",
    "||proj_{a_1} (a_2)|| = ||\\frac{12 (q_1 \\cdot q_1)}{9} a_1||\n",
    "$$"
   ]
  },
  {
   "cell_type": "markdown",
   "id": "f38c7121-75b2-4af6-8972-c054480cd770",
   "metadata": {},
   "source": [
    "$$\n",
    "||proj_{a_1} (a_2)|| = ||\\frac{12}{9} 3 q_1||\n",
    "$$"
   ]
  },
  {
   "cell_type": "markdown",
   "id": "8fb0f270-442a-4248-9afe-131e88e9577a",
   "metadata": {},
   "source": [
    "$$\n",
    "||proj_{a_1} (a_2)|| = ||4 q_1||\n",
    "$$"
   ]
  },
  {
   "cell_type": "markdown",
   "id": "3b16f61b-cad8-4a55-a064-464c134a77cd",
   "metadata": {},
   "source": [
    "$$\n",
    "||proj_{a_1} (a_2)|| = 4\n",
    "$$"
   ]
  },
  {
   "cell_type": "markdown",
   "id": "97d3459a-fdd8-4006-81f8-cc12d6dbb5f3",
   "metadata": {
    "jp-MarkdownHeadingCollapsed": true,
    "tags": []
   },
   "source": [
    "### (f)"
   ]
  },
  {
   "cell_type": "markdown",
   "id": "30082343-ef17-45ad-8b32-cf2622e0dcd3",
   "metadata": {},
   "source": [
    "$$\n",
    "a_3 = 5 q_1 + 6 q_2 + 9 q_3 \\\\\n",
    "||a_3||^2 = ||5 q_1 + 6 q_2 + 9 q_3||^2 \\\\\n",
    "||a_3||^2 = 25||q_1||^2 + 36||q_2||^2 + 81||q_3||^2 \\\\\n",
    "||a_3||^2 = 25 + 36 + 81 \\\\\n",
    "||a_3|| = \\sqrt{142}\n",
    "$$"
   ]
  },
  {
   "cell_type": "markdown",
   "id": "0f12d548-678f-4c73-b473-06efb3933a8d",
   "metadata": {},
   "source": [
    "OBS: eu pude separar a soma das normas pois os vetores $q_i$ são ortogonais."
   ]
  },
  {
   "cell_type": "markdown",
   "id": "42e643a1-0dbf-4a55-ab49-e684a8628b21",
   "metadata": {
    "jp-MarkdownHeadingCollapsed": true,
    "tags": []
   },
   "source": [
    "### (g)"
   ]
  },
  {
   "cell_type": "markdown",
   "id": "3db28626-23c7-4a52-a9f8-7fc02cbd7a18",
   "metadata": {},
   "source": [
    "Uma matriz ortogonal pode ser definida como uma matriz com a seguinte propriedade:\n",
    "$$\n",
    "A^{-1} = A^t\n",
    "$$\n",
    "Então a inversa da matriz $Q$ formada por $q_1,q_2,q_3$ nas colunas é a transposta dessa matriz $Q$."
   ]
  },
  {
   "cell_type": "markdown",
   "id": "f33a45f8-9c51-4dd9-b38a-5e320fdddbcf",
   "metadata": {},
   "source": [
    "### (h)"
   ]
  }
 ],
 "metadata": {
  "kernelspec": {
   "display_name": "Julia 1.8.5",
   "language": "julia",
   "name": "julia-1.8"
  },
  "language_info": {
   "file_extension": ".jl",
   "mimetype": "application/julia",
   "name": "julia",
   "version": "1.8.5"
  }
 },
 "nbformat": 4,
 "nbformat_minor": 5
}
