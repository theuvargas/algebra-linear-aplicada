{
 "cells": [
  {
   "cell_type": "markdown",
   "id": "8c9ab3ed-2f05-4829-afa0-064ed4c8ff61",
   "metadata": {},
   "source": [
    "A é a base e contêm os padrões. Os padrões são as colunas.\n",
    "Em B, coluna à coluna são escolhidos os padrões que serão utilizados.\n",
    "\n",
    "Então, na primeira coluna de B foi escolhido utilizar (na primeira coluna da matriz final) 1 do primeiro padrão e 0 do segundo.\n",
    "Na terceira coluna de B foi escolhido utilizar 1 do primeiro padrão e 1 do segundo."
   ]
  },
  {
   "cell_type": "code",
   "execution_count": 59,
   "id": "ef234c88-0530-4ad1-81af-baebcf0f65d5",
   "metadata": {},
   "outputs": [
    {
     "data": {
      "text/plain": [
       "7×11 Matrix{Int64}:\n",
       " 1  1  2  0  2  1  1  1  1  1  1\n",
       " 1  1  2  0  2  1  1  1  1  1  1\n",
       " 2  2  2  0  2  2  2  2  2  2  2\n",
       " 0  0  0  0  0  0  0  0  0  0  0\n",
       " 2  2  2  0  2  2  2  2  2  2  2\n",
       " 1  1  2  0  2  1  1  1  1  1  1\n",
       " 1  1  2  0  2  1  1  1  1  1  1"
      ]
     },
     "execution_count": 59,
     "metadata": {},
     "output_type": "execute_result"
    }
   ],
   "source": [
    "A = [\n",
    "    1 1\n",
    "    1 1\n",
    "    2 0\n",
    "    0 0\n",
    "    2 0\n",
    "    1 1\n",
    "    1 1\n",
    "]\n",
    "\n",
    "B = [\n",
    "    1 1 1 0 1 1 1 1 1 1 1\n",
    "    0 0 1 0 1 0 0 0 0 0 0\n",
    "]\n",
    "\n",
    "A*B"
   ]
  }
 ],
 "metadata": {
  "kernelspec": {
   "display_name": "Julia 1.8.5",
   "language": "julia",
   "name": "julia-1.8"
  },
  "language_info": {
   "file_extension": ".jl",
   "mimetype": "application/julia",
   "name": "julia",
   "version": "1.8.5"
  }
 },
 "nbformat": 4,
 "nbformat_minor": 5
}
